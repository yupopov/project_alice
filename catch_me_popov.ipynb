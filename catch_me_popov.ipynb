{
  "nbformat": 4,
  "nbformat_minor": 0,
  "metadata": {
    "colab": {
      "name": "catch_me_popov.ipynb",
      "provenance": [],
      "collapsed_sections": [],
      "include_colab_link": true
    },
    "kernelspec": {
      "display_name": "Python 3",
      "language": "python",
      "name": "python3"
    },
    "language_info": {
      "codemirror_mode": {
        "name": "ipython",
        "version": 3
      },
      "file_extension": ".py",
      "mimetype": "text/x-python",
      "name": "python",
      "nbconvert_exporter": "python",
      "pygments_lexer": "ipython3",
      "version": "3.7.7"
    }
  },
  "cells": [
    {
      "cell_type": "markdown",
      "metadata": {
        "id": "view-in-github",
        "colab_type": "text"
      },
      "source": [
        "<a href=\"https://colab.research.google.com/github/yupopov/project_alice/blob/master/catch_me_popov.ipynb\" target=\"_parent\"><img src=\"https://colab.research.google.com/assets/colab-badge.svg\" alt=\"Open In Colab\"/></a>"
      ]
    },
    {
      "cell_type": "markdown",
      "source": [
        "# Catch Me If You Can (\"Alice\")\n",
        "## Intruder Detection through Webpage Session Tracking\n",
        "\n",
        "Web-user identification is a hot research topic on the brink of sequential pattern mining and behavioral psychology.\n",
        "\n",
        "Here we try to identify a user on the Internet tracking his/her sequence of attended Web pages. The algorithm to be built will take a webpage session (a sequence of webpages attended consequently by the same person) and predict whether it belongs to Alice or somebody else.\n",
        "\n",
        "The data comes from Blaise Pascal University proxy servers. Paper \"A Tool for Classification of Sequential Data\" by Giacomo Kahn, Yannick Loiseau and Olivier Raynaud."
      ],
      "metadata": {
        "id": "ASOiNhRz7tVb"
      }
    },
    {
      "cell_type": "markdown",
      "metadata": {
        "id": "R4GV649-BSR1"
      },
      "source": [
        "## 1. Data loading and cleaning"
      ]
    },
    {
      "cell_type": "code",
      "metadata": {
        "colab": {
          "base_uri": "https://localhost:8080/"
        },
        "id": "1l28UuR-dgX8",
        "outputId": "2d80e6cb-4333-4203-809d-128d64b41e27"
      },
      "source": [
        "# Для запуска на colab\n",
        "!git clone https://github.com/yupopov/project_alice\n",
        "import os\n",
        "os.chdir('project_alice')"
      ],
      "execution_count": 1,
      "outputs": [
        {
          "output_type": "stream",
          "name": "stdout",
          "text": [
            "Cloning into 'project_alice'...\n",
            "remote: Enumerating objects: 8, done.\u001b[K\n",
            "remote: Counting objects: 100% (8/8), done.\u001b[K\n",
            "remote: Compressing objects: 100% (7/7), done.\u001b[K\n",
            "remote: Total 8 (delta 0), reused 8 (delta 0), pack-reused 0\u001b[K\n",
            "Unpacking objects: 100% (8/8), done.\n"
          ]
        }
      ]
    },
    {
      "cell_type": "code",
      "metadata": {
        "id": "BD1hA7m3BSR7",
        "colab": {
          "base_uri": "https://localhost:8080/"
        },
        "outputId": "e2faf1b2-f879-497a-d9fc-e764a528d4d3"
      },
      "source": [
        "import warnings\n",
        "warnings.filterwarnings('ignore')\n",
        "%load_ext autoreload\n",
        "%autoreload 2\n",
        "\n",
        "import re\n",
        "import os\n",
        "import pickle\n",
        "import numpy as np\n",
        "import pandas as pd\n",
        "from tqdm import tqdm_notebook\n",
        "from itertools import chain, combinations\n",
        "from joblib import Memory\n",
        "from shutil import rmtree\n",
        "\n",
        "from IPython.display import display_html, display\n",
        "import matplotlib.pyplot as plt\n",
        "import seaborn as sns\n",
        "\n",
        "import scipy.stats as stats\n",
        "from scipy.sparse import csr_matrix, hstack, vstack\n",
        "\n",
        "from sklearn.base import clone\n",
        "from sklearn.model_selection import train_test_split, TimeSeriesSplit, cross_val_score, cross_validate, GridSearchCV\n",
        "from sklearn.feature_selection import SelectFromModel # , mutual_info_classif\n",
        "# from sklearn.inspection import permutation_importance\n",
        "from sklearn.linear_model import SGDClassifier, LogisticRegression, LogisticRegressionCV\n",
        "# from sklearn.calibration import CalibratedClassifierCV\n",
        "from sklearn.svm import LinearSVC\n",
        "from sklearn.model_selection import GridSearchCV, StratifiedKFold\n",
        "from sklearn.ensemble import RandomForestClassifier\n",
        "from sklearn.feature_extraction.text import TfidfVectorizer\n",
        "from sklearn.metrics import roc_auc_score\n",
        "from sklearn.pipeline import Pipeline\n",
        "# from sklearn.preprocessing import PolynomialFeatures\n",
        "\n",
        "! pip -q install eli5\n",
        "import eli5\n",
        "\n",
        "import statsmodels.formula.api as smf\n",
        "from statsmodels.stats.outliers_influence import variance_inflation_factor\n",
        "from statsmodels.tools.tools import add_constant"
      ],
      "execution_count": 2,
      "outputs": [
        {
          "output_type": "stream",
          "name": "stdout",
          "text": [
            "\u001b[?25l\r\u001b[K     |███                             | 10 kB 13.8 MB/s eta 0:00:01\r\u001b[K     |██████▏                         | 20 kB 19.5 MB/s eta 0:00:01\r\u001b[K     |█████████▎                      | 30 kB 11.4 MB/s eta 0:00:01\r\u001b[K     |████████████▍                   | 40 kB 4.8 MB/s eta 0:00:01\r\u001b[K     |███████████████▌                | 51 kB 5.4 MB/s eta 0:00:01\r\u001b[K     |██████████████████▌             | 61 kB 5.2 MB/s eta 0:00:01\r\u001b[K     |█████████████████████▋          | 71 kB 5.9 MB/s eta 0:00:01\r\u001b[K     |████████████████████████▊       | 81 kB 5.8 MB/s eta 0:00:01\r\u001b[K     |███████████████████████████▉    | 92 kB 6.5 MB/s eta 0:00:01\r\u001b[K     |███████████████████████████████ | 102 kB 5.6 MB/s eta 0:00:01\r\u001b[K     |████████████████████████████████| 106 kB 5.6 MB/s \n",
            "\u001b[?25h"
          ]
        }
      ]
    },
    {
      "cell_type": "code",
      "metadata": {
        "id": "WDjBJI6YBSR_"
      },
      "source": [
        "PATH_TO_DATA = 'data'"
      ],
      "execution_count": 3,
      "outputs": []
    },
    {
      "cell_type": "markdown",
      "metadata": {
        "id": "U7Ijt6y4BSSA"
      },
      "source": [
        "First we read the dictionary containing the sites\n",
        "and the corresponding numbers and invert it."
      ]
    },
    {
      "cell_type": "code",
      "metadata": {
        "colab": {
          "base_uri": "https://localhost:8080/",
          "height": 35
        },
        "id": "cM5q4mpyBSSA",
        "outputId": "fe10dae2-c0ba-43c8-fdcf-93759a49b364"
      },
      "source": [
        "with open(os.path.join(PATH_TO_DATA, 'site_dic.pkl'), 'rb') as s:\n",
        "    site_dict = pickle.load(s)\n",
        "site_dict = {v: k for k, v in site_dict.items()}\n",
        "site_dict[0] = 'unknown'\n",
        "site_dict[1]"
      ],
      "execution_count": 4,
      "outputs": [
        {
          "output_type": "execute_result",
          "data": {
            "application/vnd.google.colaboratory.intrinsic+json": {
              "type": "string"
            },
            "text/plain": [
              "'fpdownload2.macromedia.com'"
            ]
          },
          "metadata": {},
          "execution_count": 4
        }
      ]
    },
    {
      "cell_type": "markdown",
      "metadata": {
        "id": "Ly5TPGHzBSSB"
      },
      "source": [
        "Let's read the data. We will sort the rows in the train\n",
        "dataframe because the data has temporal structure we would like\n",
        "to preserve (similar to what one does when analyzing time series)."
      ]
    },
    {
      "cell_type": "code",
      "metadata": {
        "id": "88GyKclXBSSC"
      },
      "source": [
        "sites = [f'site{i}' for i in range (1, 11)]\n",
        "times = [f'time{i}' for i in range (1, 10)]\n",
        "\n",
        "train_df = pd.read_csv(os.path.join(PATH_TO_DATA, 'train_sessions.csv'),\n",
        "                       index_col='session_id', parse_dates=times)\n",
        "test_df = pd.read_csv(os.path.join(PATH_TO_DATA, 'test_sessions.csv'),\n",
        "                      index_col='session_id', parse_dates=times)\n",
        "\n",
        "train_df.sort_values(by='time1', inplace=True)"
      ],
      "execution_count": 5,
      "outputs": []
    },
    {
      "cell_type": "code",
      "metadata": {
        "colab": {
          "base_uri": "https://localhost:8080/",
          "height": 475
        },
        "id": "C9gdMMLdBSSD",
        "outputId": "355ac024-cc68-4774-f05f-6212409ccc0e"
      },
      "source": [
        "train_df.head()"
      ],
      "execution_count": 6,
      "outputs": [
        {
          "output_type": "execute_result",
          "data": {
            "text/html": [
              "\n",
              "  <div id=\"df-8d2194d1-dc80-49ae-bd51-cd9ba11e376b\">\n",
              "    <div class=\"colab-df-container\">\n",
              "      <div>\n",
              "<style scoped>\n",
              "    .dataframe tbody tr th:only-of-type {\n",
              "        vertical-align: middle;\n",
              "    }\n",
              "\n",
              "    .dataframe tbody tr th {\n",
              "        vertical-align: top;\n",
              "    }\n",
              "\n",
              "    .dataframe thead th {\n",
              "        text-align: right;\n",
              "    }\n",
              "</style>\n",
              "<table border=\"1\" class=\"dataframe\">\n",
              "  <thead>\n",
              "    <tr style=\"text-align: right;\">\n",
              "      <th></th>\n",
              "      <th>site1</th>\n",
              "      <th>time1</th>\n",
              "      <th>site2</th>\n",
              "      <th>time2</th>\n",
              "      <th>site3</th>\n",
              "      <th>time3</th>\n",
              "      <th>site4</th>\n",
              "      <th>time4</th>\n",
              "      <th>site5</th>\n",
              "      <th>time5</th>\n",
              "      <th>site6</th>\n",
              "      <th>time6</th>\n",
              "      <th>site7</th>\n",
              "      <th>time7</th>\n",
              "      <th>site8</th>\n",
              "      <th>time8</th>\n",
              "      <th>site9</th>\n",
              "      <th>time9</th>\n",
              "      <th>site10</th>\n",
              "      <th>time10</th>\n",
              "      <th>target</th>\n",
              "    </tr>\n",
              "    <tr>\n",
              "      <th>session_id</th>\n",
              "      <th></th>\n",
              "      <th></th>\n",
              "      <th></th>\n",
              "      <th></th>\n",
              "      <th></th>\n",
              "      <th></th>\n",
              "      <th></th>\n",
              "      <th></th>\n",
              "      <th></th>\n",
              "      <th></th>\n",
              "      <th></th>\n",
              "      <th></th>\n",
              "      <th></th>\n",
              "      <th></th>\n",
              "      <th></th>\n",
              "      <th></th>\n",
              "      <th></th>\n",
              "      <th></th>\n",
              "      <th></th>\n",
              "      <th></th>\n",
              "      <th></th>\n",
              "    </tr>\n",
              "  </thead>\n",
              "  <tbody>\n",
              "    <tr>\n",
              "      <th>21669</th>\n",
              "      <td>56</td>\n",
              "      <td>2013-01-12 08:05:57</td>\n",
              "      <td>55.0</td>\n",
              "      <td>2013-01-12 08:05:57</td>\n",
              "      <td>NaN</td>\n",
              "      <td>NaT</td>\n",
              "      <td>NaN</td>\n",
              "      <td>NaT</td>\n",
              "      <td>NaN</td>\n",
              "      <td>NaT</td>\n",
              "      <td>NaN</td>\n",
              "      <td>NaT</td>\n",
              "      <td>NaN</td>\n",
              "      <td>NaT</td>\n",
              "      <td>NaN</td>\n",
              "      <td>NaT</td>\n",
              "      <td>NaN</td>\n",
              "      <td>NaT</td>\n",
              "      <td>NaN</td>\n",
              "      <td>NaN</td>\n",
              "      <td>0</td>\n",
              "    </tr>\n",
              "    <tr>\n",
              "      <th>54843</th>\n",
              "      <td>56</td>\n",
              "      <td>2013-01-12 08:37:23</td>\n",
              "      <td>55.0</td>\n",
              "      <td>2013-01-12 08:37:23</td>\n",
              "      <td>56.0</td>\n",
              "      <td>2013-01-12 09:07:07</td>\n",
              "      <td>55.0</td>\n",
              "      <td>2013-01-12 09:07:09</td>\n",
              "      <td>NaN</td>\n",
              "      <td>NaT</td>\n",
              "      <td>NaN</td>\n",
              "      <td>NaT</td>\n",
              "      <td>NaN</td>\n",
              "      <td>NaT</td>\n",
              "      <td>NaN</td>\n",
              "      <td>NaT</td>\n",
              "      <td>NaN</td>\n",
              "      <td>NaT</td>\n",
              "      <td>NaN</td>\n",
              "      <td>NaN</td>\n",
              "      <td>0</td>\n",
              "    </tr>\n",
              "    <tr>\n",
              "      <th>77292</th>\n",
              "      <td>946</td>\n",
              "      <td>2013-01-12 08:50:13</td>\n",
              "      <td>946.0</td>\n",
              "      <td>2013-01-12 08:50:14</td>\n",
              "      <td>951.0</td>\n",
              "      <td>2013-01-12 08:50:15</td>\n",
              "      <td>946.0</td>\n",
              "      <td>2013-01-12 08:50:15</td>\n",
              "      <td>946.0</td>\n",
              "      <td>2013-01-12 08:50:16</td>\n",
              "      <td>945.0</td>\n",
              "      <td>2013-01-12 08:50:16</td>\n",
              "      <td>948.0</td>\n",
              "      <td>2013-01-12 08:50:16</td>\n",
              "      <td>784.0</td>\n",
              "      <td>2013-01-12 08:50:16</td>\n",
              "      <td>949.0</td>\n",
              "      <td>2013-01-12 08:50:17</td>\n",
              "      <td>946.0</td>\n",
              "      <td>2013-01-12 08:50:17</td>\n",
              "      <td>0</td>\n",
              "    </tr>\n",
              "    <tr>\n",
              "      <th>114021</th>\n",
              "      <td>945</td>\n",
              "      <td>2013-01-12 08:50:17</td>\n",
              "      <td>948.0</td>\n",
              "      <td>2013-01-12 08:50:17</td>\n",
              "      <td>949.0</td>\n",
              "      <td>2013-01-12 08:50:18</td>\n",
              "      <td>948.0</td>\n",
              "      <td>2013-01-12 08:50:18</td>\n",
              "      <td>945.0</td>\n",
              "      <td>2013-01-12 08:50:18</td>\n",
              "      <td>946.0</td>\n",
              "      <td>2013-01-12 08:50:18</td>\n",
              "      <td>947.0</td>\n",
              "      <td>2013-01-12 08:50:19</td>\n",
              "      <td>945.0</td>\n",
              "      <td>2013-01-12 08:50:19</td>\n",
              "      <td>946.0</td>\n",
              "      <td>2013-01-12 08:50:19</td>\n",
              "      <td>946.0</td>\n",
              "      <td>2013-01-12 08:50:20</td>\n",
              "      <td>0</td>\n",
              "    </tr>\n",
              "    <tr>\n",
              "      <th>146670</th>\n",
              "      <td>947</td>\n",
              "      <td>2013-01-12 08:50:20</td>\n",
              "      <td>950.0</td>\n",
              "      <td>2013-01-12 08:50:20</td>\n",
              "      <td>948.0</td>\n",
              "      <td>2013-01-12 08:50:20</td>\n",
              "      <td>947.0</td>\n",
              "      <td>2013-01-12 08:50:21</td>\n",
              "      <td>950.0</td>\n",
              "      <td>2013-01-12 08:50:21</td>\n",
              "      <td>952.0</td>\n",
              "      <td>2013-01-12 08:50:21</td>\n",
              "      <td>946.0</td>\n",
              "      <td>2013-01-12 08:50:21</td>\n",
              "      <td>951.0</td>\n",
              "      <td>2013-01-12 08:50:22</td>\n",
              "      <td>946.0</td>\n",
              "      <td>2013-01-12 08:50:22</td>\n",
              "      <td>947.0</td>\n",
              "      <td>2013-01-12 08:50:22</td>\n",
              "      <td>0</td>\n",
              "    </tr>\n",
              "  </tbody>\n",
              "</table>\n",
              "</div>\n",
              "      <button class=\"colab-df-convert\" onclick=\"convertToInteractive('df-8d2194d1-dc80-49ae-bd51-cd9ba11e376b')\"\n",
              "              title=\"Convert this dataframe to an interactive table.\"\n",
              "              style=\"display:none;\">\n",
              "        \n",
              "  <svg xmlns=\"http://www.w3.org/2000/svg\" height=\"24px\"viewBox=\"0 0 24 24\"\n",
              "       width=\"24px\">\n",
              "    <path d=\"M0 0h24v24H0V0z\" fill=\"none\"/>\n",
              "    <path d=\"M18.56 5.44l.94 2.06.94-2.06 2.06-.94-2.06-.94-.94-2.06-.94 2.06-2.06.94zm-11 1L8.5 8.5l.94-2.06 2.06-.94-2.06-.94L8.5 2.5l-.94 2.06-2.06.94zm10 10l.94 2.06.94-2.06 2.06-.94-2.06-.94-.94-2.06-.94 2.06-2.06.94z\"/><path d=\"M17.41 7.96l-1.37-1.37c-.4-.4-.92-.59-1.43-.59-.52 0-1.04.2-1.43.59L10.3 9.45l-7.72 7.72c-.78.78-.78 2.05 0 2.83L4 21.41c.39.39.9.59 1.41.59.51 0 1.02-.2 1.41-.59l7.78-7.78 2.81-2.81c.8-.78.8-2.07 0-2.86zM5.41 20L4 18.59l7.72-7.72 1.47 1.35L5.41 20z\"/>\n",
              "  </svg>\n",
              "      </button>\n",
              "      \n",
              "  <style>\n",
              "    .colab-df-container {\n",
              "      display:flex;\n",
              "      flex-wrap:wrap;\n",
              "      gap: 12px;\n",
              "    }\n",
              "\n",
              "    .colab-df-convert {\n",
              "      background-color: #E8F0FE;\n",
              "      border: none;\n",
              "      border-radius: 50%;\n",
              "      cursor: pointer;\n",
              "      display: none;\n",
              "      fill: #1967D2;\n",
              "      height: 32px;\n",
              "      padding: 0 0 0 0;\n",
              "      width: 32px;\n",
              "    }\n",
              "\n",
              "    .colab-df-convert:hover {\n",
              "      background-color: #E2EBFA;\n",
              "      box-shadow: 0px 1px 2px rgba(60, 64, 67, 0.3), 0px 1px 3px 1px rgba(60, 64, 67, 0.15);\n",
              "      fill: #174EA6;\n",
              "    }\n",
              "\n",
              "    [theme=dark] .colab-df-convert {\n",
              "      background-color: #3B4455;\n",
              "      fill: #D2E3FC;\n",
              "    }\n",
              "\n",
              "    [theme=dark] .colab-df-convert:hover {\n",
              "      background-color: #434B5C;\n",
              "      box-shadow: 0px 1px 3px 1px rgba(0, 0, 0, 0.15);\n",
              "      filter: drop-shadow(0px 1px 2px rgba(0, 0, 0, 0.3));\n",
              "      fill: #FFFFFF;\n",
              "    }\n",
              "  </style>\n",
              "\n",
              "      <script>\n",
              "        const buttonEl =\n",
              "          document.querySelector('#df-8d2194d1-dc80-49ae-bd51-cd9ba11e376b button.colab-df-convert');\n",
              "        buttonEl.style.display =\n",
              "          google.colab.kernel.accessAllowed ? 'block' : 'none';\n",
              "\n",
              "        async function convertToInteractive(key) {\n",
              "          const element = document.querySelector('#df-8d2194d1-dc80-49ae-bd51-cd9ba11e376b');\n",
              "          const dataTable =\n",
              "            await google.colab.kernel.invokeFunction('convertToInteractive',\n",
              "                                                     [key], {});\n",
              "          if (!dataTable) return;\n",
              "\n",
              "          const docLinkHtml = 'Like what you see? Visit the ' +\n",
              "            '<a target=\"_blank\" href=https://colab.research.google.com/notebooks/data_table.ipynb>data table notebook</a>'\n",
              "            + ' to learn more about interactive tables.';\n",
              "          element.innerHTML = '';\n",
              "          dataTable['output_type'] = 'display_data';\n",
              "          await google.colab.output.renderOutput(dataTable, element);\n",
              "          const docLink = document.createElement('div');\n",
              "          docLink.innerHTML = docLinkHtml;\n",
              "          element.appendChild(docLink);\n",
              "        }\n",
              "      </script>\n",
              "    </div>\n",
              "  </div>\n",
              "  "
            ],
            "text/plain": [
              "            site1               time1  ...               time10 target\n",
              "session_id                             ...                            \n",
              "21669          56 2013-01-12 08:05:57  ...                  NaN      0\n",
              "54843          56 2013-01-12 08:37:23  ...                  NaN      0\n",
              "77292         946 2013-01-12 08:50:13  ...  2013-01-12 08:50:17      0\n",
              "114021        945 2013-01-12 08:50:17  ...  2013-01-12 08:50:20      0\n",
              "146670        947 2013-01-12 08:50:20  ...  2013-01-12 08:50:22      0\n",
              "\n",
              "[5 rows x 21 columns]"
            ]
          },
          "metadata": {},
          "execution_count": 6
        }
      ]
    },
    {
      "cell_type": "markdown",
      "metadata": {
        "id": "JJDtkddfBSSF"
      },
      "source": [
        "Before constructing additional features and analyzing the data\n",
        "we should preprocess it, that is, check for omissions, wrong entries\n",
        "and clean it."
      ]
    },
    {
      "cell_type": "code",
      "metadata": {
        "colab": {
          "base_uri": "https://localhost:8080/",
          "height": 708
        },
        "id": "gee3uNZjBSSG",
        "outputId": "47252a42-34a8-4581-dfb5-fd3db4562154"
      },
      "source": [
        "pd.DataFrame([train_df.isna().sum(), test_df.isna().sum()]).\\\n",
        "    T.rename(columns={0: 'train', 1: 'test'})"
      ],
      "execution_count": 7,
      "outputs": [
        {
          "output_type": "execute_result",
          "data": {
            "text/html": [
              "\n",
              "  <div id=\"df-22da6be9-7839-41da-a329-9cdd657fee68\">\n",
              "    <div class=\"colab-df-container\">\n",
              "      <div>\n",
              "<style scoped>\n",
              "    .dataframe tbody tr th:only-of-type {\n",
              "        vertical-align: middle;\n",
              "    }\n",
              "\n",
              "    .dataframe tbody tr th {\n",
              "        vertical-align: top;\n",
              "    }\n",
              "\n",
              "    .dataframe thead th {\n",
              "        text-align: right;\n",
              "    }\n",
              "</style>\n",
              "<table border=\"1\" class=\"dataframe\">\n",
              "  <thead>\n",
              "    <tr style=\"text-align: right;\">\n",
              "      <th></th>\n",
              "      <th>train</th>\n",
              "      <th>test</th>\n",
              "    </tr>\n",
              "  </thead>\n",
              "  <tbody>\n",
              "    <tr>\n",
              "      <th>site1</th>\n",
              "      <td>0.0</td>\n",
              "      <td>0.0</td>\n",
              "    </tr>\n",
              "    <tr>\n",
              "      <th>time1</th>\n",
              "      <td>0.0</td>\n",
              "      <td>0.0</td>\n",
              "    </tr>\n",
              "    <tr>\n",
              "      <th>site2</th>\n",
              "      <td>3463.0</td>\n",
              "      <td>1489.0</td>\n",
              "    </tr>\n",
              "    <tr>\n",
              "      <th>time2</th>\n",
              "      <td>3463.0</td>\n",
              "      <td>1489.0</td>\n",
              "    </tr>\n",
              "    <tr>\n",
              "      <th>site3</th>\n",
              "      <td>6642.0</td>\n",
              "      <td>2722.0</td>\n",
              "    </tr>\n",
              "    <tr>\n",
              "      <th>time3</th>\n",
              "      <td>6642.0</td>\n",
              "      <td>2722.0</td>\n",
              "    </tr>\n",
              "    <tr>\n",
              "      <th>site4</th>\n",
              "      <td>9240.0</td>\n",
              "      <td>3615.0</td>\n",
              "    </tr>\n",
              "    <tr>\n",
              "      <th>time4</th>\n",
              "      <td>9240.0</td>\n",
              "      <td>3615.0</td>\n",
              "    </tr>\n",
              "    <tr>\n",
              "      <th>site5</th>\n",
              "      <td>11732.0</td>\n",
              "      <td>4456.0</td>\n",
              "    </tr>\n",
              "    <tr>\n",
              "      <th>time5</th>\n",
              "      <td>11732.0</td>\n",
              "      <td>4456.0</td>\n",
              "    </tr>\n",
              "    <tr>\n",
              "      <th>site6</th>\n",
              "      <td>14066.0</td>\n",
              "      <td>5231.0</td>\n",
              "    </tr>\n",
              "    <tr>\n",
              "      <th>time6</th>\n",
              "      <td>14066.0</td>\n",
              "      <td>5231.0</td>\n",
              "    </tr>\n",
              "    <tr>\n",
              "      <th>site7</th>\n",
              "      <td>16264.0</td>\n",
              "      <td>5957.0</td>\n",
              "    </tr>\n",
              "    <tr>\n",
              "      <th>time7</th>\n",
              "      <td>16264.0</td>\n",
              "      <td>5957.0</td>\n",
              "    </tr>\n",
              "    <tr>\n",
              "      <th>site8</th>\n",
              "      <td>18337.0</td>\n",
              "      <td>6646.0</td>\n",
              "    </tr>\n",
              "    <tr>\n",
              "      <th>time8</th>\n",
              "      <td>18337.0</td>\n",
              "      <td>6646.0</td>\n",
              "    </tr>\n",
              "    <tr>\n",
              "      <th>site9</th>\n",
              "      <td>20477.0</td>\n",
              "      <td>7313.0</td>\n",
              "    </tr>\n",
              "    <tr>\n",
              "      <th>time9</th>\n",
              "      <td>20477.0</td>\n",
              "      <td>7313.0</td>\n",
              "    </tr>\n",
              "    <tr>\n",
              "      <th>site10</th>\n",
              "      <td>22509.0</td>\n",
              "      <td>7991.0</td>\n",
              "    </tr>\n",
              "    <tr>\n",
              "      <th>time10</th>\n",
              "      <td>22509.0</td>\n",
              "      <td>7991.0</td>\n",
              "    </tr>\n",
              "    <tr>\n",
              "      <th>target</th>\n",
              "      <td>0.0</td>\n",
              "      <td>NaN</td>\n",
              "    </tr>\n",
              "  </tbody>\n",
              "</table>\n",
              "</div>\n",
              "      <button class=\"colab-df-convert\" onclick=\"convertToInteractive('df-22da6be9-7839-41da-a329-9cdd657fee68')\"\n",
              "              title=\"Convert this dataframe to an interactive table.\"\n",
              "              style=\"display:none;\">\n",
              "        \n",
              "  <svg xmlns=\"http://www.w3.org/2000/svg\" height=\"24px\"viewBox=\"0 0 24 24\"\n",
              "       width=\"24px\">\n",
              "    <path d=\"M0 0h24v24H0V0z\" fill=\"none\"/>\n",
              "    <path d=\"M18.56 5.44l.94 2.06.94-2.06 2.06-.94-2.06-.94-.94-2.06-.94 2.06-2.06.94zm-11 1L8.5 8.5l.94-2.06 2.06-.94-2.06-.94L8.5 2.5l-.94 2.06-2.06.94zm10 10l.94 2.06.94-2.06 2.06-.94-2.06-.94-.94-2.06-.94 2.06-2.06.94z\"/><path d=\"M17.41 7.96l-1.37-1.37c-.4-.4-.92-.59-1.43-.59-.52 0-1.04.2-1.43.59L10.3 9.45l-7.72 7.72c-.78.78-.78 2.05 0 2.83L4 21.41c.39.39.9.59 1.41.59.51 0 1.02-.2 1.41-.59l7.78-7.78 2.81-2.81c.8-.78.8-2.07 0-2.86zM5.41 20L4 18.59l7.72-7.72 1.47 1.35L5.41 20z\"/>\n",
              "  </svg>\n",
              "      </button>\n",
              "      \n",
              "  <style>\n",
              "    .colab-df-container {\n",
              "      display:flex;\n",
              "      flex-wrap:wrap;\n",
              "      gap: 12px;\n",
              "    }\n",
              "\n",
              "    .colab-df-convert {\n",
              "      background-color: #E8F0FE;\n",
              "      border: none;\n",
              "      border-radius: 50%;\n",
              "      cursor: pointer;\n",
              "      display: none;\n",
              "      fill: #1967D2;\n",
              "      height: 32px;\n",
              "      padding: 0 0 0 0;\n",
              "      width: 32px;\n",
              "    }\n",
              "\n",
              "    .colab-df-convert:hover {\n",
              "      background-color: #E2EBFA;\n",
              "      box-shadow: 0px 1px 2px rgba(60, 64, 67, 0.3), 0px 1px 3px 1px rgba(60, 64, 67, 0.15);\n",
              "      fill: #174EA6;\n",
              "    }\n",
              "\n",
              "    [theme=dark] .colab-df-convert {\n",
              "      background-color: #3B4455;\n",
              "      fill: #D2E3FC;\n",
              "    }\n",
              "\n",
              "    [theme=dark] .colab-df-convert:hover {\n",
              "      background-color: #434B5C;\n",
              "      box-shadow: 0px 1px 3px 1px rgba(0, 0, 0, 0.15);\n",
              "      filter: drop-shadow(0px 1px 2px rgba(0, 0, 0, 0.3));\n",
              "      fill: #FFFFFF;\n",
              "    }\n",
              "  </style>\n",
              "\n",
              "      <script>\n",
              "        const buttonEl =\n",
              "          document.querySelector('#df-22da6be9-7839-41da-a329-9cdd657fee68 button.colab-df-convert');\n",
              "        buttonEl.style.display =\n",
              "          google.colab.kernel.accessAllowed ? 'block' : 'none';\n",
              "\n",
              "        async function convertToInteractive(key) {\n",
              "          const element = document.querySelector('#df-22da6be9-7839-41da-a329-9cdd657fee68');\n",
              "          const dataTable =\n",
              "            await google.colab.kernel.invokeFunction('convertToInteractive',\n",
              "                                                     [key], {});\n",
              "          if (!dataTable) return;\n",
              "\n",
              "          const docLinkHtml = 'Like what you see? Visit the ' +\n",
              "            '<a target=\"_blank\" href=https://colab.research.google.com/notebooks/data_table.ipynb>data table notebook</a>'\n",
              "            + ' to learn more about interactive tables.';\n",
              "          element.innerHTML = '';\n",
              "          dataTable['output_type'] = 'display_data';\n",
              "          await google.colab.output.renderOutput(dataTable, element);\n",
              "          const docLink = document.createElement('div');\n",
              "          docLink.innerHTML = docLinkHtml;\n",
              "          element.appendChild(docLink);\n",
              "        }\n",
              "      </script>\n",
              "    </div>\n",
              "  </div>\n",
              "  "
            ],
            "text/plain": [
              "          train    test\n",
              "site1       0.0     0.0\n",
              "time1       0.0     0.0\n",
              "site2    3463.0  1489.0\n",
              "time2    3463.0  1489.0\n",
              "site3    6642.0  2722.0\n",
              "time3    6642.0  2722.0\n",
              "site4    9240.0  3615.0\n",
              "time4    9240.0  3615.0\n",
              "site5   11732.0  4456.0\n",
              "time5   11732.0  4456.0\n",
              "site6   14066.0  5231.0\n",
              "time6   14066.0  5231.0\n",
              "site7   16264.0  5957.0\n",
              "time7   16264.0  5957.0\n",
              "site8   18337.0  6646.0\n",
              "time8   18337.0  6646.0\n",
              "site9   20477.0  7313.0\n",
              "time9   20477.0  7313.0\n",
              "site10  22509.0  7991.0\n",
              "time10  22509.0  7991.0\n",
              "target      0.0     NaN"
            ]
          },
          "metadata": {},
          "execution_count": 7
        }
      ]
    },
    {
      "cell_type": "markdown",
      "metadata": {
        "id": "E0fbAQL4BSSH"
      },
      "source": [
        "So some of the sessions are not complete. We substitute the empty sites with zeros."
      ]
    },
    {
      "cell_type": "code",
      "metadata": {
        "id": "zoO5gh7XBSSH"
      },
      "source": [
        "train_df[sites] = train_df[sites].fillna(0).astype(int)\n",
        "test_df[sites] = test_df[sites].fillna(0).astype(int)"
      ],
      "execution_count": 8,
      "outputs": []
    },
    {
      "cell_type": "markdown",
      "metadata": {
        "id": "o1ia0XhcBSSI"
      },
      "source": [
        "Let us check if the temporal structure of the sessions is ok."
      ]
    },
    {
      "cell_type": "code",
      "metadata": {
        "colab": {
          "base_uri": "https://localhost:8080/"
        },
        "id": "D5AT_kdxBSSI",
        "outputId": "b5483d5f-169d-4e5e-acf8-0d605af248fa"
      },
      "source": [
        "train_df.time1.min(), train_df.time1.max(),\\\n",
        "test_df.time1.min(), test_df.time1.max()"
      ],
      "execution_count": 9,
      "outputs": [
        {
          "output_type": "execute_result",
          "data": {
            "text/plain": [
              "(Timestamp('2013-01-12 08:05:57'),\n",
              " Timestamp('2014-04-30 23:39:53'),\n",
              " Timestamp('2014-05-01 17:14:03'),\n",
              " Timestamp('2014-12-05 23:26:53'))"
            ]
          },
          "metadata": {},
          "execution_count": 9
        }
      ]
    },
    {
      "cell_type": "markdown",
      "metadata": {
        "id": "okG5kQaQBSSJ"
      },
      "source": [
        "The train and test data are separated by time, as expected."
      ]
    },
    {
      "cell_type": "markdown",
      "metadata": {
        "id": "jxtx4ZT7BSSJ"
      },
      "source": [
        "Let us check the distribution of the sessions with respect\n",
        "to days of months:"
      ]
    },
    {
      "cell_type": "code",
      "metadata": {
        "colab": {
          "base_uri": "https://localhost:8080/",
          "height": 896
        },
        "id": "hnkDNlOlBSSO",
        "outputId": "3cdfa792-c8c2-46fc-ce97-893848e0eb36"
      },
      "source": [
        "train_test_df = pd.concat([train_df, test_df])\n",
        "train_test_df['year'] = train_test_df.time1.dt.year\n",
        "train_test_df['month'] = train_test_df.time1.dt.month\n",
        "train_test_df['day_of_month'] = train_test_df.time1.dt.day\n",
        "\n",
        "\n",
        "day_of_month_distr = pd.crosstab(\n",
        "    index=[train_test_df.year, train_test_df.month],\n",
        "    columns=train_test_df.day_of_month\n",
        "    )\n",
        "day_of_month_distr.query('year == 2013').T"
      ],
      "execution_count": 10,
      "outputs": [
        {
          "output_type": "execute_result",
          "data": {
            "text/html": [
              "\n",
              "  <div id=\"df-5ff5dbe6-3c56-49a8-8676-d6f90ab3b1f9\">\n",
              "    <div class=\"colab-df-container\">\n",
              "      <div>\n",
              "<style scoped>\n",
              "    .dataframe tbody tr th:only-of-type {\n",
              "        vertical-align: middle;\n",
              "    }\n",
              "\n",
              "    .dataframe tbody tr th {\n",
              "        vertical-align: top;\n",
              "    }\n",
              "\n",
              "    .dataframe thead tr th {\n",
              "        text-align: left;\n",
              "    }\n",
              "\n",
              "    .dataframe thead tr:last-of-type th {\n",
              "        text-align: right;\n",
              "    }\n",
              "</style>\n",
              "<table border=\"1\" class=\"dataframe\">\n",
              "  <thead>\n",
              "    <tr>\n",
              "      <th>year</th>\n",
              "      <th colspan=\"12\" halign=\"left\">2013</th>\n",
              "    </tr>\n",
              "    <tr>\n",
              "      <th>month</th>\n",
              "      <th>1</th>\n",
              "      <th>2</th>\n",
              "      <th>3</th>\n",
              "      <th>4</th>\n",
              "      <th>5</th>\n",
              "      <th>6</th>\n",
              "      <th>7</th>\n",
              "      <th>8</th>\n",
              "      <th>9</th>\n",
              "      <th>10</th>\n",
              "      <th>11</th>\n",
              "      <th>12</th>\n",
              "    </tr>\n",
              "    <tr>\n",
              "      <th>day_of_month</th>\n",
              "      <th></th>\n",
              "      <th></th>\n",
              "      <th></th>\n",
              "      <th></th>\n",
              "      <th></th>\n",
              "      <th></th>\n",
              "      <th></th>\n",
              "      <th></th>\n",
              "      <th></th>\n",
              "      <th></th>\n",
              "      <th></th>\n",
              "      <th></th>\n",
              "    </tr>\n",
              "  </thead>\n",
              "  <tbody>\n",
              "    <tr>\n",
              "      <th>1</th>\n",
              "      <td>0</td>\n",
              "      <td>0</td>\n",
              "      <td>0</td>\n",
              "      <td>0</td>\n",
              "      <td>0</td>\n",
              "      <td>0</td>\n",
              "      <td>0</td>\n",
              "      <td>0</td>\n",
              "      <td>0</td>\n",
              "      <td>0</td>\n",
              "      <td>0</td>\n",
              "      <td>0</td>\n",
              "    </tr>\n",
              "    <tr>\n",
              "      <th>2</th>\n",
              "      <td>0</td>\n",
              "      <td>0</td>\n",
              "      <td>0</td>\n",
              "      <td>0</td>\n",
              "      <td>0</td>\n",
              "      <td>0</td>\n",
              "      <td>0</td>\n",
              "      <td>0</td>\n",
              "      <td>0</td>\n",
              "      <td>0</td>\n",
              "      <td>0</td>\n",
              "      <td>0</td>\n",
              "    </tr>\n",
              "    <tr>\n",
              "      <th>3</th>\n",
              "      <td>0</td>\n",
              "      <td>0</td>\n",
              "      <td>0</td>\n",
              "      <td>0</td>\n",
              "      <td>0</td>\n",
              "      <td>0</td>\n",
              "      <td>0</td>\n",
              "      <td>0</td>\n",
              "      <td>0</td>\n",
              "      <td>0</td>\n",
              "      <td>0</td>\n",
              "      <td>0</td>\n",
              "    </tr>\n",
              "    <tr>\n",
              "      <th>4</th>\n",
              "      <td>0</td>\n",
              "      <td>0</td>\n",
              "      <td>0</td>\n",
              "      <td>0</td>\n",
              "      <td>0</td>\n",
              "      <td>0</td>\n",
              "      <td>0</td>\n",
              "      <td>0</td>\n",
              "      <td>0</td>\n",
              "      <td>0</td>\n",
              "      <td>0</td>\n",
              "      <td>0</td>\n",
              "    </tr>\n",
              "    <tr>\n",
              "      <th>5</th>\n",
              "      <td>0</td>\n",
              "      <td>0</td>\n",
              "      <td>0</td>\n",
              "      <td>0</td>\n",
              "      <td>0</td>\n",
              "      <td>0</td>\n",
              "      <td>0</td>\n",
              "      <td>0</td>\n",
              "      <td>0</td>\n",
              "      <td>0</td>\n",
              "      <td>0</td>\n",
              "      <td>0</td>\n",
              "    </tr>\n",
              "    <tr>\n",
              "      <th>12</th>\n",
              "      <td>363</td>\n",
              "      <td>3929</td>\n",
              "      <td>3337</td>\n",
              "      <td>3997</td>\n",
              "      <td>3229</td>\n",
              "      <td>2094</td>\n",
              "      <td>139</td>\n",
              "      <td>290</td>\n",
              "      <td>3464</td>\n",
              "      <td>2788</td>\n",
              "      <td>3375</td>\n",
              "      <td>2391</td>\n",
              "    </tr>\n",
              "    <tr>\n",
              "      <th>13</th>\n",
              "      <td>0</td>\n",
              "      <td>0</td>\n",
              "      <td>0</td>\n",
              "      <td>0</td>\n",
              "      <td>0</td>\n",
              "      <td>0</td>\n",
              "      <td>0</td>\n",
              "      <td>0</td>\n",
              "      <td>0</td>\n",
              "      <td>0</td>\n",
              "      <td>0</td>\n",
              "      <td>2660</td>\n",
              "    </tr>\n",
              "    <tr>\n",
              "      <th>14</th>\n",
              "      <td>0</td>\n",
              "      <td>0</td>\n",
              "      <td>0</td>\n",
              "      <td>0</td>\n",
              "      <td>0</td>\n",
              "      <td>0</td>\n",
              "      <td>0</td>\n",
              "      <td>0</td>\n",
              "      <td>0</td>\n",
              "      <td>0</td>\n",
              "      <td>0</td>\n",
              "      <td>333</td>\n",
              "    </tr>\n",
              "    <tr>\n",
              "      <th>15</th>\n",
              "      <td>0</td>\n",
              "      <td>0</td>\n",
              "      <td>0</td>\n",
              "      <td>0</td>\n",
              "      <td>0</td>\n",
              "      <td>0</td>\n",
              "      <td>0</td>\n",
              "      <td>0</td>\n",
              "      <td>0</td>\n",
              "      <td>0</td>\n",
              "      <td>2541</td>\n",
              "      <td>258</td>\n",
              "    </tr>\n",
              "    <tr>\n",
              "      <th>16</th>\n",
              "      <td>0</td>\n",
              "      <td>0</td>\n",
              "      <td>0</td>\n",
              "      <td>0</td>\n",
              "      <td>0</td>\n",
              "      <td>0</td>\n",
              "      <td>0</td>\n",
              "      <td>0</td>\n",
              "      <td>0</td>\n",
              "      <td>0</td>\n",
              "      <td>366</td>\n",
              "      <td>1948</td>\n",
              "    </tr>\n",
              "    <tr>\n",
              "      <th>17</th>\n",
              "      <td>0</td>\n",
              "      <td>0</td>\n",
              "      <td>0</td>\n",
              "      <td>0</td>\n",
              "      <td>0</td>\n",
              "      <td>0</td>\n",
              "      <td>0</td>\n",
              "      <td>0</td>\n",
              "      <td>0</td>\n",
              "      <td>0</td>\n",
              "      <td>316</td>\n",
              "      <td>1639</td>\n",
              "    </tr>\n",
              "    <tr>\n",
              "      <th>18</th>\n",
              "      <td>0</td>\n",
              "      <td>0</td>\n",
              "      <td>0</td>\n",
              "      <td>0</td>\n",
              "      <td>0</td>\n",
              "      <td>0</td>\n",
              "      <td>0</td>\n",
              "      <td>0</td>\n",
              "      <td>0</td>\n",
              "      <td>0</td>\n",
              "      <td>1410</td>\n",
              "      <td>3449</td>\n",
              "    </tr>\n",
              "    <tr>\n",
              "      <th>19</th>\n",
              "      <td>0</td>\n",
              "      <td>0</td>\n",
              "      <td>0</td>\n",
              "      <td>0</td>\n",
              "      <td>0</td>\n",
              "      <td>0</td>\n",
              "      <td>0</td>\n",
              "      <td>0</td>\n",
              "      <td>0</td>\n",
              "      <td>0</td>\n",
              "      <td>2709</td>\n",
              "      <td>2010</td>\n",
              "    </tr>\n",
              "    <tr>\n",
              "      <th>20</th>\n",
              "      <td>0</td>\n",
              "      <td>0</td>\n",
              "      <td>0</td>\n",
              "      <td>0</td>\n",
              "      <td>0</td>\n",
              "      <td>0</td>\n",
              "      <td>0</td>\n",
              "      <td>0</td>\n",
              "      <td>0</td>\n",
              "      <td>0</td>\n",
              "      <td>3296</td>\n",
              "      <td>1272</td>\n",
              "    </tr>\n",
              "    <tr>\n",
              "      <th>21</th>\n",
              "      <td>0</td>\n",
              "      <td>0</td>\n",
              "      <td>0</td>\n",
              "      <td>0</td>\n",
              "      <td>0</td>\n",
              "      <td>0</td>\n",
              "      <td>0</td>\n",
              "      <td>0</td>\n",
              "      <td>0</td>\n",
              "      <td>0</td>\n",
              "      <td>3458</td>\n",
              "      <td>106</td>\n",
              "    </tr>\n",
              "    <tr>\n",
              "      <th>22</th>\n",
              "      <td>0</td>\n",
              "      <td>0</td>\n",
              "      <td>0</td>\n",
              "      <td>0</td>\n",
              "      <td>0</td>\n",
              "      <td>0</td>\n",
              "      <td>0</td>\n",
              "      <td>0</td>\n",
              "      <td>0</td>\n",
              "      <td>0</td>\n",
              "      <td>2421</td>\n",
              "      <td>128</td>\n",
              "    </tr>\n",
              "    <tr>\n",
              "      <th>23</th>\n",
              "      <td>0</td>\n",
              "      <td>0</td>\n",
              "      <td>0</td>\n",
              "      <td>0</td>\n",
              "      <td>0</td>\n",
              "      <td>0</td>\n",
              "      <td>0</td>\n",
              "      <td>0</td>\n",
              "      <td>0</td>\n",
              "      <td>0</td>\n",
              "      <td>326</td>\n",
              "      <td>98</td>\n",
              "    </tr>\n",
              "    <tr>\n",
              "      <th>24</th>\n",
              "      <td>0</td>\n",
              "      <td>0</td>\n",
              "      <td>0</td>\n",
              "      <td>0</td>\n",
              "      <td>0</td>\n",
              "      <td>0</td>\n",
              "      <td>0</td>\n",
              "      <td>0</td>\n",
              "      <td>0</td>\n",
              "      <td>0</td>\n",
              "      <td>443</td>\n",
              "      <td>60</td>\n",
              "    </tr>\n",
              "    <tr>\n",
              "      <th>25</th>\n",
              "      <td>0</td>\n",
              "      <td>0</td>\n",
              "      <td>0</td>\n",
              "      <td>0</td>\n",
              "      <td>0</td>\n",
              "      <td>0</td>\n",
              "      <td>0</td>\n",
              "      <td>0</td>\n",
              "      <td>0</td>\n",
              "      <td>0</td>\n",
              "      <td>4510</td>\n",
              "      <td>0</td>\n",
              "    </tr>\n",
              "    <tr>\n",
              "      <th>26</th>\n",
              "      <td>0</td>\n",
              "      <td>0</td>\n",
              "      <td>0</td>\n",
              "      <td>0</td>\n",
              "      <td>0</td>\n",
              "      <td>0</td>\n",
              "      <td>0</td>\n",
              "      <td>0</td>\n",
              "      <td>0</td>\n",
              "      <td>0</td>\n",
              "      <td>2526</td>\n",
              "      <td>110</td>\n",
              "    </tr>\n",
              "    <tr>\n",
              "      <th>27</th>\n",
              "      <td>0</td>\n",
              "      <td>0</td>\n",
              "      <td>0</td>\n",
              "      <td>0</td>\n",
              "      <td>0</td>\n",
              "      <td>0</td>\n",
              "      <td>0</td>\n",
              "      <td>0</td>\n",
              "      <td>0</td>\n",
              "      <td>0</td>\n",
              "      <td>2779</td>\n",
              "      <td>44</td>\n",
              "    </tr>\n",
              "    <tr>\n",
              "      <th>28</th>\n",
              "      <td>0</td>\n",
              "      <td>0</td>\n",
              "      <td>0</td>\n",
              "      <td>0</td>\n",
              "      <td>0</td>\n",
              "      <td>0</td>\n",
              "      <td>0</td>\n",
              "      <td>0</td>\n",
              "      <td>0</td>\n",
              "      <td>0</td>\n",
              "      <td>1311</td>\n",
              "      <td>45</td>\n",
              "    </tr>\n",
              "    <tr>\n",
              "      <th>29</th>\n",
              "      <td>0</td>\n",
              "      <td>0</td>\n",
              "      <td>0</td>\n",
              "      <td>0</td>\n",
              "      <td>0</td>\n",
              "      <td>0</td>\n",
              "      <td>0</td>\n",
              "      <td>0</td>\n",
              "      <td>0</td>\n",
              "      <td>0</td>\n",
              "      <td>2488</td>\n",
              "      <td>0</td>\n",
              "    </tr>\n",
              "    <tr>\n",
              "      <th>30</th>\n",
              "      <td>0</td>\n",
              "      <td>0</td>\n",
              "      <td>0</td>\n",
              "      <td>0</td>\n",
              "      <td>0</td>\n",
              "      <td>0</td>\n",
              "      <td>0</td>\n",
              "      <td>0</td>\n",
              "      <td>0</td>\n",
              "      <td>0</td>\n",
              "      <td>218</td>\n",
              "      <td>0</td>\n",
              "    </tr>\n",
              "    <tr>\n",
              "      <th>31</th>\n",
              "      <td>0</td>\n",
              "      <td>0</td>\n",
              "      <td>0</td>\n",
              "      <td>0</td>\n",
              "      <td>0</td>\n",
              "      <td>0</td>\n",
              "      <td>0</td>\n",
              "      <td>0</td>\n",
              "      <td>0</td>\n",
              "      <td>0</td>\n",
              "      <td>0</td>\n",
              "      <td>1</td>\n",
              "    </tr>\n",
              "  </tbody>\n",
              "</table>\n",
              "</div>\n",
              "      <button class=\"colab-df-convert\" onclick=\"convertToInteractive('df-5ff5dbe6-3c56-49a8-8676-d6f90ab3b1f9')\"\n",
              "              title=\"Convert this dataframe to an interactive table.\"\n",
              "              style=\"display:none;\">\n",
              "        \n",
              "  <svg xmlns=\"http://www.w3.org/2000/svg\" height=\"24px\"viewBox=\"0 0 24 24\"\n",
              "       width=\"24px\">\n",
              "    <path d=\"M0 0h24v24H0V0z\" fill=\"none\"/>\n",
              "    <path d=\"M18.56 5.44l.94 2.06.94-2.06 2.06-.94-2.06-.94-.94-2.06-.94 2.06-2.06.94zm-11 1L8.5 8.5l.94-2.06 2.06-.94-2.06-.94L8.5 2.5l-.94 2.06-2.06.94zm10 10l.94 2.06.94-2.06 2.06-.94-2.06-.94-.94-2.06-.94 2.06-2.06.94z\"/><path d=\"M17.41 7.96l-1.37-1.37c-.4-.4-.92-.59-1.43-.59-.52 0-1.04.2-1.43.59L10.3 9.45l-7.72 7.72c-.78.78-.78 2.05 0 2.83L4 21.41c.39.39.9.59 1.41.59.51 0 1.02-.2 1.41-.59l7.78-7.78 2.81-2.81c.8-.78.8-2.07 0-2.86zM5.41 20L4 18.59l7.72-7.72 1.47 1.35L5.41 20z\"/>\n",
              "  </svg>\n",
              "      </button>\n",
              "      \n",
              "  <style>\n",
              "    .colab-df-container {\n",
              "      display:flex;\n",
              "      flex-wrap:wrap;\n",
              "      gap: 12px;\n",
              "    }\n",
              "\n",
              "    .colab-df-convert {\n",
              "      background-color: #E8F0FE;\n",
              "      border: none;\n",
              "      border-radius: 50%;\n",
              "      cursor: pointer;\n",
              "      display: none;\n",
              "      fill: #1967D2;\n",
              "      height: 32px;\n",
              "      padding: 0 0 0 0;\n",
              "      width: 32px;\n",
              "    }\n",
              "\n",
              "    .colab-df-convert:hover {\n",
              "      background-color: #E2EBFA;\n",
              "      box-shadow: 0px 1px 2px rgba(60, 64, 67, 0.3), 0px 1px 3px 1px rgba(60, 64, 67, 0.15);\n",
              "      fill: #174EA6;\n",
              "    }\n",
              "\n",
              "    [theme=dark] .colab-df-convert {\n",
              "      background-color: #3B4455;\n",
              "      fill: #D2E3FC;\n",
              "    }\n",
              "\n",
              "    [theme=dark] .colab-df-convert:hover {\n",
              "      background-color: #434B5C;\n",
              "      box-shadow: 0px 1px 3px 1px rgba(0, 0, 0, 0.15);\n",
              "      filter: drop-shadow(0px 1px 2px rgba(0, 0, 0, 0.3));\n",
              "      fill: #FFFFFF;\n",
              "    }\n",
              "  </style>\n",
              "\n",
              "      <script>\n",
              "        const buttonEl =\n",
              "          document.querySelector('#df-5ff5dbe6-3c56-49a8-8676-d6f90ab3b1f9 button.colab-df-convert');\n",
              "        buttonEl.style.display =\n",
              "          google.colab.kernel.accessAllowed ? 'block' : 'none';\n",
              "\n",
              "        async function convertToInteractive(key) {\n",
              "          const element = document.querySelector('#df-5ff5dbe6-3c56-49a8-8676-d6f90ab3b1f9');\n",
              "          const dataTable =\n",
              "            await google.colab.kernel.invokeFunction('convertToInteractive',\n",
              "                                                     [key], {});\n",
              "          if (!dataTable) return;\n",
              "\n",
              "          const docLinkHtml = 'Like what you see? Visit the ' +\n",
              "            '<a target=\"_blank\" href=https://colab.research.google.com/notebooks/data_table.ipynb>data table notebook</a>'\n",
              "            + ' to learn more about interactive tables.';\n",
              "          element.innerHTML = '';\n",
              "          dataTable['output_type'] = 'display_data';\n",
              "          await google.colab.output.renderOutput(dataTable, element);\n",
              "          const docLink = document.createElement('div');\n",
              "          docLink.innerHTML = docLinkHtml;\n",
              "          element.appendChild(docLink);\n",
              "        }\n",
              "      </script>\n",
              "    </div>\n",
              "  </div>\n",
              "  "
            ],
            "text/plain": [
              "year         2013                          ...                             \n",
              "month          1     2     3     4     5   ...   8     9     10    11    12\n",
              "day_of_month                               ...                             \n",
              "1               0     0     0     0     0  ...    0     0     0     0     0\n",
              "2               0     0     0     0     0  ...    0     0     0     0     0\n",
              "3               0     0     0     0     0  ...    0     0     0     0     0\n",
              "4               0     0     0     0     0  ...    0     0     0     0     0\n",
              "5               0     0     0     0     0  ...    0     0     0     0     0\n",
              "12            363  3929  3337  3997  3229  ...  290  3464  2788  3375  2391\n",
              "13              0     0     0     0     0  ...    0     0     0     0  2660\n",
              "14              0     0     0     0     0  ...    0     0     0     0   333\n",
              "15              0     0     0     0     0  ...    0     0     0  2541   258\n",
              "16              0     0     0     0     0  ...    0     0     0   366  1948\n",
              "17              0     0     0     0     0  ...    0     0     0   316  1639\n",
              "18              0     0     0     0     0  ...    0     0     0  1410  3449\n",
              "19              0     0     0     0     0  ...    0     0     0  2709  2010\n",
              "20              0     0     0     0     0  ...    0     0     0  3296  1272\n",
              "21              0     0     0     0     0  ...    0     0     0  3458   106\n",
              "22              0     0     0     0     0  ...    0     0     0  2421   128\n",
              "23              0     0     0     0     0  ...    0     0     0   326    98\n",
              "24              0     0     0     0     0  ...    0     0     0   443    60\n",
              "25              0     0     0     0     0  ...    0     0     0  4510     0\n",
              "26              0     0     0     0     0  ...    0     0     0  2526   110\n",
              "27              0     0     0     0     0  ...    0     0     0  2779    44\n",
              "28              0     0     0     0     0  ...    0     0     0  1311    45\n",
              "29              0     0     0     0     0  ...    0     0     0  2488     0\n",
              "30              0     0     0     0     0  ...    0     0     0   218     0\n",
              "31              0     0     0     0     0  ...    0     0     0     0     1\n",
              "\n",
              "[25 rows x 12 columns]"
            ]
          },
          "metadata": {},
          "execution_count": 10
        }
      ]
    },
    {
      "cell_type": "code",
      "metadata": {
        "colab": {
          "base_uri": "https://localhost:8080/",
          "height": 896
        },
        "id": "b2Bwm1R1BSSP",
        "outputId": "4a5140f7-8920-4cc5-dec2-7517adba6c78"
      },
      "source": [
        "day_of_month_distr.query('year == 2014').T"
      ],
      "execution_count": 11,
      "outputs": [
        {
          "output_type": "execute_result",
          "data": {
            "text/html": [
              "\n",
              "  <div id=\"df-fafb8735-7571-42a7-b3cf-e195d23adbba\">\n",
              "    <div class=\"colab-df-container\">\n",
              "      <div>\n",
              "<style scoped>\n",
              "    .dataframe tbody tr th:only-of-type {\n",
              "        vertical-align: middle;\n",
              "    }\n",
              "\n",
              "    .dataframe tbody tr th {\n",
              "        vertical-align: top;\n",
              "    }\n",
              "\n",
              "    .dataframe thead tr th {\n",
              "        text-align: left;\n",
              "    }\n",
              "\n",
              "    .dataframe thead tr:last-of-type th {\n",
              "        text-align: right;\n",
              "    }\n",
              "</style>\n",
              "<table border=\"1\" class=\"dataframe\">\n",
              "  <thead>\n",
              "    <tr>\n",
              "      <th>year</th>\n",
              "      <th colspan=\"12\" halign=\"left\">2014</th>\n",
              "    </tr>\n",
              "    <tr>\n",
              "      <th>month</th>\n",
              "      <th>1</th>\n",
              "      <th>2</th>\n",
              "      <th>3</th>\n",
              "      <th>4</th>\n",
              "      <th>5</th>\n",
              "      <th>6</th>\n",
              "      <th>7</th>\n",
              "      <th>8</th>\n",
              "      <th>9</th>\n",
              "      <th>10</th>\n",
              "      <th>11</th>\n",
              "      <th>12</th>\n",
              "    </tr>\n",
              "    <tr>\n",
              "      <th>day_of_month</th>\n",
              "      <th></th>\n",
              "      <th></th>\n",
              "      <th></th>\n",
              "      <th></th>\n",
              "      <th></th>\n",
              "      <th></th>\n",
              "      <th></th>\n",
              "      <th></th>\n",
              "      <th></th>\n",
              "      <th></th>\n",
              "      <th></th>\n",
              "      <th></th>\n",
              "    </tr>\n",
              "  </thead>\n",
              "  <tbody>\n",
              "    <tr>\n",
              "      <th>1</th>\n",
              "      <td>0</td>\n",
              "      <td>1</td>\n",
              "      <td>0</td>\n",
              "      <td>1</td>\n",
              "      <td>1</td>\n",
              "      <td>1527</td>\n",
              "      <td>474</td>\n",
              "      <td>1570</td>\n",
              "      <td>1564</td>\n",
              "      <td>674</td>\n",
              "      <td>41</td>\n",
              "      <td>12</td>\n",
              "    </tr>\n",
              "    <tr>\n",
              "      <th>2</th>\n",
              "      <td>952</td>\n",
              "      <td>142</td>\n",
              "      <td>1196</td>\n",
              "      <td>2609</td>\n",
              "      <td>4386</td>\n",
              "      <td>2020</td>\n",
              "      <td>1746</td>\n",
              "      <td>1411</td>\n",
              "      <td>154</td>\n",
              "      <td>3807</td>\n",
              "      <td>6337</td>\n",
              "      <td>7022</td>\n",
              "    </tr>\n",
              "    <tr>\n",
              "      <th>3</th>\n",
              "      <td>1095</td>\n",
              "      <td>118</td>\n",
              "      <td>865</td>\n",
              "      <td>2380</td>\n",
              "      <td>4310</td>\n",
              "      <td>0</td>\n",
              "      <td>4528</td>\n",
              "      <td>748</td>\n",
              "      <td>247</td>\n",
              "      <td>41</td>\n",
              "      <td>70</td>\n",
              "      <td>226</td>\n",
              "    </tr>\n",
              "    <tr>\n",
              "      <th>4</th>\n",
              "      <td>5732</td>\n",
              "      <td>7045</td>\n",
              "      <td>3368</td>\n",
              "      <td>4060</td>\n",
              "      <td>1351</td>\n",
              "      <td>437</td>\n",
              "      <td>3712</td>\n",
              "      <td>4101</td>\n",
              "      <td>1447</td>\n",
              "      <td>3524</td>\n",
              "      <td>3432</td>\n",
              "      <td>190</td>\n",
              "    </tr>\n",
              "    <tr>\n",
              "      <th>5</th>\n",
              "      <td>34</td>\n",
              "      <td>48</td>\n",
              "      <td>4</td>\n",
              "      <td>1</td>\n",
              "      <td>304</td>\n",
              "      <td>381</td>\n",
              "      <td>377</td>\n",
              "      <td>16</td>\n",
              "      <td>215</td>\n",
              "      <td>111</td>\n",
              "      <td>17</td>\n",
              "      <td>4938</td>\n",
              "    </tr>\n",
              "    <tr>\n",
              "      <th>12</th>\n",
              "      <td>0</td>\n",
              "      <td>0</td>\n",
              "      <td>0</td>\n",
              "      <td>0</td>\n",
              "      <td>0</td>\n",
              "      <td>0</td>\n",
              "      <td>0</td>\n",
              "      <td>0</td>\n",
              "      <td>0</td>\n",
              "      <td>0</td>\n",
              "      <td>0</td>\n",
              "      <td>0</td>\n",
              "    </tr>\n",
              "    <tr>\n",
              "      <th>13</th>\n",
              "      <td>991</td>\n",
              "      <td>4322</td>\n",
              "      <td>161</td>\n",
              "      <td>227</td>\n",
              "      <td>2034</td>\n",
              "      <td>0</td>\n",
              "      <td>0</td>\n",
              "      <td>0</td>\n",
              "      <td>0</td>\n",
              "      <td>0</td>\n",
              "      <td>0</td>\n",
              "      <td>0</td>\n",
              "    </tr>\n",
              "    <tr>\n",
              "      <th>14</th>\n",
              "      <td>1060</td>\n",
              "      <td>2306</td>\n",
              "      <td>97</td>\n",
              "      <td>4084</td>\n",
              "      <td>2985</td>\n",
              "      <td>0</td>\n",
              "      <td>0</td>\n",
              "      <td>0</td>\n",
              "      <td>0</td>\n",
              "      <td>0</td>\n",
              "      <td>0</td>\n",
              "      <td>0</td>\n",
              "    </tr>\n",
              "    <tr>\n",
              "      <th>15</th>\n",
              "      <td>985</td>\n",
              "      <td>0</td>\n",
              "      <td>220</td>\n",
              "      <td>2015</td>\n",
              "      <td>1141</td>\n",
              "      <td>0</td>\n",
              "      <td>0</td>\n",
              "      <td>0</td>\n",
              "      <td>0</td>\n",
              "      <td>0</td>\n",
              "      <td>0</td>\n",
              "      <td>0</td>\n",
              "    </tr>\n",
              "    <tr>\n",
              "      <th>16</th>\n",
              "      <td>699</td>\n",
              "      <td>34</td>\n",
              "      <td>349</td>\n",
              "      <td>2994</td>\n",
              "      <td>954</td>\n",
              "      <td>0</td>\n",
              "      <td>0</td>\n",
              "      <td>0</td>\n",
              "      <td>0</td>\n",
              "      <td>0</td>\n",
              "      <td>0</td>\n",
              "      <td>0</td>\n",
              "    </tr>\n",
              "    <tr>\n",
              "      <th>17</th>\n",
              "      <td>961</td>\n",
              "      <td>3309</td>\n",
              "      <td>4742</td>\n",
              "      <td>2884</td>\n",
              "      <td>37</td>\n",
              "      <td>0</td>\n",
              "      <td>0</td>\n",
              "      <td>0</td>\n",
              "      <td>0</td>\n",
              "      <td>0</td>\n",
              "      <td>0</td>\n",
              "      <td>0</td>\n",
              "    </tr>\n",
              "    <tr>\n",
              "      <th>18</th>\n",
              "      <td>70</td>\n",
              "      <td>3641</td>\n",
              "      <td>1720</td>\n",
              "      <td>1687</td>\n",
              "      <td>77</td>\n",
              "      <td>0</td>\n",
              "      <td>0</td>\n",
              "      <td>0</td>\n",
              "      <td>0</td>\n",
              "      <td>0</td>\n",
              "      <td>0</td>\n",
              "      <td>0</td>\n",
              "    </tr>\n",
              "    <tr>\n",
              "      <th>19</th>\n",
              "      <td>161</td>\n",
              "      <td>6361</td>\n",
              "      <td>7896</td>\n",
              "      <td>43</td>\n",
              "      <td>1902</td>\n",
              "      <td>0</td>\n",
              "      <td>0</td>\n",
              "      <td>0</td>\n",
              "      <td>0</td>\n",
              "      <td>0</td>\n",
              "      <td>0</td>\n",
              "      <td>0</td>\n",
              "    </tr>\n",
              "    <tr>\n",
              "      <th>20</th>\n",
              "      <td>2360</td>\n",
              "      <td>3015</td>\n",
              "      <td>3538</td>\n",
              "      <td>21</td>\n",
              "      <td>1106</td>\n",
              "      <td>0</td>\n",
              "      <td>0</td>\n",
              "      <td>0</td>\n",
              "      <td>0</td>\n",
              "      <td>0</td>\n",
              "      <td>0</td>\n",
              "      <td>0</td>\n",
              "    </tr>\n",
              "    <tr>\n",
              "      <th>21</th>\n",
              "      <td>1717</td>\n",
              "      <td>1760</td>\n",
              "      <td>4389</td>\n",
              "      <td>76</td>\n",
              "      <td>747</td>\n",
              "      <td>0</td>\n",
              "      <td>0</td>\n",
              "      <td>0</td>\n",
              "      <td>0</td>\n",
              "      <td>0</td>\n",
              "      <td>0</td>\n",
              "      <td>0</td>\n",
              "    </tr>\n",
              "    <tr>\n",
              "      <th>22</th>\n",
              "      <td>4077</td>\n",
              "      <td>1775</td>\n",
              "      <td>1129</td>\n",
              "      <td>783</td>\n",
              "      <td>866</td>\n",
              "      <td>0</td>\n",
              "      <td>0</td>\n",
              "      <td>0</td>\n",
              "      <td>0</td>\n",
              "      <td>0</td>\n",
              "      <td>0</td>\n",
              "      <td>0</td>\n",
              "    </tr>\n",
              "    <tr>\n",
              "      <th>23</th>\n",
              "      <td>729</td>\n",
              "      <td>217</td>\n",
              "      <td>149</td>\n",
              "      <td>1132</td>\n",
              "      <td>699</td>\n",
              "      <td>0</td>\n",
              "      <td>0</td>\n",
              "      <td>0</td>\n",
              "      <td>0</td>\n",
              "      <td>0</td>\n",
              "      <td>0</td>\n",
              "      <td>0</td>\n",
              "    </tr>\n",
              "    <tr>\n",
              "      <th>24</th>\n",
              "      <td>676</td>\n",
              "      <td>4099</td>\n",
              "      <td>3343</td>\n",
              "      <td>2728</td>\n",
              "      <td>169</td>\n",
              "      <td>0</td>\n",
              "      <td>0</td>\n",
              "      <td>0</td>\n",
              "      <td>0</td>\n",
              "      <td>0</td>\n",
              "      <td>0</td>\n",
              "      <td>0</td>\n",
              "    </tr>\n",
              "    <tr>\n",
              "      <th>25</th>\n",
              "      <td>1421</td>\n",
              "      <td>3570</td>\n",
              "      <td>3619</td>\n",
              "      <td>2227</td>\n",
              "      <td>117</td>\n",
              "      <td>0</td>\n",
              "      <td>0</td>\n",
              "      <td>0</td>\n",
              "      <td>0</td>\n",
              "      <td>0</td>\n",
              "      <td>0</td>\n",
              "      <td>0</td>\n",
              "    </tr>\n",
              "    <tr>\n",
              "      <th>26</th>\n",
              "      <td>84</td>\n",
              "      <td>7807</td>\n",
              "      <td>6140</td>\n",
              "      <td>119</td>\n",
              "      <td>608</td>\n",
              "      <td>0</td>\n",
              "      <td>0</td>\n",
              "      <td>0</td>\n",
              "      <td>0</td>\n",
              "      <td>0</td>\n",
              "      <td>0</td>\n",
              "      <td>0</td>\n",
              "    </tr>\n",
              "    <tr>\n",
              "      <th>27</th>\n",
              "      <td>2323</td>\n",
              "      <td>3327</td>\n",
              "      <td>4976</td>\n",
              "      <td>110</td>\n",
              "      <td>887</td>\n",
              "      <td>0</td>\n",
              "      <td>0</td>\n",
              "      <td>0</td>\n",
              "      <td>0</td>\n",
              "      <td>0</td>\n",
              "      <td>0</td>\n",
              "      <td>0</td>\n",
              "    </tr>\n",
              "    <tr>\n",
              "      <th>28</th>\n",
              "      <td>2234</td>\n",
              "      <td>2666</td>\n",
              "      <td>1762</td>\n",
              "      <td>337</td>\n",
              "      <td>999</td>\n",
              "      <td>0</td>\n",
              "      <td>0</td>\n",
              "      <td>0</td>\n",
              "      <td>0</td>\n",
              "      <td>0</td>\n",
              "      <td>0</td>\n",
              "      <td>0</td>\n",
              "    </tr>\n",
              "    <tr>\n",
              "      <th>29</th>\n",
              "      <td>3924</td>\n",
              "      <td>0</td>\n",
              "      <td>743</td>\n",
              "      <td>310</td>\n",
              "      <td>0</td>\n",
              "      <td>0</td>\n",
              "      <td>0</td>\n",
              "      <td>0</td>\n",
              "      <td>0</td>\n",
              "      <td>0</td>\n",
              "      <td>0</td>\n",
              "      <td>0</td>\n",
              "    </tr>\n",
              "    <tr>\n",
              "      <th>30</th>\n",
              "      <td>1692</td>\n",
              "      <td>0</td>\n",
              "      <td>234</td>\n",
              "      <td>376</td>\n",
              "      <td>0</td>\n",
              "      <td>0</td>\n",
              "      <td>0</td>\n",
              "      <td>0</td>\n",
              "      <td>0</td>\n",
              "      <td>0</td>\n",
              "      <td>0</td>\n",
              "      <td>0</td>\n",
              "    </tr>\n",
              "    <tr>\n",
              "      <th>31</th>\n",
              "      <td>1892</td>\n",
              "      <td>0</td>\n",
              "      <td>5610</td>\n",
              "      <td>0</td>\n",
              "      <td>0</td>\n",
              "      <td>0</td>\n",
              "      <td>0</td>\n",
              "      <td>0</td>\n",
              "      <td>0</td>\n",
              "      <td>0</td>\n",
              "      <td>0</td>\n",
              "      <td>0</td>\n",
              "    </tr>\n",
              "  </tbody>\n",
              "</table>\n",
              "</div>\n",
              "      <button class=\"colab-df-convert\" onclick=\"convertToInteractive('df-fafb8735-7571-42a7-b3cf-e195d23adbba')\"\n",
              "              title=\"Convert this dataframe to an interactive table.\"\n",
              "              style=\"display:none;\">\n",
              "        \n",
              "  <svg xmlns=\"http://www.w3.org/2000/svg\" height=\"24px\"viewBox=\"0 0 24 24\"\n",
              "       width=\"24px\">\n",
              "    <path d=\"M0 0h24v24H0V0z\" fill=\"none\"/>\n",
              "    <path d=\"M18.56 5.44l.94 2.06.94-2.06 2.06-.94-2.06-.94-.94-2.06-.94 2.06-2.06.94zm-11 1L8.5 8.5l.94-2.06 2.06-.94-2.06-.94L8.5 2.5l-.94 2.06-2.06.94zm10 10l.94 2.06.94-2.06 2.06-.94-2.06-.94-.94-2.06-.94 2.06-2.06.94z\"/><path d=\"M17.41 7.96l-1.37-1.37c-.4-.4-.92-.59-1.43-.59-.52 0-1.04.2-1.43.59L10.3 9.45l-7.72 7.72c-.78.78-.78 2.05 0 2.83L4 21.41c.39.39.9.59 1.41.59.51 0 1.02-.2 1.41-.59l7.78-7.78 2.81-2.81c.8-.78.8-2.07 0-2.86zM5.41 20L4 18.59l7.72-7.72 1.47 1.35L5.41 20z\"/>\n",
              "  </svg>\n",
              "      </button>\n",
              "      \n",
              "  <style>\n",
              "    .colab-df-container {\n",
              "      display:flex;\n",
              "      flex-wrap:wrap;\n",
              "      gap: 12px;\n",
              "    }\n",
              "\n",
              "    .colab-df-convert {\n",
              "      background-color: #E8F0FE;\n",
              "      border: none;\n",
              "      border-radius: 50%;\n",
              "      cursor: pointer;\n",
              "      display: none;\n",
              "      fill: #1967D2;\n",
              "      height: 32px;\n",
              "      padding: 0 0 0 0;\n",
              "      width: 32px;\n",
              "    }\n",
              "\n",
              "    .colab-df-convert:hover {\n",
              "      background-color: #E2EBFA;\n",
              "      box-shadow: 0px 1px 2px rgba(60, 64, 67, 0.3), 0px 1px 3px 1px rgba(60, 64, 67, 0.15);\n",
              "      fill: #174EA6;\n",
              "    }\n",
              "\n",
              "    [theme=dark] .colab-df-convert {\n",
              "      background-color: #3B4455;\n",
              "      fill: #D2E3FC;\n",
              "    }\n",
              "\n",
              "    [theme=dark] .colab-df-convert:hover {\n",
              "      background-color: #434B5C;\n",
              "      box-shadow: 0px 1px 3px 1px rgba(0, 0, 0, 0.15);\n",
              "      filter: drop-shadow(0px 1px 2px rgba(0, 0, 0, 0.3));\n",
              "      fill: #FFFFFF;\n",
              "    }\n",
              "  </style>\n",
              "\n",
              "      <script>\n",
              "        const buttonEl =\n",
              "          document.querySelector('#df-fafb8735-7571-42a7-b3cf-e195d23adbba button.colab-df-convert');\n",
              "        buttonEl.style.display =\n",
              "          google.colab.kernel.accessAllowed ? 'block' : 'none';\n",
              "\n",
              "        async function convertToInteractive(key) {\n",
              "          const element = document.querySelector('#df-fafb8735-7571-42a7-b3cf-e195d23adbba');\n",
              "          const dataTable =\n",
              "            await google.colab.kernel.invokeFunction('convertToInteractive',\n",
              "                                                     [key], {});\n",
              "          if (!dataTable) return;\n",
              "\n",
              "          const docLinkHtml = 'Like what you see? Visit the ' +\n",
              "            '<a target=\"_blank\" href=https://colab.research.google.com/notebooks/data_table.ipynb>data table notebook</a>'\n",
              "            + ' to learn more about interactive tables.';\n",
              "          element.innerHTML = '';\n",
              "          dataTable['output_type'] = 'display_data';\n",
              "          await google.colab.output.renderOutput(dataTable, element);\n",
              "          const docLink = document.createElement('div');\n",
              "          docLink.innerHTML = docLinkHtml;\n",
              "          element.appendChild(docLink);\n",
              "        }\n",
              "      </script>\n",
              "    </div>\n",
              "  </div>\n",
              "  "
            ],
            "text/plain": [
              "year          2014                          ...                              \n",
              "month           1     2     3     4     5   ...    8     9     10    11    12\n",
              "day_of_month                                ...                              \n",
              "1                0     1     0     1     1  ...  1570  1564   674    41    12\n",
              "2              952   142  1196  2609  4386  ...  1411   154  3807  6337  7022\n",
              "3             1095   118   865  2380  4310  ...   748   247    41    70   226\n",
              "4             5732  7045  3368  4060  1351  ...  4101  1447  3524  3432   190\n",
              "5               34    48     4     1   304  ...    16   215   111    17  4938\n",
              "12               0     0     0     0     0  ...     0     0     0     0     0\n",
              "13             991  4322   161   227  2034  ...     0     0     0     0     0\n",
              "14            1060  2306    97  4084  2985  ...     0     0     0     0     0\n",
              "15             985     0   220  2015  1141  ...     0     0     0     0     0\n",
              "16             699    34   349  2994   954  ...     0     0     0     0     0\n",
              "17             961  3309  4742  2884    37  ...     0     0     0     0     0\n",
              "18              70  3641  1720  1687    77  ...     0     0     0     0     0\n",
              "19             161  6361  7896    43  1902  ...     0     0     0     0     0\n",
              "20            2360  3015  3538    21  1106  ...     0     0     0     0     0\n",
              "21            1717  1760  4389    76   747  ...     0     0     0     0     0\n",
              "22            4077  1775  1129   783   866  ...     0     0     0     0     0\n",
              "23             729   217   149  1132   699  ...     0     0     0     0     0\n",
              "24             676  4099  3343  2728   169  ...     0     0     0     0     0\n",
              "25            1421  3570  3619  2227   117  ...     0     0     0     0     0\n",
              "26              84  7807  6140   119   608  ...     0     0     0     0     0\n",
              "27            2323  3327  4976   110   887  ...     0     0     0     0     0\n",
              "28            2234  2666  1762   337   999  ...     0     0     0     0     0\n",
              "29            3924     0   743   310     0  ...     0     0     0     0     0\n",
              "30            1692     0   234   376     0  ...     0     0     0     0     0\n",
              "31            1892     0  5610     0     0  ...     0     0     0     0     0\n",
              "\n",
              "[25 rows x 12 columns]"
            ]
          },
          "metadata": {},
          "execution_count": 11
        }
      ]
    },
    {
      "cell_type": "markdown",
      "metadata": {
        "id": "XoD-LIAjBSSQ"
      },
      "source": [
        "We see that in January-November 2013 there are only sessions\n",
        " that begin on the day 12. Similarly, for 2014 there are no sessions\n",
        " for the days 5-12 of each month, and the test data is collected only\n",
        " on the days 1-5 of the months 6-12. This probably suggests that there\n",
        " was an error while obtaining the dates, that is, some of them were\n",
        " written in the format YYYY-DD-MM instead of YYYY-MM-DD. Correcting\n",
        " the dates, we get two things:\n",
        "\n",
        " 1. The potential `month` feature becomes useful;\n",
        " 2. Our classification becomes an interpolation task (with respect to time) instead of an extrapolation, which is very nice when dealing with time-series-like problems. Particularly, the days 5-12 of each months go to test, and the rest goes to train.\n",
        "\n",
        "Looking forward, correcting the dates improves the model quality."
      ]
    },
    {
      "cell_type": "code",
      "metadata": {
        "id": "dC2jlZ_FBSSR"
      },
      "source": [
        "def fix_incorrect_date_formats(df, columns_to_fix):\n",
        "    for time in columns_to_fix:\n",
        "        d = df[time]\n",
        "        d_fix = d[d.dt.day <= 12]\n",
        "        d_fix = pd.to_datetime(d_fix.apply(str), format='%Y-%d-%m %H:%M:%S')\n",
        "        df.loc[d_fix.index.values, time] = d_fix\n",
        "    return df\n",
        "\n",
        "train_df = fix_incorrect_date_formats(train_df, times)\n",
        "test_df = fix_incorrect_date_formats(test_df, times)\n",
        "\n",
        "train_df.sort_values(by='time1', inplace=True)\n",
        "\n",
        "del train_test_df"
      ],
      "execution_count": 12,
      "outputs": []
    },
    {
      "cell_type": "code",
      "metadata": {
        "id": "SGJuhnQW_4eZ"
      },
      "source": [
        "targets = train_df.target\n",
        "train_df.drop(columns='target', inplace=True)"
      ],
      "execution_count": 13,
      "outputs": []
    },
    {
      "cell_type": "markdown",
      "metadata": {
        "id": "A8Bq0IuTBSSS"
      },
      "source": [
        "As for the sites:\n",
        " - we will clean the URLs by removing the (probably unnecessary) parts such as \"http://www.\", thus joining some of the different sites together;\n",
        " - ~~we will glue the sites that are on the same domain of level 3 (there are many sites in the dictionary like 'i1-js-14-3-01-11074-190330828-i.init.cedexis-radar.net', 'i1-js-14-3-01-11074-844105972-i.init.cedexis-radar.net' and so on which can probably be mapped just to 'init.cedexis-radar.net')~~ Surprisingly, this leads to worse results."
      ]
    },
    {
      "cell_type": "code",
      "metadata": {
        "colab": {
          "base_uri": "https://localhost:8080/"
        },
        "id": "CNj5JX4XBSSS",
        "outputId": "5c2c150f-3f0a-4f32-eff2-973e2ed3f228"
      },
      "source": [
        "url_begin_expr = r\"^\\S*?\\.*?www\\S*?\\.\"\n",
        "\n",
        "shorten_site = lambda site: '.'.join(site.split('.')[-3:]) if len(site.split('.')) > 3 else site \n",
        "# tear off everything above 3rd-level domain\n",
        "\n",
        "site_dict1 = {k: re.sub(url_begin_expr, '', v) for k, v in site_dict.items()}\n",
        "reduced_site_set = list(set(site_dict1.values()))\n",
        "print(f'Reduced the number of sites from {len(site_dict)} to {len(reduced_site_set)}')\n",
        "\n",
        "# a little change so that the index of (no site) is still 0\n",
        "index_of_unknown = reduced_site_set.index('unknown')\n",
        "reduced_site_set[0], reduced_site_set[index_of_unknown] = reduced_site_set[index_of_unknown], reduced_site_set[0]\n",
        "\n",
        "site_dict2 = dict(zip(reduced_site_set, range(len(reduced_site_set)))) # reindexing the reduced sites set\n",
        "site_dict3 = {k: site_dict2[site_dict1[k]] for k in site_dict.keys()} # mapping the keys of the original site_dict\n",
        "# to the new keys (some of the keys map to the same key)\n",
        "\n",
        "for df in train_df, test_df:\n",
        "    df[sites] = df[sites].applymap(lambda site: site_dict3[site]).astype(int)\n",
        "    \n",
        "site_dict = {v: k for k, v in site_dict2.items()} # the final dictionary is the reverse of site_dict2\n",
        "del site_dict1, site_dict2, site_dict3"
      ],
      "execution_count": 14,
      "outputs": [
        {
          "output_type": "stream",
          "name": "stdout",
          "text": [
            "Reduced the number of sites from 48372 to 47135\n"
          ]
        }
      ]
    },
    {
      "cell_type": "markdown",
      "metadata": {
        "id": "nb0cpy9ABSSV"
      },
      "source": [
        "## 2. Exploratory data analysis"
      ]
    },
    {
      "cell_type": "markdown",
      "metadata": {
        "id": "K2roh9Y_BSSY"
      },
      "source": [
        "Now let's introduce additional features and analyze them. We begin with features related to sites. We extract the following features:\n",
        "\n",
        " - Number of sites in a session which are in the Alice's top 20;\n",
        " - Number of sites in a session which are in the Alice's top 20 but not the others' (we could also min-max normalize the list of top only Alice sites by the number of visits and consider a weighted sum);\n",
        " - Number of sites in a session which are in top 30 sites;\n",
        " - Number of unique sites in a session;\n",
        " - Total number of sites in session;\n",
        " - Average number of Alice's top visited sites;\n",
        " - Number of sites from top 30 in a session;\n",
        " - Average length of a site as a word.\n",
        " \n",
        " The numbers 20 and 30 are chosen arbitrarily and can be tuned."
      ]
    },
    {
      "cell_type": "code",
      "metadata": {
        "id": "-iH2yOjaBSSZ"
      },
      "source": [
        "top_alice_sites = pd.Series(train_df.loc[targets == 1, sites].values.flatten()).\\\n",
        "    value_counts(ascending=False).head(40)\n",
        "top_not_alice_sites = pd.Series(train_df.loc[targets == 0, sites].values.flatten()).\\\n",
        "    value_counts(ascending=False).head(40)\n",
        "top_only_alice_sites = top_alice_sites[list(set(top_alice_sites.index) -\n",
        "                                            set(top_not_alice_sites.index))].sort_values(ascending=False)\n",
        "    # this way we get 20 sites which are in Alice's top but not the others'\n",
        "assert len(top_only_alice_sites) == 20\n",
        "    \n",
        "top_alice_sites = pd.Series(train_df.loc[targets == 1, sites].values.flatten()).\\\n",
        "    value_counts(ascending=False).head(20)\n",
        "num_top_sites = 30\n",
        "top_sites = pd.Series(train_df[sites].values.ravel()).value_counts().head(num_top_sites + 1).drop(0)\n",
        "\n",
        "for df in (train_df, test_df):\n",
        "    df['num_only_alice_sites'] = np.isin(df[sites], top_only_alice_sites.index).sum(axis=1)\n",
        "    df['num_alice_sites'] = np.isin(df[sites], top_alice_sites.index).sum(axis=1)\n",
        "    df['num_unique_sites'] = df[sites][df[sites] != 0].nunique(axis=1)\n",
        "    df['num_sites'] = df[sites][df[sites] != 0].count(axis=1)\n",
        "    df['avg_alice_sites'] = df.num_alice_sites / df.num_sites\n",
        "    df['num_top_sites'] = np.isin(df[sites], top_sites.index).sum(axis=1)\n",
        "    df['sites_len'] = df[sites].apply(\n",
        "        lambda session: np.mean([len(site_dict[site_idx]) for site_idx in session.values if site_idx != 0]),\n",
        "        axis=1)"
      ],
      "execution_count": 15,
      "outputs": []
    },
    {
      "cell_type": "markdown",
      "metadata": {
        "id": "aozUgXKbBSSc"
      },
      "source": [
        "The second group of features are related to time. Here we extract the following features:\n",
        " - Linear time (normalized) up to a day\n",
        " - Month and day of the week\n",
        " - Total session timespan\n",
        " - Average time spent on a site in seconds\n",
        " - Start hour of a session\n",
        " - Sine and cosine of the start hour (may be useful since we are going to use a linear model and the hour feature is cyclic)\n",
        "\n",
        "Note that the inclusion of the months features will lead to the overfitting to the train dataset, because we only have the data from two years. So if you want to build a good predictive model, don't do that! Or at least make sure you have the data from many years.\n",
        "\n",
        "But we are trying to get a high score in a Kaggle competition here, so the end justifies the means. \n",
        "\n",
        "Just for the sake of honesty, we construct a model independent of months features that gets a decent score anyway.\n",
        "\n"
      ]
    },
    {
      "cell_type": "code",
      "metadata": {
        "id": "yttHH8UNBSSd"
      },
      "source": [
        "month_days = {1: 31, 2: 28, 3: 31, 4: 30, 5: 31, 6:30, 7: 31, 8: 31, 9: 30, 10: 31, 11: 30, 12: 31}\n",
        "for df in (train_df, test_df):\n",
        "    df['yyyymmdd'] = df.time1.map((lambda timestamp: (12 * (timestamp.year - 2013) + (timestamp.month - 1) + \n",
        "                                                     (timestamp.day - 1) / month_days[timestamp.month]) / 10))\n",
        "    df['month'] = df.time1.dt.month\n",
        "    df['day_of_week'] = df.time1.dt.dayofweek\n",
        "    df['session_timespan'] = (df[times].max(axis=1) - df[times].min(axis=1)).dt.seconds\n",
        "    df['avg_time_on_site'] = (df[times].max(axis=1) - df[times].min(axis=1)).dt.seconds / df.num_sites\n",
        "    df['start_hour'] = (df.time1.dt.hour % 24)\n",
        "    df['hour_cos'] = np.cos(2 * np.pi * df.time1.dt.hour / 24)\n",
        "    df['hour_sin'] = np.sin(2 * np.pi * df.time1.dt.hour / 24)"
      ],
      "execution_count": 16,
      "outputs": []
    },
    {
      "cell_type": "markdown",
      "metadata": {
        "id": "dWVd2GCzBSSe"
      },
      "source": [
        "First of all, as we're going to use a linear model, we will need normalized features. The only features which can achieve arbitrary high values are the length and the average length of a session. Let's look at their plots:"
      ]
    },
    {
      "cell_type": "code",
      "metadata": {
        "colab": {
          "base_uri": "https://localhost:8080/",
          "height": 514
        },
        "id": "ZMZoQTqSBSSe",
        "outputId": "4eab7dd9-34b5-4ac8-e9fa-2b0b5538b169"
      },
      "source": [
        "fig, ax = plt.subplots(1, 2, figsize=(13, 8))\n",
        "sns.distplot(train_df['session_timespan'], ax=ax[0])\n",
        "sns.distplot(train_df['avg_time_on_site'], ax=ax[1])\n",
        "\n",
        "ax[0].set_title('Session timespan distribution')\n",
        "ax[1].set_title('Average time on site distribution');"
      ],
      "execution_count": 17,
      "outputs": [
        {
          "output_type": "display_data",
          "data": {
            "image/png": "[encoded data removed]",
            "text/plain": [
              "<Figure size 936x576 with 2 Axes>"
            ]
          },
          "metadata": {
            "needs_background": "light"
          }
        }
      ]
    },
    {
      "cell_type": "markdown",
      "metadata": {
        "id": "XgU-3V4kBSSg"
      },
      "source": [
        "So these features are indeed highly skewed. To deal with this, we will log-normalize them."
      ]
    },
    {
      "cell_type": "code",
      "metadata": {
        "colab": {
          "base_uri": "https://localhost:8080/",
          "height": 514
        },
        "id": "1gls2AoaEfbA",
        "outputId": "5f49ce82-30d3-4f2c-b1e5-4b132bff09f3"
      },
      "source": [
        "for df in train_df, test_df:\n",
        "    df['session_timespan'] = np.log1p(df['session_timespan'])\n",
        "    df['avg_time_on_site'] = np.log1p(df['avg_time_on_site'])\n",
        "\n",
        "fig, ax = plt.subplots(1, 2, figsize=(13, 8))\n",
        "sns.distplot(train_df['session_timespan'], ax=ax[0])\n",
        "sns.distplot(train_df['avg_time_on_site'], ax=ax[1])\n",
        "\n",
        "ax[0].set_title('Session timespan distribution')\n",
        "ax[1].set_title('Average time on site distribution');"
      ],
      "execution_count": 18,
      "outputs": [
        {
          "output_type": "display_data",
          "data": {
            "image/png": "[encoded data removed]",
            "text/plain": [
              "<Figure size 936x576 with 2 Axes>"
            ]
          },
          "metadata": {
            "needs_background": "light"
          }
        }
      ]
    },
    {
      "cell_type": "markdown",
      "metadata": {
        "id": "QncAMhBtBSSi"
      },
      "source": [
        "Before doing graphical data analysis, let's check if the introduced features are independent (by Spearman pairwise correlation)."
      ]
    },
    {
      "cell_type": "code",
      "metadata": {
        "colab": {
          "base_uri": "https://localhost:8080/",
          "height": 691
        },
        "id": "csV9j9JtBSSk",
        "outputId": "a8705cc7-4c8a-4488-82f5-244f4f735d08"
      },
      "source": [
        "plt.figure(figsize = (16, 10)) \n",
        "sns.heatmap(train_df.iloc[:, 20:].corr('spearman'), annot=True, fmt='.2f', cmap='Blues');"
      ],
      "execution_count": 19,
      "outputs": [
        {
          "output_type": "display_data",
          "data": {
            "image/png": "[encoded data removed]",
            "text/plain": [
              "<Figure size 1152x720 with 2 Axes>"
            ]
          },
          "metadata": {
            "needs_background": "light"
          }
        }
      ]
    },
    {
      "cell_type": "markdown",
      "metadata": {
        "id": "GugxyQQdBSSl"
      },
      "source": [
        "Based on the correlation matrix, we can safely exclude `avg_alice_sites`, `avg_time_on_site` and `hour_sin` features (the last on correlating with the start hour means that the majority of the sessions begin during the day where the function $\\sin(hour)$ behaves almost linearly, as we will see later). We will drop `hour_cos` as well. Some of the site features also show relatively big correlation so we'll have to be careful with them later."
      ]
    },
    {
      "cell_type": "code",
      "metadata": {
        "id": "sf-0dnt0BSSl"
      },
      "source": [
        "to_drop = ['avg_alice_sites', 'avg_time_on_site', 'hour_sin', 'hour_cos']\n",
        "for df in train_df, test_df:\n",
        "    df.drop(to_drop, axis=1, inplace=True)"
      ],
      "execution_count": 20,
      "outputs": []
    },
    {
      "cell_type": "markdown",
      "metadata": {
        "id": "7_AJtWpDBSSm"
      },
      "source": [
        "Let's draw some plots now. We will see if some features that we introduced indeed separate the two classes. Let's begin with the linear time:"
      ]
    },
    {
      "cell_type": "code",
      "metadata": {
        "colab": {
          "base_uri": "https://localhost:8080/",
          "height": 308
        },
        "id": "ofEnWvYTNfK9",
        "outputId": "675a4436-cc3d-440a-dedb-34f48da7802c"
      },
      "source": [
        "def plot_num_feature(feature, plot=sns.kdeplot, description=None, **plot_params):\n",
        "    for i in targets.unique():\n",
        "        label = 'Not' * (1 - i) + ' Alice'\n",
        "        plot(train_df.loc[targets == i, feature], label=label, **plot_params)\n",
        "    if description is None:    \n",
        "        plt.suptitle(f'Distribution of {feature} according to the target class')\n",
        "    else:\n",
        "        plt.suptitle(description)\n",
        "    plt.legend(loc='best');\n",
        "\n",
        "plot_num_feature('yyyymmdd', description='Distribution of the number of sessions by linear time, starting from 2013', shade=True)"
      ],
      "execution_count": 21,
      "outputs": [
        {
          "output_type": "display_data",
          "data": {
            "image/png": "[encoded data removed]",
            "text/plain": [
              "<Figure size 432x288 with 1 Axes>"
            ]
          },
          "metadata": {
            "needs_background": "light"
          }
        }
      ]
    },
    {
      "cell_type": "markdown",
      "metadata": {
        "id": "9lGNj1MiBSSm"
      },
      "source": [
        "Well, at least it doesn't look like there is a linear dependence between the time and the target variable. So we'll probably have to discard this feature and binarize other linear time features, such as 'month'. Let's look at the weekday now:"
      ]
    },
    {
      "cell_type": "code",
      "metadata": {
        "colab": {
          "base_uri": "https://localhost:8080/",
          "height": 555
        },
        "id": "7l5uDJKfBSSn",
        "outputId": "732b8be8-c309-4b11-9cee-7878ad6a2cb5"
      },
      "source": [
        "def plot_cat_feature(feature, plot=sns.countplot, description=None, **plot_params):\n",
        "    fig, ax = plt.subplots(1, 2, figsize=(13, 8))\n",
        "    for i in [0, 1]:\n",
        "        plot(train_df.loc[targets == i, feature], ax=ax[i], **plot_params)\n",
        "        ax[i].set_title('Not' * (1 - i) + ' Alice')\n",
        "\n",
        "    if description is None:    \n",
        "        plt.suptitle(f'Distribution of {feature} according to the feature class')\n",
        "    else:\n",
        "        plt.suptitle(description);\n",
        "\n",
        "\n",
        "plot_cat_feature('day_of_week', description='Distribution of number of sessions by weekday')"
      ],
      "execution_count": 22,
      "outputs": [
        {
          "output_type": "display_data",
          "data": {
            "image/png": "[encoded data removed]",
            "text/plain": [
              "<Figure size 936x576 with 2 Axes>"
            ]
          },
          "metadata": {
            "needs_background": "light"
          }
        }
      ]
    },
    {
      "cell_type": "markdown",
      "metadata": {
        "id": "xI2C7yXsBSSn"
      },
      "source": [
        "So we see that Alice has no sessions during the weekend, and almost no sessions during Wednesday, so we might want to binarize the `day` feature and extract these days as explicit features. Let's look at the `start_hour` feature:"
      ]
    },
    {
      "cell_type": "code",
      "metadata": {
        "colab": {
          "base_uri": "https://localhost:8080/",
          "height": 555
        },
        "id": "pHCjhs3DBSSn",
        "outputId": "e9b9dbdf-b6fa-4dc3-e87c-232ef2932e46"
      },
      "source": [
        "plot_cat_feature('start_hour')"
      ],
      "execution_count": 23,
      "outputs": [
        {
          "output_type": "display_data",
          "data": {
            "image/png": "[encoded data removed]",
            "text/plain": [
              "<Figure size 936x576 with 2 Axes>"
            ]
          },
          "metadata": {
            "needs_background": "light"
          }
        }
      ]
    },
    {
      "cell_type": "markdown",
      "metadata": {
        "id": "XybuDcNdBSSo"
      },
      "source": [
        "So Alice isn't active before 9 (almost no activity until noon, in fact) and after 19. So perhaps it's better to binarize this feature as well. Let's look at the normalized session timespan:"
      ]
    },
    {
      "cell_type": "code",
      "metadata": {
        "colab": {
          "base_uri": "https://localhost:8080/",
          "height": 309
        },
        "id": "nRrQtN_MSgfZ",
        "outputId": "30d6dbb6-35dc-484b-96fb-42f56bab3d13"
      },
      "source": [
        "plot_num_feature('session_timespan', plot=sns.distplot)"
      ],
      "execution_count": 24,
      "outputs": [
        {
          "output_type": "display_data",
          "data": {
            "image/png": "[encoded data removed]",
            "text/plain": [
              "<Figure size 432x288 with 1 Axes>"
            ]
          },
          "metadata": {
            "needs_background": "light"
          }
        }
      ]
    },
    {
      "cell_type": "markdown",
      "metadata": {
        "id": "4cZOBJKHBSSp"
      },
      "source": [
        "It appears that Alice's sessions are generally a bit shorter. Now let's look at the site features:"
      ]
    },
    {
      "cell_type": "code",
      "metadata": {
        "colab": {
          "base_uri": "https://localhost:8080/",
          "height": 1000
        },
        "id": "AiQIS-9jBSSp",
        "outputId": "3b52311f-2b43-4c1b-82e7-72eb3de9646d"
      },
      "source": [
        "add_site_features = ['num_only_alice_sites', 'num_alice_sites', \n",
        "                 'num_unique_sites', 'num_sites', 'num_top_sites']\n",
        "\n",
        "for feature in add_site_features:\n",
        "    plot_cat_feature(feature)"
      ],
      "execution_count": 25,
      "outputs": [
        {
          "output_type": "display_data",
          "data": {
            "image/png": "[encoded data removed]",
            "text/plain": [
              "<Figure size 936x576 with 2 Axes>"
            ]
          },
          "metadata": {
            "needs_background": "light"
          }
        },
        {
          "output_type": "display_data",
          "data": {
            "image/png": "[encoded data removed]",
            "text/plain": [
              "<Figure size 936x576 with 2 Axes>"
            ]
          },
          "metadata": {
            "needs_background": "light"
          }
        },
        {
          "output_type": "display_data",
          "data": {
            "image/png": "[encoded data removed]",
            "text/plain": [
              "<Figure size 936x576 with 2 Axes>"
            ]
          },
          "metadata": {
            "needs_background": "light"
          }
        },
        {
          "output_type": "display_data",
          "data": {
            "image/png": "[encoded data removed]",
            "text/plain": [
              "<Figure size 936x576 with 2 Axes>"
            ]
          },
          "metadata": {
            "needs_background": "light"
          }
        },
        {
          "output_type": "display_data",
          "data": {
            "image/png": "[encoded data removed]",
            "text/plain": [
              "<Figure size 936x576 with 2 Axes>"
            ]
          },
          "metadata": {
            "needs_background": "light"
          }
        }
      ]
    },
    {
      "cell_type": "markdown",
      "metadata": {
        "id": "S5IijIwVBSSr"
      },
      "source": [
        "The visual analysis suggests that the features related with number of sites from certain groups distinguish the two classes more clearly."
      ]
    },
    {
      "cell_type": "markdown",
      "metadata": {
        "id": "wn4she3Scajf"
      },
      "source": [
        "The distributions of visited sites lengths are almost equal, so this feature probably won't be important:"
      ]
    },
    {
      "cell_type": "code",
      "metadata": {
        "colab": {
          "base_uri": "https://localhost:8080/",
          "height": 309
        },
        "id": "f_2wiTjCBSSq",
        "outputId": "813d82af-78ab-4151-ef2a-1ef1fb9a33f3"
      },
      "source": [
        "plot_num_feature('sites_len', plot=sns.distplot)"
      ],
      "execution_count": 26,
      "outputs": [
        {
          "output_type": "display_data",
          "data": {
            "image/png": "[encoded data removed]",
            "text/plain": [
              "<Figure size 432x288 with 1 Axes>"
            ]
          },
          "metadata": {
            "needs_background": "light"
          }
        }
      ]
    },
    {
      "cell_type": "markdown",
      "metadata": {
        "id": "6JuLgudABSSr"
      },
      "source": [
        "Now let us update the time features: we delete the linear time and binarize the cyclic time features such as month and hour. We also group some of the features together: for example, there is no point in making two separate features for two weekend days. We will also make features for time of the day (for example, for the period of 12-13 and 16-18 hours, because Alice is more active on this period. Grouping hour features may also reduce overfitting), excluding night, because there are no sessions that begin at night."
      ]
    },
    {
      "cell_type": "code",
      "metadata": {
        "id": "aUZNy6q5BSSr"
      },
      "source": [
        "for df in train_df, test_df:\n",
        "    df.drop(columns='yyyymmdd', inplace=True)"
      ],
      "execution_count": 27,
      "outputs": []
    },
    {
      "cell_type": "code",
      "metadata": {
        "id": "0T5acKNGBSSs"
      },
      "source": [
        "columns_to_dummies = ['start_hour','day_of_week', 'month']\n",
        "train_df = pd.get_dummies(train_df, columns=columns_to_dummies, drop_first=False) # мб надо попробовать с False\n",
        "test_df = pd.get_dummies(test_df, columns=columns_to_dummies, drop_first=False)"
      ],
      "execution_count": 28,
      "outputs": []
    },
    {
      "cell_type": "code",
      "metadata": {
        "id": "bt879VVzBSSs"
      },
      "source": [
        "for df in train_df, test_df:\n",
        "    df['12-13'] = ((12 <= df.time1.dt.hour) & (df.time1.dt.hour <= 13)).astype(int)\n",
        "    df['16-18'] = ((16 <= df.time1.dt.hour) & (df.time1.dt.hour <= 18)).astype(int)\n",
        "    df['morning'] = ((7 <= df.time1.dt.hour) & (df.time1.dt.hour <= 11)).astype(int)\n",
        "    df['day'] = ((12 <= df.time1.dt.hour) & (df.time1.dt.hour <= 18)).astype(int)\n",
        "    df['evening'] = ((19 <= df.time1.dt.hour) & (df.time1.dt.hour <= 24)).astype(int)\n",
        "    df['is_weekend'] = df.day_of_week_5 + df.day_of_week_6 \n",
        "\n",
        "for df in train_df, test_df:\n",
        "    df.drop(columns=['day_of_week_5', 'day_of_week_6'], inplace=True)"
      ],
      "execution_count": 29,
      "outputs": []
    },
    {
      "cell_type": "code",
      "metadata": {
        "id": "N1zowA4bBSSu"
      },
      "source": [
        "add_features_train = train_df.iloc[:, 20:]\n",
        "add_features_test = test_df.iloc[:, 20:]"
      ],
      "execution_count": 30,
      "outputs": []
    },
    {
      "cell_type": "markdown",
      "metadata": {
        "id": "-dag8zJWBSSx"
      },
      "source": [
        "## 3. Data model, model and metrics choice, CV scheme\n",
        "\n",
        "We will consider the sessions as phrases in a language\n",
        "where the sites URLs are words, and use the\n",
        "bag of words model to represent a session as a sparse\n",
        "vector. In order to preserve the temporal order of sites in a session we will also capture $n$-grams of sites for $n \\le 5$ (The vectorizer parameters were chosen empirically, alternatively, we can consider $n$ as a hyperparameter and tune it at cross-validation). To emphasize the more important features we vectorize the sessions by Tf-idf and cut the number of features by 50000, so we have at least 5 train examples for each feature."
      ]
    },
    {
      "cell_type": "code",
      "metadata": {
        "colab": {
          "base_uri": "https://localhost:8080/"
        },
        "id": "TCQA6W3aA0aa",
        "outputId": "ea8d495f-4bbc-4046-9fe1-7264411e522c"
      },
      "source": [
        "%%time\n",
        "vectorizer_params={'ngram_range': (1, 5),\n",
        "                   'max_features': 50000,\n",
        "                   'tokenizer': lambda s: s.split(),\n",
        "                   'sublinear_tf': True,\n",
        "                   'min_df': 20,\n",
        "                   }\n",
        "\n",
        "\n",
        "def vectorize_sites(train_df, test_df, params):\n",
        "    \"\"\"Transform the sessions into sentences of the sites, fit a Tf-Idf vectorizer\n",
        "    on the train data sessions and transform the test data sessions.\"\"\"\n",
        "    train_sessions = train_df[sites].apply(lambda row: ' '.join(site_dict[idx] for idx in row), axis=1)\n",
        "    test_sessions = test_df[sites].apply(lambda row: ' '.join(site_dict[idx] for idx in row), axis=1)\n",
        "\n",
        "    vectorizer = TfidfVectorizer(**params)\n",
        "    train_sessions = vectorizer.fit_transform(train_sessions)\n",
        "    test_sessions = vectorizer.transform(test_sessions)\n",
        "\n",
        "    return vectorizer, train_sessions, test_sessions\n",
        "\n",
        "\n",
        "tf_idf, X_train_sparse, X_test_sparse = vectorize_sites(train_df, test_df, vectorizer_params)\n",
        "site_features = tf_idf.get_feature_names()"
      ],
      "execution_count": 32,
      "outputs": [
        {
          "output_type": "stream",
          "name": "stdout",
          "text": [
            "CPU times: user 31.8 s, sys: 1.12 s, total: 32.9 s\n",
            "Wall time: 33.5 s\n"
          ]
        }
      ]
    },
    {
      "cell_type": "code",
      "metadata": {
        "colab": {
          "base_uri": "https://localhost:8080/"
        },
        "id": "-62_vKQUu2Wp",
        "outputId": "99bf110f-1bf4-4036-f039-c5a9fcada510"
      },
      "source": [
        "len(site_features)"
      ],
      "execution_count": 33,
      "outputs": [
        {
          "output_type": "execute_result",
          "data": {
            "text/plain": [
              "28020"
            ]
          },
          "metadata": {},
          "execution_count": 33
        }
      ]
    },
    {
      "cell_type": "markdown",
      "metadata": {
        "id": "vppZjiwuBSSx"
      },
      "source": [
        "Now let's choose the model and CV scheme.\n",
        "\n",
        "We will choose a linear model because they work well with the bag of words approach (a lot of sparse features). Because classes are unbalanced, we will use ROC-AUC metric to measure the effectiveness of our predictions, so we need a model that gives easily interpretable certainty coefficients, so we will use logistic regression (although we try to use SVMs as well).\n",
        "\n",
        "We chose liblinear solver because it gave higher scores on CV.\n"
      ]
    },
    {
      "cell_type": "code",
      "metadata": {
        "id": "sXnyo6ffBSSx"
      },
      "source": [
        "logit = LogisticRegression(C=1, random_state=17, solver='liblinear')"
      ],
      "execution_count": 34,
      "outputs": []
    },
    {
      "cell_type": "markdown",
      "source": [
        "As for the CV scheme, recall that our data has an inherent time structure that we want to preserve. So we use `TimeSeriesSplit`, a strategy that is commonly implemented when one works with time series. For each model, we compute the mean CV scores of the model and also the mean variance of the scores (to control possible overfitting). \n",
        "\n",
        "Update: in fact, choosing `TimeSeriesSplit` for as the CV scheme for this task seems [dubious](https://www.kaggle.com/c/catch-me-if-you-can-intruder-detection-through-webpage-session-tracking2/discussion/178645), but empirically we found out that this scheme correlates the most with the leaderboard. We use the `StratifiedKFold` to analyze the trends in data as well.\n",
        "\n",
        "Some attempts to evaluate model performance that didn't work:\n",
        "\n",
        "- Ignoring the data from 2013 completely (recall that test data is completely in 2014) — we get overfitting, see below;\n",
        "- Assigning a weight to a score on `StratifiedKFold` proportional to its time intersection with test (folds with values from months from which there is more data in the test set get higher weight, yeah, overfitting, didn't work anyway);\n",
        "- Shuffle split — almost no difference in scores between various configurations, good or bad."
      ],
      "metadata": {
        "id": "eKShaBryGUwd"
      }
    },
    {
      "cell_type": "code",
      "source": [
        "time_split = TimeSeriesSplit(n_splits=10)\n",
        "cv_split = StratifiedKFold(n_splits=10)"
      ],
      "metadata": {
        "id": "hfRv1pYaGWxY"
      },
      "execution_count": 35,
      "outputs": []
    },
    {
      "cell_type": "markdown",
      "metadata": {
        "id": "jYBlp140u2W2"
      },
      "source": [
        "Our main tool for model evaluation is the `cross_val_scheme` function. We define some additional parameters for the function to be used later.\n",
        "\n",
        "Instead of simply fitting the model on the whole dataset and printing the coefficients of the additional features, we tried to display the coefficients we got on validation during CV as a boxplot (like [here](https://scikit-learn.org/stable/auto_examples/inspection/plot_linear_model_coefficient_interpretation.html#id5)), but this didn't lead anywhere: some features with the high variance were useful, some weren't. Moreover, for any CV split with time-contigious folds the variance of the months features will be high."
      ]
    },
    {
      "cell_type": "code",
      "metadata": {
        "id": "_yesq6LtTKBw"
      },
      "source": [
        "def cross_val_scheme(model=logit,\n",
        "                     base_features=X_train_sparse,\n",
        "                     base_feature_names=site_features,\n",
        "                     add_features=None, # a pd.Dataframe with named columns (feature names)\n",
        "                     targets=targets,\n",
        "                     cv=time_split,\n",
        "                     scoring='roc_auc', \n",
        "                     cutoff=None,\n",
        "                     print_all_coefs=False,\n",
        "                     print_add_coefs=True,\n",
        "                     prefit=False):\n",
        "\n",
        "  model_ = clone(model)\n",
        "\n",
        "  if add_features is not None: # add new features if provided\n",
        "    features = hstack([base_features, add_features]).tocsr()\n",
        "    feature_names = base_feature_names + list(add_features.columns)\n",
        "  else:\n",
        "    features = base_features\n",
        "    feature_names = base_feature_names\n",
        "  \n",
        "  if cutoff is not None:\n",
        "    features = features[cutoff:]\n",
        "    targets = targets[cutoff:]\n",
        "  \n",
        "  cv_results = cross_validate(model_, features, targets, scoring=scoring, cv=cv, n_jobs=-1, return_estimator=True)\n",
        "\n",
        "  cv_scores = cv_results['test_score']\n",
        "  # cv_scores = cross_val_score(model, features, targets, scoring=scoring, cv=cv, n_jobs=-1)\n",
        "  print(f'CV Scores \\n {cv_scores}')\n",
        "  print(f'CV scores mean: {cv_scores.mean():.4f} \\t CV scores std: {cv_scores.std():.4f}')\n",
        "\n",
        "  if not prefit:\n",
        "    model_.fit(features, targets)\n",
        "  \n",
        "  if print_all_coefs:\n",
        "    display_html(eli5.show_weights(model_, feature_names=feature_names, top=30))\n",
        "  \n",
        "  if add_features is not None and print_add_coefs:\n",
        "    coef_attr = 'coef_' if hasattr(model_, 'coef_') \\\n",
        "    else 'feature_importances_' if hasattr(model_, 'feature_importances_') else None\n",
        "    # calculate importances of additional features if they exist\n",
        "    if coef_attr is not None:\n",
        "      add_coefs = pd.DataFrame({\n",
        "          'feature': list(add_features.columns),\n",
        "          coef_attr: getattr(model_, coef_attr).flatten()[-add_features.shape[1]:]\n",
        "          })\n",
        "      add_coefs.sort_values(by=coef_attr, ascending=False, inplace=True)\n",
        "      print(add_coefs)\n",
        "      \n",
        "  return model_, cv_scores"
      ],
      "execution_count": 36,
      "outputs": []
    },
    {
      "cell_type": "code",
      "metadata": {
        "id": "Ab5B5NhVoyIT"
      },
      "source": [
        "def write_to_submission_file(predicted_labels, out_file,\n",
        "                             target='target', index_label=\"session_id\"):\n",
        "    # turn predictions into data frame and save as csv file\n",
        "    predicted_df = pd.DataFrame(predicted_labels,\n",
        "                                index = np.arange(1, predicted_labels.shape[0] + 1),\n",
        "                                columns=[target])\n",
        "    predicted_df.to_csv(out_file, index_label=index_label)"
      ],
      "execution_count": 37,
      "outputs": []
    },
    {
      "cell_type": "code",
      "metadata": {
        "id": "clYkXT72snY-",
        "colab": {
          "base_uri": "https://localhost:8080/"
        },
        "outputId": "d0397878-7340-4619-ef4b-25e320637dcc"
      },
      "source": [
        "len(site_features)"
      ],
      "execution_count": 38,
      "outputs": [
        {
          "output_type": "execute_result",
          "data": {
            "text/plain": [
              "28020"
            ]
          },
          "metadata": {},
          "execution_count": 38
        }
      ]
    },
    {
      "cell_type": "markdown",
      "metadata": {
        "id": "zO7Et2aNBSSz"
      },
      "source": [
        "Let's obtain a baseline model using only the data about visited sites contained in sparse matrices."
      ]
    },
    {
      "cell_type": "code",
      "metadata": {
        "colab": {
          "base_uri": "https://localhost:8080/",
          "height": 714
        },
        "id": "XSDnR1C8m9U1",
        "outputId": "2f3c8b6e-fec8-4f91-84ec-dc8da5fd8f66"
      },
      "source": [
        "_, cv_scores_time1 = cross_val_scheme(print_all_coefs=True) # max_features=50000, sublinear_tf=True"
      ],
      "execution_count": 39,
      "outputs": [
        {
          "output_type": "stream",
          "name": "stdout",
          "text": [
            "CV Scores \n",
            " [0.68422462 0.86472381 0.90091973 0.80905498 0.85485056 0.92602125\n",
            " 0.73099692 0.8904301  0.91561298 0.92922192]\n",
            "CV scores mean: 0.8506 \t CV scores std: 0.0801\n"
          ]
        },
        {
          "output_type": "display_data",
          "data": {
            "text/html": [
              "\n",
              "    <style>\n",
              "    table.eli5-weights tr:hover {\n",
              "        filter: brightness(85%);\n",
              "    }\n",
              "</style>\n",
              "\n",
              "\n",
              "\n",
              "    \n",
              "\n",
              "    \n",
              "\n",
              "    \n",
              "\n",
              "    \n",
              "\n",
              "    \n",
              "\n",
              "    \n",
              "\n",
              "\n",
              "    \n",
              "\n",
              "    \n",
              "\n",
              "    \n",
              "\n",
              "    \n",
              "        \n",
              "\n",
              "    \n",
              "\n",
              "        \n",
              "            \n",
              "                \n",
              "                \n",
              "    \n",
              "        <p style=\"margin-bottom: 0.5em; margin-top: 0em\">\n",
              "            <b>\n",
              "    \n",
              "        y=1\n",
              "    \n",
              "</b>\n",
              "\n",
              "top features\n",
              "        </p>\n",
              "    \n",
              "    <table class=\"eli5-weights\"\n",
              "           style=\"border-collapse: collapse; border: none; margin-top: 0em; table-layout: auto; margin-bottom: 2em;\">\n",
              "        <thead>\n",
              "        <tr style=\"border: none;\">\n",
              "            \n",
              "                <th style=\"padding: 0 1em 0 0.5em; text-align: right; border: none;\" title=\"Feature weights. Note that weights do not account for feature value scales, so if feature values have different scales, features with highest weights might not be the most important.\">\n",
              "                    Weight<sup>?</sup>\n",
              "                </th>\n",
              "            \n",
              "            <th style=\"padding: 0 0.5em 0 0.5em; text-align: left; border: none;\">Feature</th>\n",
              "            \n",
              "        </tr>\n",
              "        </thead>\n",
              "        <tbody>\n",
              "        \n",
              "            <tr style=\"background-color: hsl(120, 100.00%, 80.00%); border: none;\">\n",
              "    <td style=\"padding: 0 1em 0 0.5em; text-align: right; border: none;\">\n",
              "        +5.709\n",
              "    </td>\n",
              "    <td style=\"padding: 0 0.5em 0 0.5em; text-align: left; border: none;\">\n",
              "        cid-ed6c3e6a5c6608a4.users.storage.live.com\n",
              "    </td>\n",
              "    \n",
              "</tr>\n",
              "        \n",
              "            <tr style=\"background-color: hsl(120, 100.00%, 80.19%); border: none;\">\n",
              "    <td style=\"padding: 0 1em 0 0.5em; text-align: right; border: none;\">\n",
              "        +5.631\n",
              "    </td>\n",
              "    <td style=\"padding: 0 0.5em 0 0.5em; text-align: left; border: none;\">\n",
              "        info-jeunes.net\n",
              "    </td>\n",
              "    \n",
              "</tr>\n",
              "        \n",
              "            <tr style=\"background-color: hsl(120, 100.00%, 80.64%); border: none;\">\n",
              "    <td style=\"padding: 0 1em 0 0.5em; text-align: right; border: none;\">\n",
              "        +5.449\n",
              "    </td>\n",
              "    <td style=\"padding: 0 0.5em 0 0.5em; text-align: left; border: none;\">\n",
              "        youwatch.org\n",
              "    </td>\n",
              "    \n",
              "</tr>\n",
              "        \n",
              "            <tr style=\"background-color: hsl(120, 100.00%, 81.13%); border: none;\">\n",
              "    <td style=\"padding: 0 1em 0 0.5em; text-align: right; border: none;\">\n",
              "        +5.252\n",
              "    </td>\n",
              "    <td style=\"padding: 0 0.5em 0 0.5em; text-align: left; border: none;\">\n",
              "        fr.glee.wikia.com\n",
              "    </td>\n",
              "    \n",
              "</tr>\n",
              "        \n",
              "            <tr style=\"background-color: hsl(120, 100.00%, 82.46%); border: none;\">\n",
              "    <td style=\"padding: 0 1em 0 0.5em; text-align: right; border: none;\">\n",
              "        +4.734\n",
              "    </td>\n",
              "    <td style=\"padding: 0 0.5em 0 0.5em; text-align: left; border: none;\">\n",
              "        vk.com\n",
              "    </td>\n",
              "    \n",
              "</tr>\n",
              "        \n",
              "            <tr style=\"background-color: hsl(120, 100.00%, 83.41%); border: none;\">\n",
              "    <td style=\"padding: 0 1em 0 0.5em; text-align: right; border: none;\">\n",
              "        +4.372\n",
              "    </td>\n",
              "    <td style=\"padding: 0 0.5em 0 0.5em; text-align: left; border: none;\">\n",
              "        video.tt\n",
              "    </td>\n",
              "    \n",
              "</tr>\n",
              "        \n",
              "            <tr style=\"background-color: hsl(120, 100.00%, 83.43%); border: none;\">\n",
              "    <td style=\"padding: 0 1em 0 0.5em; text-align: right; border: none;\">\n",
              "        +4.364\n",
              "    </td>\n",
              "    <td style=\"padding: 0 0.5em 0 0.5em; text-align: left; border: none;\">\n",
              "        audienceinsights.net\n",
              "    </td>\n",
              "    \n",
              "</tr>\n",
              "        \n",
              "            <tr style=\"background-color: hsl(120, 100.00%, 83.55%); border: none;\">\n",
              "    <td style=\"padding: 0 1em 0 0.5em; text-align: right; border: none;\">\n",
              "        +4.317\n",
              "    </td>\n",
              "    <td style=\"padding: 0 0.5em 0 0.5em; text-align: left; border: none;\">\n",
              "        glam.com\n",
              "    </td>\n",
              "    \n",
              "</tr>\n",
              "        \n",
              "            <tr style=\"background-color: hsl(120, 100.00%, 84.29%); border: none;\">\n",
              "    <td style=\"padding: 0 1em 0 0.5em; text-align: right; border: none;\">\n",
              "        +4.045\n",
              "    </td>\n",
              "    <td style=\"padding: 0 0.5em 0 0.5em; text-align: left; border: none;\">\n",
              "        reviewer.lavoixdunord.fr\n",
              "    </td>\n",
              "    \n",
              "</tr>\n",
              "        \n",
              "            <tr style=\"background-color: hsl(120, 100.00%, 84.39%); border: none;\">\n",
              "    <td style=\"padding: 0 1em 0 0.5em; text-align: right; border: none;\">\n",
              "        +4.006\n",
              "    </td>\n",
              "    <td style=\"padding: 0 0.5em 0 0.5em; text-align: left; border: none;\">\n",
              "        melty.fr\n",
              "    </td>\n",
              "    \n",
              "</tr>\n",
              "        \n",
              "            <tr style=\"background-color: hsl(120, 100.00%, 84.49%); border: none;\">\n",
              "    <td style=\"padding: 0 1em 0 0.5em; text-align: right; border: none;\">\n",
              "        +3.970\n",
              "    </td>\n",
              "    <td style=\"padding: 0 0.5em 0 0.5em; text-align: left; border: none;\">\n",
              "        r4---sn-gxo5uxg-jqbe.googlevideo.com\n",
              "    </td>\n",
              "    \n",
              "</tr>\n",
              "        \n",
              "            <tr style=\"background-color: hsl(120, 100.00%, 84.52%); border: none;\">\n",
              "    <td style=\"padding: 0 1em 0 0.5em; text-align: right; border: none;\">\n",
              "        +3.960\n",
              "    </td>\n",
              "    <td style=\"padding: 0 0.5em 0 0.5em; text-align: left; border: none;\">\n",
              "        api.bing.com\n",
              "    </td>\n",
              "    \n",
              "</tr>\n",
              "        \n",
              "            <tr style=\"background-color: hsl(120, 100.00%, 84.54%); border: none;\">\n",
              "    <td style=\"padding: 0 1em 0 0.5em; text-align: right; border: none;\">\n",
              "        +3.952\n",
              "    </td>\n",
              "    <td style=\"padding: 0 0.5em 0 0.5em; text-align: left; border: none;\">\n",
              "        purepeople.com\n",
              "    </td>\n",
              "    \n",
              "</tr>\n",
              "        \n",
              "            <tr style=\"background-color: hsl(120, 100.00%, 84.63%); border: none;\">\n",
              "    <td style=\"padding: 0 1em 0 0.5em; text-align: right; border: none;\">\n",
              "        +3.918\n",
              "    </td>\n",
              "    <td style=\"padding: 0 0.5em 0 0.5em; text-align: left; border: none;\">\n",
              "        browser-update.org\n",
              "    </td>\n",
              "    \n",
              "</tr>\n",
              "        \n",
              "            <tr style=\"background-color: hsl(120, 100.00%, 84.63%); border: none;\">\n",
              "    <td style=\"padding: 0 1em 0 0.5em; text-align: right; border: none;\">\n",
              "        +3.918\n",
              "    </td>\n",
              "    <td style=\"padding: 0 0.5em 0 0.5em; text-align: left; border: none;\">\n",
              "        s.videostep.com\n",
              "    </td>\n",
              "    \n",
              "</tr>\n",
              "        \n",
              "            <tr style=\"background-color: hsl(120, 100.00%, 84.78%); border: none;\">\n",
              "    <td style=\"padding: 0 1em 0 0.5em; text-align: right; border: none;\">\n",
              "        +3.863\n",
              "    </td>\n",
              "    <td style=\"padding: 0 0.5em 0 0.5em; text-align: left; border: none;\">\n",
              "        media-1.melty.fr\n",
              "    </td>\n",
              "    \n",
              "</tr>\n",
              "        \n",
              "            <tr style=\"background-color: hsl(120, 100.00%, 84.79%); border: none;\">\n",
              "    <td style=\"padding: 0 1em 0 0.5em; text-align: right; border: none;\">\n",
              "        +3.862\n",
              "    </td>\n",
              "    <td style=\"padding: 0 0.5em 0 0.5em; text-align: left; border: none;\">\n",
              "        r3---sn-gxo5uxg-jqbe.googlevideo.com\n",
              "    </td>\n",
              "    \n",
              "</tr>\n",
              "        \n",
              "            <tr style=\"background-color: hsl(120, 100.00%, 85.00%); border: none;\">\n",
              "    <td style=\"padding: 0 1em 0 0.5em; text-align: right; border: none;\">\n",
              "        +3.786\n",
              "    </td>\n",
              "    <td style=\"padding: 0 0.5em 0 0.5em; text-align: left; border: none;\">\n",
              "        bbc.co.uk\n",
              "    </td>\n",
              "    \n",
              "</tr>\n",
              "        \n",
              "            <tr style=\"background-color: hsl(120, 100.00%, 85.07%); border: none;\">\n",
              "    <td style=\"padding: 0 1em 0 0.5em; text-align: right; border: none;\">\n",
              "        +3.758\n",
              "    </td>\n",
              "    <td style=\"padding: 0 0.5em 0 0.5em; text-align: left; border: none;\">\n",
              "        dub119.mail.live.com\n",
              "    </td>\n",
              "    \n",
              "</tr>\n",
              "        \n",
              "            <tr style=\"background-color: hsl(120, 100.00%, 85.44%); border: none;\">\n",
              "    <td style=\"padding: 0 1em 0 0.5em; text-align: right; border: none;\">\n",
              "        +3.626\n",
              "    </td>\n",
              "    <td style=\"padding: 0 0.5em 0 0.5em; text-align: left; border: none;\">\n",
              "        kelbillet.com\n",
              "    </td>\n",
              "    \n",
              "</tr>\n",
              "        \n",
              "            <tr style=\"background-color: hsl(120, 100.00%, 85.63%); border: none;\">\n",
              "    <td style=\"padding: 0 1em 0 0.5em; text-align: right; border: none;\">\n",
              "        +3.559\n",
              "    </td>\n",
              "    <td style=\"padding: 0 0.5em 0 0.5em; text-align: left; border: none;\">\n",
              "        demotivateur.disqus.com\n",
              "    </td>\n",
              "    \n",
              "</tr>\n",
              "        \n",
              "            <tr style=\"background-color: hsl(120, 100.00%, 85.72%); border: none;\">\n",
              "    <td style=\"padding: 0 1em 0 0.5em; text-align: right; border: none;\">\n",
              "        +3.529\n",
              "    </td>\n",
              "    <td style=\"padding: 0 0.5em 0 0.5em; text-align: left; border: none;\">\n",
              "        dailymotion.com\n",
              "    </td>\n",
              "    \n",
              "</tr>\n",
              "        \n",
              "            <tr style=\"background-color: hsl(120, 100.00%, 85.83%); border: none;\">\n",
              "    <td style=\"padding: 0 1em 0 0.5em; text-align: right; border: none;\">\n",
              "        +3.489\n",
              "    </td>\n",
              "    <td style=\"padding: 0 0.5em 0 0.5em; text-align: left; border: none;\">\n",
              "        regarder-film-gratuit.com\n",
              "    </td>\n",
              "    \n",
              "</tr>\n",
              "        \n",
              "            <tr style=\"background-color: hsl(120, 100.00%, 86.29%); border: none;\">\n",
              "    <td style=\"padding: 0 1em 0 0.5em; text-align: right; border: none;\">\n",
              "        +3.328\n",
              "    </td>\n",
              "    <td style=\"padding: 0 0.5em 0 0.5em; text-align: left; border: none;\">\n",
              "        cloud.cashtrafic.info\n",
              "    </td>\n",
              "    \n",
              "</tr>\n",
              "        \n",
              "            <tr style=\"background-color: hsl(120, 100.00%, 86.60%); border: none;\">\n",
              "    <td style=\"padding: 0 1em 0 0.5em; text-align: right; border: none;\">\n",
              "        +3.223\n",
              "    </td>\n",
              "    <td style=\"padding: 0 0.5em 0 0.5em; text-align: left; border: none;\">\n",
              "        fr.msn.com\n",
              "    </td>\n",
              "    \n",
              "</tr>\n",
              "        \n",
              "            <tr style=\"background-color: hsl(120, 100.00%, 86.68%); border: none;\">\n",
              "    <td style=\"padding: 0 1em 0 0.5em; text-align: right; border: none;\">\n",
              "        +3.194\n",
              "    </td>\n",
              "    <td style=\"padding: 0 0.5em 0 0.5em; text-align: left; border: none;\">\n",
              "        dub128.mail.live.com\n",
              "    </td>\n",
              "    \n",
              "</tr>\n",
              "        \n",
              "            <tr style=\"background-color: hsl(120, 100.00%, 86.80%); border: none;\">\n",
              "    <td style=\"padding: 0 1em 0 0.5em; text-align: right; border: none;\">\n",
              "        +3.153\n",
              "    </td>\n",
              "    <td style=\"padding: 0 0.5em 0 0.5em; text-align: left; border: none;\">\n",
              "        g1ujynb3gx.b.ad6media.fr\n",
              "    </td>\n",
              "    \n",
              "</tr>\n",
              "        \n",
              "        \n",
              "            <tr style=\"background-color: hsl(120, 100.00%, 86.80%); border: none;\">\n",
              "                <td colspan=\"2\" style=\"padding: 0 0.5em 0 0.5em; text-align: center; border: none; white-space: nowrap;\">\n",
              "                    <i>&hellip; 3676 more positive &hellip;</i>\n",
              "                </td>\n",
              "            </tr>\n",
              "        \n",
              "\n",
              "        \n",
              "            <tr style=\"background-color: hsl(0, 100.00%, 84.74%); border: none;\">\n",
              "                <td colspan=\"2\" style=\"padding: 0 0.5em 0 0.5em; text-align: center; border: none; white-space: nowrap;\">\n",
              "                    <i>&hellip; 24315 more negative &hellip;</i>\n",
              "                </td>\n",
              "            </tr>\n",
              "        \n",
              "        \n",
              "            <tr style=\"background-color: hsl(0, 100.00%, 84.74%); border: none;\">\n",
              "    <td style=\"padding: 0 1em 0 0.5em; text-align: right; border: none;\">\n",
              "        -3.880\n",
              "    </td>\n",
              "    <td style=\"padding: 0 0.5em 0 0.5em; text-align: left; border: none;\">\n",
              "        mail.google.com\n",
              "    </td>\n",
              "    \n",
              "</tr>\n",
              "        \n",
              "            <tr style=\"background-color: hsl(0, 100.00%, 81.18%); border: none;\">\n",
              "    <td style=\"padding: 0 1em 0 0.5em; text-align: right; border: none;\">\n",
              "        -5.235\n",
              "    </td>\n",
              "    <td style=\"padding: 0 0.5em 0 0.5em; text-align: left; border: none;\">\n",
              "        plus.google.com\n",
              "    </td>\n",
              "    \n",
              "</tr>\n",
              "        \n",
              "            <tr style=\"background-color: hsl(0, 100.00%, 80.11%); border: none;\">\n",
              "    <td style=\"padding: 0 1em 0 0.5em; text-align: right; border: none;\">\n",
              "        -5.663\n",
              "    </td>\n",
              "    <td style=\"padding: 0 0.5em 0 0.5em; text-align: left; border: none;\">\n",
              "        &lt;BIAS&gt;\n",
              "    </td>\n",
              "    \n",
              "</tr>\n",
              "        \n",
              "\n",
              "        </tbody>\n",
              "    </table>\n",
              "\n",
              "            \n",
              "        \n",
              "\n",
              "        \n",
              "\n",
              "\n",
              "\n",
              "    \n",
              "\n",
              "    \n",
              "\n",
              "    \n",
              "\n",
              "    \n",
              "\n",
              "\n",
              "    \n",
              "\n",
              "    \n",
              "\n",
              "    \n",
              "\n",
              "    \n",
              "\n",
              "    \n",
              "\n",
              "    \n",
              "\n",
              "\n",
              "    \n",
              "\n",
              "    \n",
              "\n",
              "    \n",
              "\n",
              "    \n",
              "\n",
              "    \n",
              "\n",
              "    \n",
              "\n",
              "\n",
              "\n"
            ]
          },
          "metadata": {}
        }
      ]
    },
    {
      "cell_type": "markdown",
      "source": [
        "Hmm, we have lower scores on folds №3 and №6 for some reason. Let's look at how our CV folds are distributed in time."
      ],
      "metadata": {
        "id": "F1S5X4lHN8v-"
      }
    },
    {
      "cell_type": "code",
      "metadata": {
        "colab": {
          "base_uri": "https://localhost:8080/",
          "height": 363
        },
        "id": "D5LMHpJTHRGk",
        "outputId": "631bba3f-1f33-465f-fce5-519a4f2e2f69"
      },
      "source": [
        "time_split_df = pd.DataFrame([train_df.iloc[list(time_split.split(X_train_sparse))[i][1]].time1.map(lambda x: x.month).value_counts() for i in range(time_split.get_n_splits())])\n",
        "time_split_df = time_split_df.fillna(0).astype(int)\n",
        "time_split_df.rename(columns={i: f'month_{i}' for i in range(13)}, inplace=True)\n",
        "time_split_df.index = [f'fold_{i}' for i in range(time_split.get_n_splits())]\n",
        "time_split_classes = pd.DataFrame([targets.iloc[list(time_split.split(X_train_sparse))[i][1]].value_counts() for i in range(time_split.get_n_splits())]).rename(columns={i: f'class_{i}' for i in range(2)})\n",
        "time_split_classes.index = [f'fold_{i}' for i in range(time_split.get_n_splits())]\n",
        "time_split_df = pd.concat([time_split_df, time_split_classes], axis=1)\n",
        "time_split_df['CV_score1'] = cv_scores_time1\n",
        "time_split_df"
      ],
      "execution_count": 40,
      "outputs": [
        {
          "output_type": "execute_result",
          "data": {
            "text/html": [
              "\n",
              "  <div id=\"df-dd8cc07c-d3e5-46e7-9f2d-72215ab245c3\">\n",
              "    <div class=\"colab-df-container\">\n",
              "      <div>\n",
              "<style scoped>\n",
              "    .dataframe tbody tr th:only-of-type {\n",
              "        vertical-align: middle;\n",
              "    }\n",
              "\n",
              "    .dataframe tbody tr th {\n",
              "        vertical-align: top;\n",
              "    }\n",
              "\n",
              "    .dataframe thead th {\n",
              "        text-align: right;\n",
              "    }\n",
              "</style>\n",
              "<table border=\"1\" class=\"dataframe\">\n",
              "  <thead>\n",
              "    <tr style=\"text-align: right;\">\n",
              "      <th></th>\n",
              "      <th>month_1</th>\n",
              "      <th>month_2</th>\n",
              "      <th>month_3</th>\n",
              "      <th>month_4</th>\n",
              "      <th>month_5</th>\n",
              "      <th>month_11</th>\n",
              "      <th>month_12</th>\n",
              "      <th>class_0</th>\n",
              "      <th>class_1</th>\n",
              "      <th>CV_score1</th>\n",
              "    </tr>\n",
              "  </thead>\n",
              "  <tbody>\n",
              "    <tr>\n",
              "      <th>fold_0</th>\n",
              "      <td>0</td>\n",
              "      <td>0</td>\n",
              "      <td>0</td>\n",
              "      <td>0</td>\n",
              "      <td>0</td>\n",
              "      <td>8067</td>\n",
              "      <td>14984</td>\n",
              "      <td>22809</td>\n",
              "      <td>242</td>\n",
              "      <td>0.684225</td>\n",
              "    </tr>\n",
              "    <tr>\n",
              "      <th>fold_1</th>\n",
              "      <td>0</td>\n",
              "      <td>0</td>\n",
              "      <td>0</td>\n",
              "      <td>0</td>\n",
              "      <td>0</td>\n",
              "      <td>0</td>\n",
              "      <td>23051</td>\n",
              "      <td>22540</td>\n",
              "      <td>511</td>\n",
              "      <td>0.864724</td>\n",
              "    </tr>\n",
              "    <tr>\n",
              "      <th>fold_2</th>\n",
              "      <td>17529</td>\n",
              "      <td>0</td>\n",
              "      <td>0</td>\n",
              "      <td>0</td>\n",
              "      <td>0</td>\n",
              "      <td>0</td>\n",
              "      <td>5522</td>\n",
              "      <td>22983</td>\n",
              "      <td>68</td>\n",
              "      <td>0.900920</td>\n",
              "    </tr>\n",
              "    <tr>\n",
              "      <th>fold_3</th>\n",
              "      <td>10529</td>\n",
              "      <td>12522</td>\n",
              "      <td>0</td>\n",
              "      <td>0</td>\n",
              "      <td>0</td>\n",
              "      <td>0</td>\n",
              "      <td>0</td>\n",
              "      <td>22913</td>\n",
              "      <td>138</td>\n",
              "      <td>0.809055</td>\n",
              "    </tr>\n",
              "    <tr>\n",
              "      <th>fold_4</th>\n",
              "      <td>0</td>\n",
              "      <td>23051</td>\n",
              "      <td>0</td>\n",
              "      <td>0</td>\n",
              "      <td>0</td>\n",
              "      <td>0</td>\n",
              "      <td>0</td>\n",
              "      <td>22836</td>\n",
              "      <td>215</td>\n",
              "      <td>0.854851</td>\n",
              "    </tr>\n",
              "    <tr>\n",
              "      <th>fold_5</th>\n",
              "      <td>0</td>\n",
              "      <td>17535</td>\n",
              "      <td>5516</td>\n",
              "      <td>0</td>\n",
              "      <td>0</td>\n",
              "      <td>0</td>\n",
              "      <td>0</td>\n",
              "      <td>22935</td>\n",
              "      <td>116</td>\n",
              "      <td>0.926021</td>\n",
              "    </tr>\n",
              "    <tr>\n",
              "      <th>fold_6</th>\n",
              "      <td>0</td>\n",
              "      <td>0</td>\n",
              "      <td>23051</td>\n",
              "      <td>0</td>\n",
              "      <td>0</td>\n",
              "      <td>0</td>\n",
              "      <td>0</td>\n",
              "      <td>23041</td>\n",
              "      <td>10</td>\n",
              "      <td>0.730997</td>\n",
              "    </tr>\n",
              "    <tr>\n",
              "      <th>fold_7</th>\n",
              "      <td>0</td>\n",
              "      <td>0</td>\n",
              "      <td>23051</td>\n",
              "      <td>0</td>\n",
              "      <td>0</td>\n",
              "      <td>0</td>\n",
              "      <td>0</td>\n",
              "      <td>22684</td>\n",
              "      <td>367</td>\n",
              "      <td>0.890430</td>\n",
              "    </tr>\n",
              "    <tr>\n",
              "      <th>fold_8</th>\n",
              "      <td>0</td>\n",
              "      <td>0</td>\n",
              "      <td>3657</td>\n",
              "      <td>19394</td>\n",
              "      <td>0</td>\n",
              "      <td>0</td>\n",
              "      <td>0</td>\n",
              "      <td>22988</td>\n",
              "      <td>63</td>\n",
              "      <td>0.915613</td>\n",
              "    </tr>\n",
              "    <tr>\n",
              "      <th>fold_9</th>\n",
              "      <td>0</td>\n",
              "      <td>0</td>\n",
              "      <td>0</td>\n",
              "      <td>22964</td>\n",
              "      <td>87</td>\n",
              "      <td>0</td>\n",
              "      <td>0</td>\n",
              "      <td>22787</td>\n",
              "      <td>264</td>\n",
              "      <td>0.929222</td>\n",
              "    </tr>\n",
              "  </tbody>\n",
              "</table>\n",
              "</div>\n",
              "      <button class=\"colab-df-convert\" onclick=\"convertToInteractive('df-dd8cc07c-d3e5-46e7-9f2d-72215ab245c3')\"\n",
              "              title=\"Convert this dataframe to an interactive table.\"\n",
              "              style=\"display:none;\">\n",
              "        \n",
              "  <svg xmlns=\"http://www.w3.org/2000/svg\" height=\"24px\"viewBox=\"0 0 24 24\"\n",
              "       width=\"24px\">\n",
              "    <path d=\"M0 0h24v24H0V0z\" fill=\"none\"/>\n",
              "    <path d=\"M18.56 5.44l.94 2.06.94-2.06 2.06-.94-2.06-.94-.94-2.06-.94 2.06-2.06.94zm-11 1L8.5 8.5l.94-2.06 2.06-.94-2.06-.94L8.5 2.5l-.94 2.06-2.06.94zm10 10l.94 2.06.94-2.06 2.06-.94-2.06-.94-.94-2.06-.94 2.06-2.06.94z\"/><path d=\"M17.41 7.96l-1.37-1.37c-.4-.4-.92-.59-1.43-.59-.52 0-1.04.2-1.43.59L10.3 9.45l-7.72 7.72c-.78.78-.78 2.05 0 2.83L4 21.41c.39.39.9.59 1.41.59.51 0 1.02-.2 1.41-.59l7.78-7.78 2.81-2.81c.8-.78.8-2.07 0-2.86zM5.41 20L4 18.59l7.72-7.72 1.47 1.35L5.41 20z\"/>\n",
              "  </svg>\n",
              "      </button>\n",
              "      \n",
              "  <style>\n",
              "    .colab-df-container {\n",
              "      display:flex;\n",
              "      flex-wrap:wrap;\n",
              "      gap: 12px;\n",
              "    }\n",
              "\n",
              "    .colab-df-convert {\n",
              "      background-color: #E8F0FE;\n",
              "      border: none;\n",
              "      border-radius: 50%;\n",
              "      cursor: pointer;\n",
              "      display: none;\n",
              "      fill: #1967D2;\n",
              "      height: 32px;\n",
              "      padding: 0 0 0 0;\n",
              "      width: 32px;\n",
              "    }\n",
              "\n",
              "    .colab-df-convert:hover {\n",
              "      background-color: #E2EBFA;\n",
              "      box-shadow: 0px 1px 2px rgba(60, 64, 67, 0.3), 0px 1px 3px 1px rgba(60, 64, 67, 0.15);\n",
              "      fill: #174EA6;\n",
              "    }\n",
              "\n",
              "    [theme=dark] .colab-df-convert {\n",
              "      background-color: #3B4455;\n",
              "      fill: #D2E3FC;\n",
              "    }\n",
              "\n",
              "    [theme=dark] .colab-df-convert:hover {\n",
              "      background-color: #434B5C;\n",
              "      box-shadow: 0px 1px 3px 1px rgba(0, 0, 0, 0.15);\n",
              "      filter: drop-shadow(0px 1px 2px rgba(0, 0, 0, 0.3));\n",
              "      fill: #FFFFFF;\n",
              "    }\n",
              "  </style>\n",
              "\n",
              "      <script>\n",
              "        const buttonEl =\n",
              "          document.querySelector('#df-dd8cc07c-d3e5-46e7-9f2d-72215ab245c3 button.colab-df-convert');\n",
              "        buttonEl.style.display =\n",
              "          google.colab.kernel.accessAllowed ? 'block' : 'none';\n",
              "\n",
              "        async function convertToInteractive(key) {\n",
              "          const element = document.querySelector('#df-dd8cc07c-d3e5-46e7-9f2d-72215ab245c3');\n",
              "          const dataTable =\n",
              "            await google.colab.kernel.invokeFunction('convertToInteractive',\n",
              "                                                     [key], {});\n",
              "          if (!dataTable) return;\n",
              "\n",
              "          const docLinkHtml = 'Like what you see? Visit the ' +\n",
              "            '<a target=\"_blank\" href=https://colab.research.google.com/notebooks/data_table.ipynb>data table notebook</a>'\n",
              "            + ' to learn more about interactive tables.';\n",
              "          element.innerHTML = '';\n",
              "          dataTable['output_type'] = 'display_data';\n",
              "          await google.colab.output.renderOutput(dataTable, element);\n",
              "          const docLink = document.createElement('div');\n",
              "          docLink.innerHTML = docLinkHtml;\n",
              "          element.appendChild(docLink);\n",
              "        }\n",
              "      </script>\n",
              "    </div>\n",
              "  </div>\n",
              "  "
            ],
            "text/plain": [
              "        month_1  month_2  month_3  ...  class_0  class_1  CV_score1\n",
              "fold_0        0        0        0  ...    22809      242   0.684225\n",
              "fold_1        0        0        0  ...    22540      511   0.864724\n",
              "fold_2    17529        0        0  ...    22983       68   0.900920\n",
              "fold_3    10529    12522        0  ...    22913      138   0.809055\n",
              "fold_4        0    23051        0  ...    22836      215   0.854851\n",
              "fold_5        0    17535     5516  ...    22935      116   0.926021\n",
              "fold_6        0        0    23051  ...    23041       10   0.730997\n",
              "fold_7        0        0    23051  ...    22684      367   0.890430\n",
              "fold_8        0        0     3657  ...    22988       63   0.915613\n",
              "fold_9        0        0        0  ...    22787      264   0.929222\n",
              "\n",
              "[10 rows x 10 columns]"
            ]
          },
          "metadata": {},
          "execution_count": 40
        }
      ]
    },
    {
      "cell_type": "markdown",
      "metadata": {
        "id": "oRGlc71GH60F"
      },
      "source": [
        "Ok, so the bad score on `fold_3` can perhaps be explained by the fact that the data from 2013 differs somehow from data in 2014? More precisely, it seems that the data from February is hard to predict.\n",
        "\n",
        "So we see that there are indeed some time patterns in our data. We will see how the scores change after the introduction of additional features.\n",
        "\n",
        "The bad score on `fold_6` can be explained by the fact that its distribution of target classes is extremely unbalanced.\n",
        "\n",
        "Now, let's see what we get with a `StratifiedKFold`:\n"
      ]
    },
    {
      "cell_type": "code",
      "metadata": {
        "colab": {
          "base_uri": "https://localhost:8080/"
        },
        "id": "NVwluxQ5CRA9",
        "outputId": "14623d2e-c016-4313-b01d-c87df39a2923"
      },
      "source": [
        "_, cv_scores1 = cross_val_scheme(cv=cv_split)"
      ],
      "execution_count": 41,
      "outputs": [
        {
          "output_type": "stream",
          "name": "stdout",
          "text": [
            "CV Scores \n",
            " [0.86576418 0.80718474 0.92287807 0.93293997 0.81576982 0.91913097\n",
            " 0.93216562 0.92018159 0.92518697 0.93561009]\n",
            "CV scores mean: 0.8977 \t CV scores std: 0.0471\n"
          ]
        }
      ]
    },
    {
      "cell_type": "markdown",
      "metadata": {
        "id": "HMnFwFW0EU69"
      },
      "source": [
        "Again, some scores are significantly lower than average, let's see the time distribution of the folds."
      ]
    },
    {
      "cell_type": "code",
      "metadata": {
        "colab": {
          "base_uri": "https://localhost:8080/",
          "height": 363
        },
        "id": "4R11338wRvWv",
        "outputId": "ff1dc4eb-c571-48f6-ec05-2a4eaa951403"
      },
      "source": [
        "cv_split_df = pd.DataFrame([train_df.iloc[list(cv_split.split(X_train_sparse, targets))[i][1]].time1.map(lambda x: x.month).value_counts() for i in range(cv_split.get_n_splits())])\n",
        "cv_split_df = cv_split_df.fillna(0).astype(int)\n",
        "cv_split_df.rename(columns={i: f'month_{i}' for i in range(13)}, inplace=True)\n",
        "cv_split_df.index = [f'fold_{i}' for i in range(cv_split.get_n_splits())]\n",
        "cv_split_df['CV_score1'] = cv_scores1\n",
        "cv_split_df"
      ],
      "execution_count": 42,
      "outputs": [
        {
          "output_type": "execute_result",
          "data": {
            "text/html": [
              "\n",
              "  <div id=\"df-813c43c0-8963-4427-9f75-573d91771eea\">\n",
              "    <div class=\"colab-df-container\">\n",
              "      <div>\n",
              "<style scoped>\n",
              "    .dataframe tbody tr th:only-of-type {\n",
              "        vertical-align: middle;\n",
              "    }\n",
              "\n",
              "    .dataframe tbody tr th {\n",
              "        vertical-align: top;\n",
              "    }\n",
              "\n",
              "    .dataframe thead th {\n",
              "        text-align: right;\n",
              "    }\n",
              "</style>\n",
              "<table border=\"1\" class=\"dataframe\">\n",
              "  <thead>\n",
              "    <tr style=\"text-align: right;\">\n",
              "      <th></th>\n",
              "      <th>month_1</th>\n",
              "      <th>month_2</th>\n",
              "      <th>month_3</th>\n",
              "      <th>month_4</th>\n",
              "      <th>month_5</th>\n",
              "      <th>month_11</th>\n",
              "      <th>month_12</th>\n",
              "      <th>CV_score1</th>\n",
              "    </tr>\n",
              "  </thead>\n",
              "  <tbody>\n",
              "    <tr>\n",
              "      <th>fold_0</th>\n",
              "      <td>0</td>\n",
              "      <td>0</td>\n",
              "      <td>0</td>\n",
              "      <td>0</td>\n",
              "      <td>0</td>\n",
              "      <td>25357</td>\n",
              "      <td>0</td>\n",
              "      <td>0.865764</td>\n",
              "    </tr>\n",
              "    <tr>\n",
              "      <th>fold_1</th>\n",
              "      <td>0</td>\n",
              "      <td>0</td>\n",
              "      <td>0</td>\n",
              "      <td>0</td>\n",
              "      <td>0</td>\n",
              "      <td>5761</td>\n",
              "      <td>19595</td>\n",
              "      <td>0.807185</td>\n",
              "    </tr>\n",
              "    <tr>\n",
              "      <th>fold_2</th>\n",
              "      <td>1762</td>\n",
              "      <td>0</td>\n",
              "      <td>0</td>\n",
              "      <td>0</td>\n",
              "      <td>0</td>\n",
              "      <td>0</td>\n",
              "      <td>23594</td>\n",
              "      <td>0.922878</td>\n",
              "    </tr>\n",
              "    <tr>\n",
              "      <th>fold_3</th>\n",
              "      <td>25127</td>\n",
              "      <td>0</td>\n",
              "      <td>0</td>\n",
              "      <td>0</td>\n",
              "      <td>0</td>\n",
              "      <td>0</td>\n",
              "      <td>229</td>\n",
              "      <td>0.932940</td>\n",
              "    </tr>\n",
              "    <tr>\n",
              "      <th>fold_4</th>\n",
              "      <td>1169</td>\n",
              "      <td>24048</td>\n",
              "      <td>0</td>\n",
              "      <td>0</td>\n",
              "      <td>0</td>\n",
              "      <td>0</td>\n",
              "      <td>139</td>\n",
              "      <td>0.815770</td>\n",
              "    </tr>\n",
              "    <tr>\n",
              "      <th>fold_5</th>\n",
              "      <td>0</td>\n",
              "      <td>25356</td>\n",
              "      <td>0</td>\n",
              "      <td>0</td>\n",
              "      <td>0</td>\n",
              "      <td>0</td>\n",
              "      <td>0</td>\n",
              "      <td>0.919131</td>\n",
              "    </tr>\n",
              "    <tr>\n",
              "      <th>fold_6</th>\n",
              "      <td>0</td>\n",
              "      <td>3704</td>\n",
              "      <td>21652</td>\n",
              "      <td>0</td>\n",
              "      <td>0</td>\n",
              "      <td>0</td>\n",
              "      <td>0</td>\n",
              "      <td>0.932166</td>\n",
              "    </tr>\n",
              "    <tr>\n",
              "      <th>fold_7</th>\n",
              "      <td>0</td>\n",
              "      <td>0</td>\n",
              "      <td>25356</td>\n",
              "      <td>0</td>\n",
              "      <td>0</td>\n",
              "      <td>0</td>\n",
              "      <td>0</td>\n",
              "      <td>0.920182</td>\n",
              "    </tr>\n",
              "    <tr>\n",
              "      <th>fold_8</th>\n",
              "      <td>0</td>\n",
              "      <td>0</td>\n",
              "      <td>8267</td>\n",
              "      <td>17089</td>\n",
              "      <td>0</td>\n",
              "      <td>0</td>\n",
              "      <td>0</td>\n",
              "      <td>0.925187</td>\n",
              "    </tr>\n",
              "    <tr>\n",
              "      <th>fold_9</th>\n",
              "      <td>0</td>\n",
              "      <td>0</td>\n",
              "      <td>0</td>\n",
              "      <td>25269</td>\n",
              "      <td>87</td>\n",
              "      <td>0</td>\n",
              "      <td>0</td>\n",
              "      <td>0.935610</td>\n",
              "    </tr>\n",
              "  </tbody>\n",
              "</table>\n",
              "</div>\n",
              "      <button class=\"colab-df-convert\" onclick=\"convertToInteractive('df-813c43c0-8963-4427-9f75-573d91771eea')\"\n",
              "              title=\"Convert this dataframe to an interactive table.\"\n",
              "              style=\"display:none;\">\n",
              "        \n",
              "  <svg xmlns=\"http://www.w3.org/2000/svg\" height=\"24px\"viewBox=\"0 0 24 24\"\n",
              "       width=\"24px\">\n",
              "    <path d=\"M0 0h24v24H0V0z\" fill=\"none\"/>\n",
              "    <path d=\"M18.56 5.44l.94 2.06.94-2.06 2.06-.94-2.06-.94-.94-2.06-.94 2.06-2.06.94zm-11 1L8.5 8.5l.94-2.06 2.06-.94-2.06-.94L8.5 2.5l-.94 2.06-2.06.94zm10 10l.94 2.06.94-2.06 2.06-.94-2.06-.94-.94-2.06-.94 2.06-2.06.94z\"/><path d=\"M17.41 7.96l-1.37-1.37c-.4-.4-.92-.59-1.43-.59-.52 0-1.04.2-1.43.59L10.3 9.45l-7.72 7.72c-.78.78-.78 2.05 0 2.83L4 21.41c.39.39.9.59 1.41.59.51 0 1.02-.2 1.41-.59l7.78-7.78 2.81-2.81c.8-.78.8-2.07 0-2.86zM5.41 20L4 18.59l7.72-7.72 1.47 1.35L5.41 20z\"/>\n",
              "  </svg>\n",
              "      </button>\n",
              "      \n",
              "  <style>\n",
              "    .colab-df-container {\n",
              "      display:flex;\n",
              "      flex-wrap:wrap;\n",
              "      gap: 12px;\n",
              "    }\n",
              "\n",
              "    .colab-df-convert {\n",
              "      background-color: #E8F0FE;\n",
              "      border: none;\n",
              "      border-radius: 50%;\n",
              "      cursor: pointer;\n",
              "      display: none;\n",
              "      fill: #1967D2;\n",
              "      height: 32px;\n",
              "      padding: 0 0 0 0;\n",
              "      width: 32px;\n",
              "    }\n",
              "\n",
              "    .colab-df-convert:hover {\n",
              "      background-color: #E2EBFA;\n",
              "      box-shadow: 0px 1px 2px rgba(60, 64, 67, 0.3), 0px 1px 3px 1px rgba(60, 64, 67, 0.15);\n",
              "      fill: #174EA6;\n",
              "    }\n",
              "\n",
              "    [theme=dark] .colab-df-convert {\n",
              "      background-color: #3B4455;\n",
              "      fill: #D2E3FC;\n",
              "    }\n",
              "\n",
              "    [theme=dark] .colab-df-convert:hover {\n",
              "      background-color: #434B5C;\n",
              "      box-shadow: 0px 1px 3px 1px rgba(0, 0, 0, 0.15);\n",
              "      filter: drop-shadow(0px 1px 2px rgba(0, 0, 0, 0.3));\n",
              "      fill: #FFFFFF;\n",
              "    }\n",
              "  </style>\n",
              "\n",
              "      <script>\n",
              "        const buttonEl =\n",
              "          document.querySelector('#df-813c43c0-8963-4427-9f75-573d91771eea button.colab-df-convert');\n",
              "        buttonEl.style.display =\n",
              "          google.colab.kernel.accessAllowed ? 'block' : 'none';\n",
              "\n",
              "        async function convertToInteractive(key) {\n",
              "          const element = document.querySelector('#df-813c43c0-8963-4427-9f75-573d91771eea');\n",
              "          const dataTable =\n",
              "            await google.colab.kernel.invokeFunction('convertToInteractive',\n",
              "                                                     [key], {});\n",
              "          if (!dataTable) return;\n",
              "\n",
              "          const docLinkHtml = 'Like what you see? Visit the ' +\n",
              "            '<a target=\"_blank\" href=https://colab.research.google.com/notebooks/data_table.ipynb>data table notebook</a>'\n",
              "            + ' to learn more about interactive tables.';\n",
              "          element.innerHTML = '';\n",
              "          dataTable['output_type'] = 'display_data';\n",
              "          await google.colab.output.renderOutput(dataTable, element);\n",
              "          const docLink = document.createElement('div');\n",
              "          docLink.innerHTML = docLinkHtml;\n",
              "          element.appendChild(docLink);\n",
              "        }\n",
              "      </script>\n",
              "    </div>\n",
              "  </div>\n",
              "  "
            ],
            "text/plain": [
              "        month_1  month_2  month_3  ...  month_11  month_12  CV_score1\n",
              "fold_0        0        0        0  ...     25357         0   0.865764\n",
              "fold_1        0        0        0  ...      5761     19595   0.807185\n",
              "fold_2     1762        0        0  ...         0     23594   0.922878\n",
              "fold_3    25127        0        0  ...         0       229   0.932940\n",
              "fold_4     1169    24048        0  ...         0       139   0.815770\n",
              "fold_5        0    25356        0  ...         0         0   0.919131\n",
              "fold_6        0     3704    21652  ...         0         0   0.932166\n",
              "fold_7        0        0    25356  ...         0         0   0.920182\n",
              "fold_8        0        0     8267  ...         0         0   0.925187\n",
              "fold_9        0        0        0  ...         0         0   0.935610\n",
              "\n",
              "[10 rows x 8 columns]"
            ]
          },
          "metadata": {},
          "execution_count": 42
        }
      ]
    },
    {
      "cell_type": "markdown",
      "source": [
        "Well, it seems that the data from 2013 isn't explained that well by data from 2014. Perhaps it has something to do with different target class distribution?\n",
        "\n"
      ],
      "metadata": {
        "id": "aE1g8cn_S-B7"
      }
    },
    {
      "cell_type": "code",
      "metadata": {
        "colab": {
          "base_uri": "https://localhost:8080/"
        },
        "id": "aASMEVwtLagC",
        "outputId": "9c5668ca-5496-46b0-e7da-da18c128364f"
      },
      "source": [
        "train_df[targets==1].time1.map(lambda x: x.year).value_counts()"
      ],
      "execution_count": 43,
      "outputs": [
        {
          "output_type": "execute_result",
          "data": {
            "text/plain": [
              "2014    1241\n",
              "2013    1056\n",
              "Name: time1, dtype: int64"
            ]
          },
          "metadata": {},
          "execution_count": 43
        }
      ]
    },
    {
      "cell_type": "code",
      "metadata": {
        "colab": {
          "base_uri": "https://localhost:8080/"
        },
        "id": "fKEMDk8tLoCF",
        "outputId": "009c2c93-f701-4a70-b74e-989f512596b7"
      },
      "source": [
        "train_df.time1.map(lambda x: x.year).value_counts()"
      ],
      "execution_count": 44,
      "outputs": [
        {
          "output_type": "execute_result",
          "data": {
            "text/plain": [
              "2014    178886\n",
              "2013     74675\n",
              "Name: time1, dtype: int64"
            ]
          },
          "metadata": {},
          "execution_count": 44
        }
      ]
    },
    {
      "cell_type": "markdown",
      "source": [
        "Well, as we've already mentioned above, forgetting the data from 2013 leads to overfitting (we have better CV scores, but worse leaderboard scores, see below). You can fiddle with the `cutoff` parameter in the `cross_val_scheme` function."
      ],
      "metadata": {
        "id": "uloh9dYiURtY"
      }
    },
    {
      "cell_type": "code",
      "metadata": {
        "id": "gnP8Wmg7_66v",
        "colab": {
          "base_uri": "https://localhost:8080/"
        },
        "outputId": "a23d61a7-577c-45b5-ff39-99b80a2d9dfb"
      },
      "source": [
        "cutoff_2013 = train_df.time1.map(lambda date: date.year).value_counts()[2013]\n",
        "cutoff_2013"
      ],
      "execution_count": 45,
      "outputs": [
        {
          "output_type": "execute_result",
          "data": {
            "text/plain": [
              "74675"
            ]
          },
          "metadata": {},
          "execution_count": 45
        }
      ]
    },
    {
      "cell_type": "code",
      "metadata": {
        "colab": {
          "base_uri": "https://localhost:8080/"
        },
        "id": "M_q7NOa3AE2k",
        "outputId": "e1e73d34-3734-4795-c70e-cf0c38311212"
      },
      "source": [
        "_ = cross_val_scheme(cv=cv_split, cutoff=cutoff_2013)"
      ],
      "execution_count": 46,
      "outputs": [
        {
          "output_type": "stream",
          "name": "stdout",
          "text": [
            "CV Scores \n",
            " [0.92499796 0.91457787 0.9018712  0.95668313 0.9259154  0.89854762\n",
            " 0.92727771 0.93903241 0.95524657 0.92635976]\n",
            "CV scores mean: 0.9271 \t CV scores std: 0.0185\n"
          ]
        }
      ]
    },
    {
      "cell_type": "markdown",
      "source": [
        "We also note that the month of February (its first half?) performs poorly in cross-validation. Removing it completely from consideration wouldn't be good, because we want our data to be time-contiguous. Moreover, most of the test entries are from February 2014.\n",
        "\n",
        "To summarize, our data is certainly time-heterogeneous, but it's not clear for now how we can put this fact to our use. Introducing time-related features will smooth the differences in CV scores."
      ],
      "metadata": {
        "id": "3rnN5FcKWr4w"
      }
    },
    {
      "cell_type": "markdown",
      "metadata": {
        "id": "s4GFCvX-BSS3"
      },
      "source": [
        "## 4. Feature engineering\n",
        "\n",
        "Now let's load all the additional features and see if we got an improvement."
      ]
    },
    {
      "cell_type": "code",
      "metadata": {
        "colab": {
          "base_uri": "https://localhost:8080/"
        },
        "id": "ti65f9mbZ3DG",
        "outputId": "2e8131d8-5ac1-4e92-be4e-1930889c188b"
      },
      "source": [
        "_, cv_scores_time2 = cross_val_scheme(add_features=add_features_train) "
      ],
      "execution_count": 47,
      "outputs": [
        {
          "output_type": "stream",
          "name": "stdout",
          "text": [
            "CV Scores \n",
            " [0.80662773 0.95809654 0.97529632 0.84566321 0.97110886 0.97187441\n",
            " 0.84322295 0.98314456 0.99092763 0.98791991]\n",
            "CV scores mean: 0.9334 \t CV scores std: 0.0678\n",
            "                 feature     coef_\n",
            "37                 16-18  1.916911\n",
            "24         day_of_week_0  1.437219\n",
            "9           start_hour_9  1.376747\n",
            "36                 12-13  0.889993\n",
            "25         day_of_week_1  0.771235\n",
            "16         start_hour_16  0.710162\n",
            "12         start_hour_12  0.681770\n",
            "17         start_hour_17  0.639132\n",
            "18         start_hour_18  0.567617\n",
            "34              month_11  0.459284\n",
            "0   num_only_alice_sites  0.371605\n",
            "13         start_hour_13  0.208223\n",
            "1        num_alice_sites  0.189837\n",
            "2       num_unique_sites  0.015729\n",
            "39                   day  0.010953\n",
            "5              sites_len -0.074219\n",
            "7           start_hour_7 -0.079963\n",
            "3              num_sites -0.086585\n",
            "28         day_of_week_4 -0.095775\n",
            "4          num_top_sites -0.132010\n",
            "6       session_timespan -0.162192\n",
            "20         start_hour_20 -0.227467\n",
            "15         start_hour_15 -0.239065\n",
            "35              month_12 -0.244955\n",
            "23         start_hour_23 -0.265471\n",
            "19         start_hour_19 -0.357352\n",
            "22         start_hour_22 -0.378473\n",
            "33               month_5 -0.443142\n",
            "30               month_2 -0.504027\n",
            "32               month_4 -0.556915\n",
            "21         start_hour_21 -0.565014\n",
            "11         start_hour_11 -0.707517\n",
            "31               month_3 -0.836288\n",
            "27         day_of_week_3 -0.959227\n",
            "8           start_hour_8 -1.341917\n",
            "10         start_hour_10 -1.719401\n",
            "40               evening -1.793777\n",
            "29               month_1 -2.128831\n",
            "26         day_of_week_2 -2.330704\n",
            "38               morning -2.472051\n",
            "14         start_hour_14 -2.556886\n",
            "41            is_weekend -3.077624\n"
          ]
        }
      ]
    },
    {
      "cell_type": "code",
      "metadata": {
        "colab": {
          "base_uri": "https://localhost:8080/"
        },
        "id": "IpsZ888jbnPp",
        "outputId": "339bbbd8-a8af-4f1b-f6fe-9e44f21418e4"
      },
      "source": [
        "_, cv_scores2 = cross_val_scheme(add_features=add_features_train, cv=cv_split, print_add_coefs=False)"
      ],
      "execution_count": 48,
      "outputs": [
        {
          "output_type": "stream",
          "name": "stdout",
          "text": [
            "CV Scores \n",
            " [0.9242765  0.84696502 0.8462895  0.99406578 0.89090808 0.95306006\n",
            " 0.97085593 0.99030036 0.97608194 0.99109324]\n",
            "CV scores mean: 0.9384 \t CV scores std: 0.0553\n"
          ]
        }
      ]
    },
    {
      "cell_type": "markdown",
      "metadata": {
        "id": "9zTMWGBEBSS4"
      },
      "source": [
        "The things to note from here:\n",
        "\n",
        "- The CV means improved, but the CV stds did not improve that much — this might suggest overfitting;\n",
        "- Some of the new features have big weights in the model, so we'll have to check if they simply explain the target feature that well or cause overfitting;\n",
        "- The `month_11` and `month_12` features, although useful to the train set, will be useless on the test set (it is concentrated entirely in the first half of 2014), so it is better to exclude these two features.\n",
        "- There are more features with the negative weight (that pull to the \"not Alice\" class);\n",
        "- We may group some of the multicollinear features describing hour of the day, for example, `start_hour_8, start_hour_10, start_hour_11` (they have the same sign as the `morning` feature and can therefore be grouped into one), the features `start_hour_12, start_hour_13` (the same sign as the `12-13` feature) and so on;\n",
        "- A lot of site-related features have almost zero weights, so we'll have to exclude (or transform into something else) some of them later."
      ]
    },
    {
      "cell_type": "code",
      "source": [
        "to_drop = [f'start_hour_{i}' for i in [7, 8, 10, 11, 12, 13] + list(range(16, 24))] \n",
        "\n",
        "add_features_train.drop(columns=['month_11', 'month_12'], inplace=True)\n",
        "for df in add_features_train, add_features_test:\n",
        "    df.drop(columns=to_drop, inplace=True)"
      ],
      "metadata": {
        "id": "_V0QgqcYQYA8"
      },
      "execution_count": 49,
      "outputs": []
    },
    {
      "cell_type": "code",
      "metadata": {
        "colab": {
          "base_uri": "https://localhost:8080/"
        },
        "id": "HrQx6f_vwSXb",
        "outputId": "56b1f4d4-297f-4398-d514-9dc536074513"
      },
      "source": [
        "_, cv_scores_time3 = cross_val_scheme(add_features=add_features_train)"
      ],
      "execution_count": 50,
      "outputs": [
        {
          "output_type": "stream",
          "name": "stdout",
          "text": [
            "CV Scores \n",
            " [0.82409872 0.95850382 0.97127928 0.83753227 0.97111334 0.97353803\n",
            " 0.85033202 0.98319273 0.9908648  0.98769234]\n",
            "CV scores mean: 0.9348 \t CV scores std: 0.0647\n",
            "                 feature     coef_\n",
            "21                 16-18  2.417363\n",
            "7           start_hour_9  2.323814\n",
            "10         day_of_week_0  1.301894\n",
            "20                 12-13  1.231160\n",
            "11         day_of_week_1  0.698157\n",
            "23                   day  0.555854\n",
            "0   num_only_alice_sites  0.363720\n",
            "1        num_alice_sites  0.190555\n",
            "2       num_unique_sites  0.014285\n",
            "14         day_of_week_4 -0.008280\n",
            "5              sites_len -0.074571\n",
            "3              num_sites -0.100536\n",
            "4          num_top_sites -0.130241\n",
            "6       session_timespan -0.156774\n",
            "9          start_hour_15 -0.404656\n",
            "19               month_5 -0.471803\n",
            "16               month_2 -0.550163\n",
            "18               month_4 -0.605688\n",
            "17               month_3 -0.876779\n",
            "13         day_of_week_3 -1.047693\n",
            "24               evening -1.809547\n",
            "15               month_1 -2.179604\n",
            "12         day_of_week_2 -2.356819\n",
            "8          start_hour_14 -2.688013\n",
            "25            is_weekend -2.966392\n",
            "22               morning -3.125438\n"
          ]
        }
      ]
    },
    {
      "cell_type": "code",
      "metadata": {
        "colab": {
          "base_uri": "https://localhost:8080/"
        },
        "id": "QZ1lp1ZZtcYY",
        "outputId": "beb26b8a-4e60-40aa-924e-8e54c3781f7b"
      },
      "source": [
        "_, cv_scores3 = cross_val_scheme(add_features=add_features_train, cv=cv_split, print_add_coefs=False)"
      ],
      "execution_count": 51,
      "outputs": [
        {
          "output_type": "stream",
          "name": "stdout",
          "text": [
            "CV Scores \n",
            " [0.95009093 0.86440915 0.84421115 0.99605515 0.89658088 0.95302891\n",
            " 0.97097429 0.98958467 0.97633285 0.99115069]\n",
            "CV scores mean: 0.9432 \t CV scores std: 0.0524\n"
          ]
        }
      ]
    },
    {
      "cell_type": "markdown",
      "metadata": {
        "id": "z3J8Gh01BSS6"
      },
      "source": [
        "Only a marginal improvement in both the CV scores and the deviations, but still, less features."
      ]
    },
    {
      "cell_type": "markdown",
      "metadata": {
        "id": "KHiLguEUBSS6"
      },
      "source": [
        "Now we should do some feature selection. Basically we chose additional features by hand (see our analysis below), but several approaches at automatic features selection were tried:\n",
        "\n",
        "\n",
        "1. Select $k$ best additional features according to some metric. For example, we can try the following ways to evaluate the additional features:\n",
        "    - Evaluate their weights using some model (we tried logit itself and random forest);\n",
        "    - Use some univariate criterion (for example, compute mutual information).\n",
        "*Didn't work very well, because some of the high-ranking features simply overfit the model. You can see the code for the fuctions we used in the project files*;\n",
        "2. To control both the CV means and variances, use a sequential feature extractor (on the additional features only) with the metric $\\alpha\\cdot(\\text{cv scores mean}) - (1 - \\alpha)\\cdot(\\text{cv scores std})$ for $\\alpha \\in [0,1]$\n",
        "*Worked mostly fine, however, some of the features don't do well at our cross-validation but do well at the Kaggle score. Might serve as a good start.*;\n",
        "3. Boruta selection with random forest as the base model.\n",
        "*Didn't work, chose too many features.*\n",
        "4. Use logistic regression with $L_1$ regularization to reduce the number of the features (we suspect that most of the base features don't contribute much to the model).\n",
        "*Substituting $L_2$ regularization by $L_1$ regularization worked, see below.*\n"
      ]
    },
    {
      "cell_type": "markdown",
      "source": [
        "Here are the additional features we chose by hand. We found that:\n",
        "- The features with large positive coefficients, such as `12-13`, `16-18` and `day_of_week_0` indeed overfit the model (we have lower scores on both our CV and the Kaggle leaderboard), as well as some of the features with large negative coefficients (`day_of_week_3`);\n",
        "- The feature `start_hour_9` gives worse score on our CV, but better score on the Kaggle leaderboard;\n",
        "- Most of the site-related features don't contribute anything to the model;\n",
        "- The usual `StratifiedKFold` stops correlating meaningfully with the leaderboard after some point, but we still could use it: for example, the feature `morning` improves the score on the `fold_4` of the `cv_split`, but worsens on `fold_2`, so we choose to leave this feature in the final set because again, `fold_4` intersects with the test set (perhaps not the best approach for building a good *predictive* model...) \n",
        "- Some of the months features indeed improve the quality of the model (probably due to overfitting, but that's all the data we have...). You can exclude these features and obtain a time-independent model that still has decent prediction quality.\n",
        "\n",
        "You can find the feature coefficients and the fold-wise CV scores below.\n"
      ],
      "metadata": {
        "id": "w-wRibjBdmBa"
      }
    },
    {
      "cell_type": "code",
      "source": [
        "selected_features_logit = ['num_only_alice_sites', 'session_timespan',\n",
        "                            'start_hour_9', 'start_hour_14', 'start_hour_15', 'morning', 'evening',\n",
        "                             'day_of_week_2', 'day_of_week_4', 'is_weekend',\n",
        "                            'month_2', 'month_3', 'month_4']\n",
        "\n",
        "logit, cv_scores_time4 = cross_val_scheme(add_features=add_features_train.loc[:, selected_features_logit])"
      ],
      "metadata": {
        "colab": {
          "base_uri": "https://localhost:8080/"
        },
        "id": "vALGB2IVUshA",
        "outputId": "3160c089-2629-4906-fc11-fd7f864c1a2d"
      },
      "execution_count": 52,
      "outputs": [
        {
          "output_type": "stream",
          "name": "stdout",
          "text": [
            "CV Scores \n",
            " [0.82870652 0.94747177 0.96272693 0.93627471 0.96518146 0.97415353\n",
            " 0.93005946 0.9827991  0.98817948 0.97222283]\n",
            "CV scores mean: 0.9488 \t CV scores std: 0.0439\n",
            "                 feature     coef_\n",
            "2           start_hour_9  2.229867\n",
            "0   num_only_alice_sites  0.400770\n",
            "1       session_timespan -0.117892\n",
            "11               month_3 -0.237944\n",
            "12               month_4 -0.348493\n",
            "10               month_2 -0.367673\n",
            "8          day_of_week_4 -0.910876\n",
            "4          start_hour_15 -2.544046\n",
            "7          day_of_week_2 -3.086143\n",
            "9             is_weekend -3.366565\n",
            "6                evening -3.390435\n",
            "3          start_hour_14 -4.615604\n",
            "5                morning -5.304028\n"
          ]
        }
      ]
    },
    {
      "cell_type": "code",
      "metadata": {
        "colab": {
          "base_uri": "https://localhost:8080/",
          "height": 363
        },
        "id": "kpNHTXIhvVs9",
        "outputId": "4c3db0b4-d5a9-450b-f869-40b73a4883b5"
      },
      "source": [
        "time_split_df['CV_score2'] = cv_scores_time2\n",
        "time_split_df['CV_score3'] = cv_scores_time3\n",
        "time_split_df['CV_score4'] = cv_scores_time4\n",
        "time_split_df"
      ],
      "execution_count": 53,
      "outputs": [
        {
          "output_type": "execute_result",
          "data": {
            "text/html": [
              "\n",
              "  <div id=\"df-a0b79b3d-2758-4871-8fd7-d992d7c6c52f\">\n",
              "    <div class=\"colab-df-container\">\n",
              "      <div>\n",
              "<style scoped>\n",
              "    .dataframe tbody tr th:only-of-type {\n",
              "        vertical-align: middle;\n",
              "    }\n",
              "\n",
              "    .dataframe tbody tr th {\n",
              "        vertical-align: top;\n",
              "    }\n",
              "\n",
              "    .dataframe thead th {\n",
              "        text-align: right;\n",
              "    }\n",
              "</style>\n",
              "<table border=\"1\" class=\"dataframe\">\n",
              "  <thead>\n",
              "    <tr style=\"text-align: right;\">\n",
              "      <th></th>\n",
              "      <th>month_1</th>\n",
              "      <th>month_2</th>\n",
              "      <th>month_3</th>\n",
              "      <th>month_4</th>\n",
              "      <th>month_5</th>\n",
              "      <th>month_11</th>\n",
              "      <th>month_12</th>\n",
              "      <th>class_0</th>\n",
              "      <th>class_1</th>\n",
              "      <th>CV_score1</th>\n",
              "      <th>CV_score2</th>\n",
              "      <th>CV_score3</th>\n",
              "      <th>CV_score4</th>\n",
              "    </tr>\n",
              "  </thead>\n",
              "  <tbody>\n",
              "    <tr>\n",
              "      <th>fold_0</th>\n",
              "      <td>0</td>\n",
              "      <td>0</td>\n",
              "      <td>0</td>\n",
              "      <td>0</td>\n",
              "      <td>0</td>\n",
              "      <td>8067</td>\n",
              "      <td>14984</td>\n",
              "      <td>22809</td>\n",
              "      <td>242</td>\n",
              "      <td>0.684225</td>\n",
              "      <td>0.806628</td>\n",
              "      <td>0.824099</td>\n",
              "      <td>0.828707</td>\n",
              "    </tr>\n",
              "    <tr>\n",
              "      <th>fold_1</th>\n",
              "      <td>0</td>\n",
              "      <td>0</td>\n",
              "      <td>0</td>\n",
              "      <td>0</td>\n",
              "      <td>0</td>\n",
              "      <td>0</td>\n",
              "      <td>23051</td>\n",
              "      <td>22540</td>\n",
              "      <td>511</td>\n",
              "      <td>0.864724</td>\n",
              "      <td>0.958097</td>\n",
              "      <td>0.958504</td>\n",
              "      <td>0.947472</td>\n",
              "    </tr>\n",
              "    <tr>\n",
              "      <th>fold_2</th>\n",
              "      <td>17529</td>\n",
              "      <td>0</td>\n",
              "      <td>0</td>\n",
              "      <td>0</td>\n",
              "      <td>0</td>\n",
              "      <td>0</td>\n",
              "      <td>5522</td>\n",
              "      <td>22983</td>\n",
              "      <td>68</td>\n",
              "      <td>0.900920</td>\n",
              "      <td>0.975296</td>\n",
              "      <td>0.971279</td>\n",
              "      <td>0.962727</td>\n",
              "    </tr>\n",
              "    <tr>\n",
              "      <th>fold_3</th>\n",
              "      <td>10529</td>\n",
              "      <td>12522</td>\n",
              "      <td>0</td>\n",
              "      <td>0</td>\n",
              "      <td>0</td>\n",
              "      <td>0</td>\n",
              "      <td>0</td>\n",
              "      <td>22913</td>\n",
              "      <td>138</td>\n",
              "      <td>0.809055</td>\n",
              "      <td>0.845663</td>\n",
              "      <td>0.837532</td>\n",
              "      <td>0.936275</td>\n",
              "    </tr>\n",
              "    <tr>\n",
              "      <th>fold_4</th>\n",
              "      <td>0</td>\n",
              "      <td>23051</td>\n",
              "      <td>0</td>\n",
              "      <td>0</td>\n",
              "      <td>0</td>\n",
              "      <td>0</td>\n",
              "      <td>0</td>\n",
              "      <td>22836</td>\n",
              "      <td>215</td>\n",
              "      <td>0.854851</td>\n",
              "      <td>0.971109</td>\n",
              "      <td>0.971113</td>\n",
              "      <td>0.965181</td>\n",
              "    </tr>\n",
              "    <tr>\n",
              "      <th>fold_5</th>\n",
              "      <td>0</td>\n",
              "      <td>17535</td>\n",
              "      <td>5516</td>\n",
              "      <td>0</td>\n",
              "      <td>0</td>\n",
              "      <td>0</td>\n",
              "      <td>0</td>\n",
              "      <td>22935</td>\n",
              "      <td>116</td>\n",
              "      <td>0.926021</td>\n",
              "      <td>0.971874</td>\n",
              "      <td>0.973538</td>\n",
              "      <td>0.974154</td>\n",
              "    </tr>\n",
              "    <tr>\n",
              "      <th>fold_6</th>\n",
              "      <td>0</td>\n",
              "      <td>0</td>\n",
              "      <td>23051</td>\n",
              "      <td>0</td>\n",
              "      <td>0</td>\n",
              "      <td>0</td>\n",
              "      <td>0</td>\n",
              "      <td>23041</td>\n",
              "      <td>10</td>\n",
              "      <td>0.730997</td>\n",
              "      <td>0.843223</td>\n",
              "      <td>0.850332</td>\n",
              "      <td>0.930059</td>\n",
              "    </tr>\n",
              "    <tr>\n",
              "      <th>fold_7</th>\n",
              "      <td>0</td>\n",
              "      <td>0</td>\n",
              "      <td>23051</td>\n",
              "      <td>0</td>\n",
              "      <td>0</td>\n",
              "      <td>0</td>\n",
              "      <td>0</td>\n",
              "      <td>22684</td>\n",
              "      <td>367</td>\n",
              "      <td>0.890430</td>\n",
              "      <td>0.983145</td>\n",
              "      <td>0.983193</td>\n",
              "      <td>0.982799</td>\n",
              "    </tr>\n",
              "    <tr>\n",
              "      <th>fold_8</th>\n",
              "      <td>0</td>\n",
              "      <td>0</td>\n",
              "      <td>3657</td>\n",
              "      <td>19394</td>\n",
              "      <td>0</td>\n",
              "      <td>0</td>\n",
              "      <td>0</td>\n",
              "      <td>22988</td>\n",
              "      <td>63</td>\n",
              "      <td>0.915613</td>\n",
              "      <td>0.990928</td>\n",
              "      <td>0.990865</td>\n",
              "      <td>0.988179</td>\n",
              "    </tr>\n",
              "    <tr>\n",
              "      <th>fold_9</th>\n",
              "      <td>0</td>\n",
              "      <td>0</td>\n",
              "      <td>0</td>\n",
              "      <td>22964</td>\n",
              "      <td>87</td>\n",
              "      <td>0</td>\n",
              "      <td>0</td>\n",
              "      <td>22787</td>\n",
              "      <td>264</td>\n",
              "      <td>0.929222</td>\n",
              "      <td>0.987920</td>\n",
              "      <td>0.987692</td>\n",
              "      <td>0.972223</td>\n",
              "    </tr>\n",
              "  </tbody>\n",
              "</table>\n",
              "</div>\n",
              "      <button class=\"colab-df-convert\" onclick=\"convertToInteractive('df-a0b79b3d-2758-4871-8fd7-d992d7c6c52f')\"\n",
              "              title=\"Convert this dataframe to an interactive table.\"\n",
              "              style=\"display:none;\">\n",
              "        \n",
              "  <svg xmlns=\"http://www.w3.org/2000/svg\" height=\"24px\"viewBox=\"0 0 24 24\"\n",
              "       width=\"24px\">\n",
              "    <path d=\"M0 0h24v24H0V0z\" fill=\"none\"/>\n",
              "    <path d=\"M18.56 5.44l.94 2.06.94-2.06 2.06-.94-2.06-.94-.94-2.06-.94 2.06-2.06.94zm-11 1L8.5 8.5l.94-2.06 2.06-.94-2.06-.94L8.5 2.5l-.94 2.06-2.06.94zm10 10l.94 2.06.94-2.06 2.06-.94-2.06-.94-.94-2.06-.94 2.06-2.06.94z\"/><path d=\"M17.41 7.96l-1.37-1.37c-.4-.4-.92-.59-1.43-.59-.52 0-1.04.2-1.43.59L10.3 9.45l-7.72 7.72c-.78.78-.78 2.05 0 2.83L4 21.41c.39.39.9.59 1.41.59.51 0 1.02-.2 1.41-.59l7.78-7.78 2.81-2.81c.8-.78.8-2.07 0-2.86zM5.41 20L4 18.59l7.72-7.72 1.47 1.35L5.41 20z\"/>\n",
              "  </svg>\n",
              "      </button>\n",
              "      \n",
              "  <style>\n",
              "    .colab-df-container {\n",
              "      display:flex;\n",
              "      flex-wrap:wrap;\n",
              "      gap: 12px;\n",
              "    }\n",
              "\n",
              "    .colab-df-convert {\n",
              "      background-color: #E8F0FE;\n",
              "      border: none;\n",
              "      border-radius: 50%;\n",
              "      cursor: pointer;\n",
              "      display: none;\n",
              "      fill: #1967D2;\n",
              "      height: 32px;\n",
              "      padding: 0 0 0 0;\n",
              "      width: 32px;\n",
              "    }\n",
              "\n",
              "    .colab-df-convert:hover {\n",
              "      background-color: #E2EBFA;\n",
              "      box-shadow: 0px 1px 2px rgba(60, 64, 67, 0.3), 0px 1px 3px 1px rgba(60, 64, 67, 0.15);\n",
              "      fill: #174EA6;\n",
              "    }\n",
              "\n",
              "    [theme=dark] .colab-df-convert {\n",
              "      background-color: #3B4455;\n",
              "      fill: #D2E3FC;\n",
              "    }\n",
              "\n",
              "    [theme=dark] .colab-df-convert:hover {\n",
              "      background-color: #434B5C;\n",
              "      box-shadow: 0px 1px 3px 1px rgba(0, 0, 0, 0.15);\n",
              "      filter: drop-shadow(0px 1px 2px rgba(0, 0, 0, 0.3));\n",
              "      fill: #FFFFFF;\n",
              "    }\n",
              "  </style>\n",
              "\n",
              "      <script>\n",
              "        const buttonEl =\n",
              "          document.querySelector('#df-a0b79b3d-2758-4871-8fd7-d992d7c6c52f button.colab-df-convert');\n",
              "        buttonEl.style.display =\n",
              "          google.colab.kernel.accessAllowed ? 'block' : 'none';\n",
              "\n",
              "        async function convertToInteractive(key) {\n",
              "          const element = document.querySelector('#df-a0b79b3d-2758-4871-8fd7-d992d7c6c52f');\n",
              "          const dataTable =\n",
              "            await google.colab.kernel.invokeFunction('convertToInteractive',\n",
              "                                                     [key], {});\n",
              "          if (!dataTable) return;\n",
              "\n",
              "          const docLinkHtml = 'Like what you see? Visit the ' +\n",
              "            '<a target=\"_blank\" href=https://colab.research.google.com/notebooks/data_table.ipynb>data table notebook</a>'\n",
              "            + ' to learn more about interactive tables.';\n",
              "          element.innerHTML = '';\n",
              "          dataTable['output_type'] = 'display_data';\n",
              "          await google.colab.output.renderOutput(dataTable, element);\n",
              "          const docLink = document.createElement('div');\n",
              "          docLink.innerHTML = docLinkHtml;\n",
              "          element.appendChild(docLink);\n",
              "        }\n",
              "      </script>\n",
              "    </div>\n",
              "  </div>\n",
              "  "
            ],
            "text/plain": [
              "        month_1  month_2  month_3  ...  CV_score2  CV_score3  CV_score4\n",
              "fold_0        0        0        0  ...   0.806628   0.824099   0.828707\n",
              "fold_1        0        0        0  ...   0.958097   0.958504   0.947472\n",
              "fold_2    17529        0        0  ...   0.975296   0.971279   0.962727\n",
              "fold_3    10529    12522        0  ...   0.845663   0.837532   0.936275\n",
              "fold_4        0    23051        0  ...   0.971109   0.971113   0.965181\n",
              "fold_5        0    17535     5516  ...   0.971874   0.973538   0.974154\n",
              "fold_6        0        0    23051  ...   0.843223   0.850332   0.930059\n",
              "fold_7        0        0    23051  ...   0.983145   0.983193   0.982799\n",
              "fold_8        0        0     3657  ...   0.990928   0.990865   0.988179\n",
              "fold_9        0        0        0  ...   0.987920   0.987692   0.972223\n",
              "\n",
              "[10 rows x 13 columns]"
            ]
          },
          "metadata": {},
          "execution_count": 53
        }
      ]
    },
    {
      "cell_type": "code",
      "source": [
        "selected_features_logit = ['num_only_alice_sites', 'session_timespan',\n",
        "                            'start_hour_9', 'start_hour_14', 'start_hour_15', 'morning', 'evening',\n",
        "                             'day_of_week_2', 'day_of_week_4', 'is_weekend',\n",
        "                            'month_2', 'month_3', 'month_4']\n",
        "\n",
        "_, cv_scores4 = cross_val_scheme(add_features=add_features_train.loc[:, selected_features_logit], cv=cv_split, print_add_coefs=False)"
      ],
      "metadata": {
        "colab": {
          "base_uri": "https://localhost:8080/"
        },
        "id": "u46OgbOSXGF4",
        "outputId": "60b39357-5a22-470c-8aac-b799e4cc9336"
      },
      "execution_count": 54,
      "outputs": [
        {
          "output_type": "stream",
          "name": "stdout",
          "text": [
            "CV Scores \n",
            " [0.94470542 0.88011035 0.838226   0.98617816 0.93423511 0.98106275\n",
            " 0.97190637 0.98137889 0.98663034 0.97911846]\n",
            "CV scores mean: 0.9484 \t CV scores std: 0.0485\n"
          ]
        }
      ]
    },
    {
      "cell_type": "code",
      "source": [
        "cv_split_df['CV_score2'] = cv_scores2\n",
        "cv_split_df['CV_score3'] = cv_scores3\n",
        "cv_split_df['CV_score4'] = cv_scores4\n",
        "cv_split_df"
      ],
      "metadata": {
        "colab": {
          "base_uri": "https://localhost:8080/",
          "height": 363
        },
        "id": "_kCBafOcXadN",
        "outputId": "76932773-9cae-4d5d-9618-8fc25b408fd8"
      },
      "execution_count": 55,
      "outputs": [
        {
          "output_type": "execute_result",
          "data": {
            "text/html": [
              "\n",
              "  <div id=\"df-9b349866-e152-41fb-acf0-ad9fbfd136a8\">\n",
              "    <div class=\"colab-df-container\">\n",
              "      <div>\n",
              "<style scoped>\n",
              "    .dataframe tbody tr th:only-of-type {\n",
              "        vertical-align: middle;\n",
              "    }\n",
              "\n",
              "    .dataframe tbody tr th {\n",
              "        vertical-align: top;\n",
              "    }\n",
              "\n",
              "    .dataframe thead th {\n",
              "        text-align: right;\n",
              "    }\n",
              "</style>\n",
              "<table border=\"1\" class=\"dataframe\">\n",
              "  <thead>\n",
              "    <tr style=\"text-align: right;\">\n",
              "      <th></th>\n",
              "      <th>month_1</th>\n",
              "      <th>month_2</th>\n",
              "      <th>month_3</th>\n",
              "      <th>month_4</th>\n",
              "      <th>month_5</th>\n",
              "      <th>month_11</th>\n",
              "      <th>month_12</th>\n",
              "      <th>CV_score1</th>\n",
              "      <th>CV_score2</th>\n",
              "      <th>CV_score3</th>\n",
              "      <th>CV_score4</th>\n",
              "    </tr>\n",
              "  </thead>\n",
              "  <tbody>\n",
              "    <tr>\n",
              "      <th>fold_0</th>\n",
              "      <td>0</td>\n",
              "      <td>0</td>\n",
              "      <td>0</td>\n",
              "      <td>0</td>\n",
              "      <td>0</td>\n",
              "      <td>25357</td>\n",
              "      <td>0</td>\n",
              "      <td>0.865764</td>\n",
              "      <td>0.924277</td>\n",
              "      <td>0.950091</td>\n",
              "      <td>0.944705</td>\n",
              "    </tr>\n",
              "    <tr>\n",
              "      <th>fold_1</th>\n",
              "      <td>0</td>\n",
              "      <td>0</td>\n",
              "      <td>0</td>\n",
              "      <td>0</td>\n",
              "      <td>0</td>\n",
              "      <td>5761</td>\n",
              "      <td>19595</td>\n",
              "      <td>0.807185</td>\n",
              "      <td>0.846965</td>\n",
              "      <td>0.864409</td>\n",
              "      <td>0.880110</td>\n",
              "    </tr>\n",
              "    <tr>\n",
              "      <th>fold_2</th>\n",
              "      <td>1762</td>\n",
              "      <td>0</td>\n",
              "      <td>0</td>\n",
              "      <td>0</td>\n",
              "      <td>0</td>\n",
              "      <td>0</td>\n",
              "      <td>23594</td>\n",
              "      <td>0.922878</td>\n",
              "      <td>0.846289</td>\n",
              "      <td>0.844211</td>\n",
              "      <td>0.838226</td>\n",
              "    </tr>\n",
              "    <tr>\n",
              "      <th>fold_3</th>\n",
              "      <td>25127</td>\n",
              "      <td>0</td>\n",
              "      <td>0</td>\n",
              "      <td>0</td>\n",
              "      <td>0</td>\n",
              "      <td>0</td>\n",
              "      <td>229</td>\n",
              "      <td>0.932940</td>\n",
              "      <td>0.994066</td>\n",
              "      <td>0.996055</td>\n",
              "      <td>0.986178</td>\n",
              "    </tr>\n",
              "    <tr>\n",
              "      <th>fold_4</th>\n",
              "      <td>1169</td>\n",
              "      <td>24048</td>\n",
              "      <td>0</td>\n",
              "      <td>0</td>\n",
              "      <td>0</td>\n",
              "      <td>0</td>\n",
              "      <td>139</td>\n",
              "      <td>0.815770</td>\n",
              "      <td>0.890908</td>\n",
              "      <td>0.896581</td>\n",
              "      <td>0.934235</td>\n",
              "    </tr>\n",
              "    <tr>\n",
              "      <th>fold_5</th>\n",
              "      <td>0</td>\n",
              "      <td>25356</td>\n",
              "      <td>0</td>\n",
              "      <td>0</td>\n",
              "      <td>0</td>\n",
              "      <td>0</td>\n",
              "      <td>0</td>\n",
              "      <td>0.919131</td>\n",
              "      <td>0.953060</td>\n",
              "      <td>0.953029</td>\n",
              "      <td>0.981063</td>\n",
              "    </tr>\n",
              "    <tr>\n",
              "      <th>fold_6</th>\n",
              "      <td>0</td>\n",
              "      <td>3704</td>\n",
              "      <td>21652</td>\n",
              "      <td>0</td>\n",
              "      <td>0</td>\n",
              "      <td>0</td>\n",
              "      <td>0</td>\n",
              "      <td>0.932166</td>\n",
              "      <td>0.970856</td>\n",
              "      <td>0.970974</td>\n",
              "      <td>0.971906</td>\n",
              "    </tr>\n",
              "    <tr>\n",
              "      <th>fold_7</th>\n",
              "      <td>0</td>\n",
              "      <td>0</td>\n",
              "      <td>25356</td>\n",
              "      <td>0</td>\n",
              "      <td>0</td>\n",
              "      <td>0</td>\n",
              "      <td>0</td>\n",
              "      <td>0.920182</td>\n",
              "      <td>0.990300</td>\n",
              "      <td>0.989585</td>\n",
              "      <td>0.981379</td>\n",
              "    </tr>\n",
              "    <tr>\n",
              "      <th>fold_8</th>\n",
              "      <td>0</td>\n",
              "      <td>0</td>\n",
              "      <td>8267</td>\n",
              "      <td>17089</td>\n",
              "      <td>0</td>\n",
              "      <td>0</td>\n",
              "      <td>0</td>\n",
              "      <td>0.925187</td>\n",
              "      <td>0.976082</td>\n",
              "      <td>0.976333</td>\n",
              "      <td>0.986630</td>\n",
              "    </tr>\n",
              "    <tr>\n",
              "      <th>fold_9</th>\n",
              "      <td>0</td>\n",
              "      <td>0</td>\n",
              "      <td>0</td>\n",
              "      <td>25269</td>\n",
              "      <td>87</td>\n",
              "      <td>0</td>\n",
              "      <td>0</td>\n",
              "      <td>0.935610</td>\n",
              "      <td>0.991093</td>\n",
              "      <td>0.991151</td>\n",
              "      <td>0.979118</td>\n",
              "    </tr>\n",
              "  </tbody>\n",
              "</table>\n",
              "</div>\n",
              "      <button class=\"colab-df-convert\" onclick=\"convertToInteractive('df-9b349866-e152-41fb-acf0-ad9fbfd136a8')\"\n",
              "              title=\"Convert this dataframe to an interactive table.\"\n",
              "              style=\"display:none;\">\n",
              "        \n",
              "  <svg xmlns=\"http://www.w3.org/2000/svg\" height=\"24px\"viewBox=\"0 0 24 24\"\n",
              "       width=\"24px\">\n",
              "    <path d=\"M0 0h24v24H0V0z\" fill=\"none\"/>\n",
              "    <path d=\"M18.56 5.44l.94 2.06.94-2.06 2.06-.94-2.06-.94-.94-2.06-.94 2.06-2.06.94zm-11 1L8.5 8.5l.94-2.06 2.06-.94-2.06-.94L8.5 2.5l-.94 2.06-2.06.94zm10 10l.94 2.06.94-2.06 2.06-.94-2.06-.94-.94-2.06-.94 2.06-2.06.94z\"/><path d=\"M17.41 7.96l-1.37-1.37c-.4-.4-.92-.59-1.43-.59-.52 0-1.04.2-1.43.59L10.3 9.45l-7.72 7.72c-.78.78-.78 2.05 0 2.83L4 21.41c.39.39.9.59 1.41.59.51 0 1.02-.2 1.41-.59l7.78-7.78 2.81-2.81c.8-.78.8-2.07 0-2.86zM5.41 20L4 18.59l7.72-7.72 1.47 1.35L5.41 20z\"/>\n",
              "  </svg>\n",
              "      </button>\n",
              "      \n",
              "  <style>\n",
              "    .colab-df-container {\n",
              "      display:flex;\n",
              "      flex-wrap:wrap;\n",
              "      gap: 12px;\n",
              "    }\n",
              "\n",
              "    .colab-df-convert {\n",
              "      background-color: #E8F0FE;\n",
              "      border: none;\n",
              "      border-radius: 50%;\n",
              "      cursor: pointer;\n",
              "      display: none;\n",
              "      fill: #1967D2;\n",
              "      height: 32px;\n",
              "      padding: 0 0 0 0;\n",
              "      width: 32px;\n",
              "    }\n",
              "\n",
              "    .colab-df-convert:hover {\n",
              "      background-color: #E2EBFA;\n",
              "      box-shadow: 0px 1px 2px rgba(60, 64, 67, 0.3), 0px 1px 3px 1px rgba(60, 64, 67, 0.15);\n",
              "      fill: #174EA6;\n",
              "    }\n",
              "\n",
              "    [theme=dark] .colab-df-convert {\n",
              "      background-color: #3B4455;\n",
              "      fill: #D2E3FC;\n",
              "    }\n",
              "\n",
              "    [theme=dark] .colab-df-convert:hover {\n",
              "      background-color: #434B5C;\n",
              "      box-shadow: 0px 1px 3px 1px rgba(0, 0, 0, 0.15);\n",
              "      filter: drop-shadow(0px 1px 2px rgba(0, 0, 0, 0.3));\n",
              "      fill: #FFFFFF;\n",
              "    }\n",
              "  </style>\n",
              "\n",
              "      <script>\n",
              "        const buttonEl =\n",
              "          document.querySelector('#df-9b349866-e152-41fb-acf0-ad9fbfd136a8 button.colab-df-convert');\n",
              "        buttonEl.style.display =\n",
              "          google.colab.kernel.accessAllowed ? 'block' : 'none';\n",
              "\n",
              "        async function convertToInteractive(key) {\n",
              "          const element = document.querySelector('#df-9b349866-e152-41fb-acf0-ad9fbfd136a8');\n",
              "          const dataTable =\n",
              "            await google.colab.kernel.invokeFunction('convertToInteractive',\n",
              "                                                     [key], {});\n",
              "          if (!dataTable) return;\n",
              "\n",
              "          const docLinkHtml = 'Like what you see? Visit the ' +\n",
              "            '<a target=\"_blank\" href=https://colab.research.google.com/notebooks/data_table.ipynb>data table notebook</a>'\n",
              "            + ' to learn more about interactive tables.';\n",
              "          element.innerHTML = '';\n",
              "          dataTable['output_type'] = 'display_data';\n",
              "          await google.colab.output.renderOutput(dataTable, element);\n",
              "          const docLink = document.createElement('div');\n",
              "          docLink.innerHTML = docLinkHtml;\n",
              "          element.appendChild(docLink);\n",
              "        }\n",
              "      </script>\n",
              "    </div>\n",
              "  </div>\n",
              "  "
            ],
            "text/plain": [
              "        month_1  month_2  month_3  ...  CV_score2  CV_score3  CV_score4\n",
              "fold_0        0        0        0  ...   0.924277   0.950091   0.944705\n",
              "fold_1        0        0        0  ...   0.846965   0.864409   0.880110\n",
              "fold_2     1762        0        0  ...   0.846289   0.844211   0.838226\n",
              "fold_3    25127        0        0  ...   0.994066   0.996055   0.986178\n",
              "fold_4     1169    24048        0  ...   0.890908   0.896581   0.934235\n",
              "fold_5        0    25356        0  ...   0.953060   0.953029   0.981063\n",
              "fold_6        0     3704    21652  ...   0.970856   0.970974   0.971906\n",
              "fold_7        0        0    25356  ...   0.990300   0.989585   0.981379\n",
              "fold_8        0        0     8267  ...   0.976082   0.976333   0.986630\n",
              "fold_9        0        0        0  ...   0.991093   0.991151   0.979118\n",
              "\n",
              "[10 rows x 11 columns]"
            ]
          },
          "metadata": {},
          "execution_count": 55
        }
      ]
    },
    {
      "cell_type": "markdown",
      "source": [
        "We can arrive at roughly the same set of additional features if we choose them by a [SequentialFeatureSelector](http://rasbt.github.io/mlxtend/user_guide/feature_selection/SequentialFeatureSelector/).\n",
        "\n",
        "We choose the $\\text{cv scores mean} - \\text{cv scores std}$ as the metric for optimization."
      ],
      "metadata": {
        "id": "DiLuh6Glay16"
      }
    },
    {
      "cell_type": "code",
      "metadata": {
        "id": "MEUMJrX62gOs"
      },
      "source": [
        "def cv_mean_minus_cv_std(estimator, X, y):\n",
        "    cv_scores = cross_val_score(estimator, X, y, scoring='roc_auc', cv=time_split, n_jobs=-1)\n",
        "    return cv_scores.mean() - cv_scores.std()"
      ],
      "execution_count": 56,
      "outputs": []
    },
    {
      "cell_type": "code",
      "source": [
        "import joblib\n",
        "import sys\n",
        "sys.modules['sklearn.externals.joblib'] = joblib\n",
        "from mlxtend.feature_selection import SequentialFeatureSelector\n",
        "seq_selector_logit = SequentialFeatureSelector(logit, k_features='best', forward=True, floating=True, \n",
        "                                     verbose=1, scoring=cv_mean_minus_cv_std, cv=None)\n",
        "seq_selector_logit.fit(\n",
        "    add_features_train.values,\n",
        "    targets.values,\n",
        "    custom_feature_names=list(add_features_train.columns)\n",
        ")"
      ],
      "metadata": {
        "id": "pTo5pvfoXC7j"
      },
      "execution_count": null,
      "outputs": []
    },
    {
      "cell_type": "code",
      "source": [
        "seq_selector_logit.k_feature_names_, seq_selector_logit.k_score_"
      ],
      "metadata": {
        "colab": {
          "base_uri": "https://localhost:8080/"
        },
        "outputId": "ee50f2dd-64f6-4e0e-d226-3e0bae91510c",
        "id": "Qgx45DaNAkIE"
      },
      "execution_count": null,
      "outputs": [
        {
          "output_type": "execute_result",
          "data": {
            "text/plain": [
              "(('num_only_alice_sites',\n",
              "  'session_timespan',\n",
              "  'start_hour_14',\n",
              "  'start_hour_15',\n",
              "  'day_of_week_2',\n",
              "  'day_of_week_4',\n",
              "  'month_1',\n",
              "  'month_3',\n",
              "  'day',\n",
              "  'evening',\n",
              "  'is_weekend'),\n",
              " 0.897712832485524)"
            ]
          },
          "metadata": {},
          "execution_count": 77
        }
      ]
    },
    {
      "cell_type": "markdown",
      "metadata": {
        "id": "8CFtup6rBSTM"
      },
      "source": [
        "So as we expected, if we explicitly optimize the metric `cv_mean-cv_std`, then some of the highest ranking features (such as `12-13`, `16-18`) don't show up in the final features set. Some manual tweaking is still needed, however. Let's fix the final features set and make a prediction:"
      ]
    },
    {
      "cell_type": "code",
      "source": [
        "features_train = hstack([X_train_sparse, add_features_train.loc[:, selected_features_logit]]).tocsr()\n",
        "features_test = hstack([X_test_sparse, add_features_test.loc[:, selected_features_logit]]).tocsr()"
      ],
      "metadata": {
        "id": "m3PoGF4IwiJz"
      },
      "execution_count": 61,
      "outputs": []
    },
    {
      "cell_type": "code",
      "source": [
        "logit.fit(features_train, targets)\n",
        "predicted_labels_logit1 = logit.predict_proba(features_test)[:, 1]\n",
        "write_to_submission_file(predicted_labels_logit1, os.path.join(PATH_TO_DATA, 'subm_logit1.txt')) \n",
        "\"\"\"\n",
        "cutoff = cutoff_2013 => 0.96059\n",
        "no cutoff => 0.96283\n",
        "\"\"\""
      ],
      "metadata": {
        "id": "wQzOCDAs5BWq",
        "colab": {
          "base_uri": "https://localhost:8080/",
          "height": 35
        },
        "outputId": "f0aa00e4-869b-49a7-dd71-e992e5dfb57e"
      },
      "execution_count": 62,
      "outputs": [
        {
          "output_type": "execute_result",
          "data": {
            "application/vnd.google.colaboratory.intrinsic+json": {
              "type": "string"
            },
            "text/plain": [
              "'\\ncutoff = cutoff_2013 => 0.96059\\nno cutoff => 0.96283\\n'"
            ]
          },
          "metadata": {},
          "execution_count": 62
        }
      ]
    },
    {
      "cell_type": "markdown",
      "source": [
        "## 5. Hyperparameter tuning\n",
        "\n",
        "Finally, we tune the regularization parameter $C$. Let's plot the validation curves:"
      ],
      "metadata": {
        "id": "qS5OBzhxMVRC"
      }
    },
    {
      "cell_type": "code",
      "source": [
        "from sklearn.model_selection import learning_curve, validation_curve\n",
        "def plot_validation_curve(estimator, X, y, param_name, param_range, plot=plt.plot, title=None, scoring=None, ylim=None, cv=None,\n",
        "                        n_jobs=None):\n",
        "    \n",
        "    train_scores, test_scores = validation_curve(\n",
        "        estimator, X, y,\n",
        "        param_name=param_name, param_range=param_range,\n",
        "        scoring=scoring, cv=cv, n_jobs=n_jobs\n",
        "        )\n",
        "    \n",
        "    train_scores_mean = np.mean(train_scores, axis=1)\n",
        "    train_scores_std = np.std(train_scores, axis=1)\n",
        "    test_scores_mean = np.mean(test_scores, axis=1)\n",
        "    test_scores_std = np.std(test_scores, axis=1)\n",
        "\n",
        "    if title is None:\n",
        "      title = f'Validation curve for {estimator.__class__.__name__} with respect to {param_name}'\n",
        "    plt.title(title)\n",
        "    plt.grid()\n",
        "    plt.xlabel(param_name)\n",
        "    plt.xticks(ticks=param_range)\n",
        "    plt.ylabel(str(scoring))\n",
        "    if ylim is not None:\n",
        "        plt.ylim(*ylim)\n",
        "    lw = 2\n",
        "    \n",
        "    plot(param_range, train_scores_mean, label=\"Training score\",\n",
        "             color=\"darkorange\", lw=lw)\n",
        "    plt.fill_between(param_range, train_scores_mean - train_scores_std,\n",
        "                    train_scores_mean + train_scores_std, alpha=0.2,\n",
        "                    color=\"darkorange\", lw=lw)\n",
        "    \n",
        "    plot(param_range, test_scores_mean, label=\"Cross-validation score\",\n",
        "                color=\"navy\", lw=lw)\n",
        "    plt.fill_between(param_range, test_scores_mean - test_scores_std,\n",
        "                    test_scores_mean + test_scores_std, alpha=0.2,\n",
        "                    color=\"navy\", lw=lw)\n",
        "    \n",
        "    plt.legend(loc=\"best\")\n",
        "    plt.show()"
      ],
      "metadata": {
        "id": "sVmEhzqYMYKt"
      },
      "execution_count": null,
      "outputs": []
    },
    {
      "cell_type": "code",
      "source": [
        "plot_validation_curve(logit, features_train, targets,\n",
        "                      param_name='C' , param_range=np.logspace(-3, 3, 7), cv=time_split, scoring='roc_auc',\n",
        "                      plot=plt.semilogx, n_jobs=-1)"
      ],
      "metadata": {
        "colab": {
          "base_uri": "https://localhost:8080/",
          "height": 299
        },
        "id": "g7O3RygBMBGm",
        "outputId": "c9b8f727-1e4f-4a32-9246-22ef2f549610"
      },
      "execution_count": null,
      "outputs": [
        {
          "output_type": "display_data",
          "data": {
            "image/png": "[encoded data removed]",
            "text/plain": [
              "<Figure size 432x288 with 1 Axes>"
            ]
          },
          "metadata": {
            "needs_background": "light"
          }
        }
      ]
    },
    {
      "cell_type": "code",
      "source": [
        "plot_validation_curve(logit, features_train, targets,\n",
        "                      param_name='C', param_range=np.linspace(1, 10, 10), cv=time_split, scoring='roc_auc',\n",
        "                      n_jobs=-1)"
      ],
      "metadata": {
        "colab": {
          "base_uri": "https://localhost:8080/",
          "height": 295
        },
        "id": "7eh6ZdSqRDAG",
        "outputId": "1b2ce00a-e7bd-47b6-ee3c-2e5e3a44fc03"
      },
      "execution_count": null,
      "outputs": [
        {
          "output_type": "display_data",
          "data": {
            "image/png": "[encoded data removed]",
            "text/plain": [
              "<Figure size 432x288 with 1 Axes>"
            ]
          },
          "metadata": {
            "needs_background": "light"
          }
        }
      ]
    },
    {
      "cell_type": "markdown",
      "source": [
        "So the maximum is around 2 or 3."
      ],
      "metadata": {
        "id": "sbgKfQf5yxh0"
      }
    },
    {
      "cell_type": "code",
      "source": [
        "logit.C = 3\n",
        "predicted_labels_logit2 = logit.predict_proba(features_test)[:, 1]\n",
        "write_to_submission_file(predicted_labels_logit2, os.path.join(PATH_TO_DATA, 'subm_logit2.txt')) # 0.96452"
      ],
      "metadata": {
        "id": "52LlwOVuxeiE"
      },
      "execution_count": 63,
      "outputs": []
    },
    {
      "cell_type": "markdown",
      "metadata": {
        "id": "yd7v2Rn5BSTS"
      },
      "source": [
        "We also try $L_1$ regularization instead of $L_2.$ The validation plots are nodescriptive in this case, and conducting a cross-validation with a high $C$ value takes too much time, so we simply train the model with a relatively high value of $C$, obtaining our best result so far:"
      ]
    },
    {
      "cell_type": "code",
      "source": [
        "logit_l1 = LogisticRegression(penalty='l1', C=15, solver='saga', \n",
        "                                  max_iter=100, random_state=17, n_jobs=-1, verbose=2)\n",
        "\n",
        "logit_l1.fit(features_train, targets)\n",
        "predicted_labels_logit_l1 = logit_l1.predict_proba(features_test)[:, 1]\n",
        "write_to_submission_file(predicted_labels_logit_l1, os.path.join(PATH_TO_DATA, 'subm_logit_l1.txt')) # 0.96663"
      ],
      "metadata": {
        "colab": {
          "base_uri": "https://localhost:8080/"
        },
        "id": "9oh5OCITO8B4",
        "outputId": "6c3edf34-86a7-49ac-96e9-7601171eed97"
      },
      "execution_count": null,
      "outputs": [
        {
          "output_type": "stream",
          "name": "stderr",
          "text": [
            "[Parallel(n_jobs=-1)]: Using backend ThreadingBackend with 2 concurrent workers.\n"
          ]
        },
        {
          "output_type": "stream",
          "name": "stdout",
          "text": [
            "max_iter reached after 1478 seconds\n"
          ]
        },
        {
          "output_type": "stream",
          "name": "stderr",
          "text": [
            "[Parallel(n_jobs=-1)]: Done   1 out of   1 | elapsed: 24.6min finished\n"
          ]
        }
      ]
    },
    {
      "cell_type": "markdown",
      "source": [
        "## 6. Extra stuff\n",
        "\n",
        "Some approaches that didn't work:\n",
        "\n",
        "- Making a pipeline \"$L_1$ feature selection $\\Rightarrow L_2$ regularization\";\n",
        "- Training an SVM model;\n",
        "- Applying ElasticNet regularization (it turns out that $L_1$ penalty is optimal);\n",
        "- Training a random forest on a selected set of additional features (the resulting model is very unstable and depends a lot on the order of the features, even with `n_estimators=1000`);\n",
        "- Making an ensemble solution of some of the solutions.\n",
        "\n",
        "Some code can be found below.\n"
      ],
      "metadata": {
        "id": "bkAF-rUPyzcG"
      }
    },
    {
      "cell_type": "markdown",
      "source": [
        "A pipeline:"
      ],
      "metadata": {
        "id": "t6q-nSqc6R7i"
      }
    },
    {
      "cell_type": "code",
      "source": [
        "logit_l1 = LogisticRegression(penalty='l1', C=11, solver='saga', \n",
        "                                  max_iter=100, random_state=17, n_jobs=-1, verbose=2)\n",
        "selector = SelectFromModel(logit_l1)"
      ],
      "metadata": {
        "id": "hjY01za6Czzf"
      },
      "execution_count": 64,
      "outputs": []
    },
    {
      "cell_type": "code",
      "metadata": {
        "id": "J2KQxj2XBSTc",
        "outputId": "bdaedc84-9c0b-4141-f0da-9d4de38761b6"
      },
      "source": [
        "Cs_select_lin = np.linspace(1, 10, 5)\n",
        "Cs_logit_lin = np.linspace(1, 10, 5)\n",
        "\n",
        "location = 'cachedir'\n",
        "memory = Memory(location=location, verbose=10)\n",
        "\n",
        "param_grid_lin = {\n",
        "    'feature_selector__estimator__C': Cs_select_lin,\n",
        "    'classifier__C': Cs_logit_lin\n",
        "}\n",
        "\n",
        "pipe_logit_lin = Pipeline(\n",
        "    [('feature_selector', selector),\n",
        "    ('classifier', logit)],\n",
        "    memory=memory\n",
        ")\n",
        "\n",
        "grid_lin = GridSearchCV(pipe_logit_lin, scoring='roc_auc', n_jobs=-1, param_grid=param_grid_lin,\n",
        "                    cv=time_split, verbose=1)\n",
        "\n",
        "grid_lin.fit(features_train, targets)"
      ],
      "execution_count": null,
      "outputs": [
        {
          "output_type": "stream",
          "text": [
            "Fitting 10 folds for each of 25 candidates, totalling 250 fits\n"
          ],
          "name": "stdout"
        },
        {
          "output_type": "stream",
          "text": [
            "[Parallel(n_jobs=-1)]: Using backend LokyBackend with 4 concurrent workers.\n",
            "[Parallel(n_jobs=-1)]: Done  42 tasks      | elapsed: 30.8min\n",
            "[Parallel(n_jobs=-1)]: Done 192 tasks      | elapsed: 53.2min\n",
            "[Parallel(n_jobs=-1)]: Done 250 out of 250 | elapsed: 62.2min finished\n"
          ],
          "name": "stderr"
        },
        {
          "output_type": "stream",
          "text": [
            "________________________________________________________________________________\n",
            "[Memory] Calling sklearn.pipeline._fit_transform_one...\n",
            "_fit_transform_one(SelectFromModel(estimator=LogisticRegression(C=10.0, n_jobs=-1, penalty='l1',\n",
            "                                             random_state=17, solver='saga',\n",
            "                                             verbose=2)), \n",
            "<228204x50012 sparse matrix of type '<class 'numpy.float64'>'\n",
            "\twith 4341717 stored elements in Compressed Sparse Row format>, \n",
            "session_id\n",
            "27554     0\n",
            "81350     0\n",
            "234665    0\n",
            "97610     0\n",
            "161358    0\n",
            "         ..\n",
            "207221    0\n",
            "76516     0\n",
            "65199     0\n",
            "252772    0\n",
            "157804    0\n",
            "Name: target, Length: 228204, dtype: int64, \n",
            "None, message_clsname='Pipeline', message=None)\n"
          ],
          "name": "stdout"
        },
        {
          "output_type": "stream",
          "text": [
            "[Parallel(n_jobs=-1)]: Using backend ThreadingBackend with 4 concurrent workers.\n"
          ],
          "name": "stderr"
        },
        {
          "output_type": "stream",
          "text": [
            "max_iter reached after 1012 seconds\n"
          ],
          "name": "stdout"
        },
        {
          "output_type": "stream",
          "text": [
            "[Parallel(n_jobs=-1)]: Done   1 out of   1 | elapsed: 16.9min finished\n"
          ],
          "name": "stderr"
        },
        {
          "output_type": "stream",
          "text": [
            "____________________________________________fit_transform_one - 1017.2s, 17.0min\n"
          ],
          "name": "stdout"
        },
        {
          "output_type": "execute_result",
          "data": {
            "text/plain": [
              "GridSearchCV(cv=TimeSeriesSplit(max_train_size=None, n_splits=10),\n",
              "             estimator=Pipeline(memory=Memory(location=cachedir\\joblib),\n",
              "                                steps=[('feature_selector',\n",
              "                                        SelectFromModel(estimator=LogisticRegression(C=1,\n",
              "                                                                                     n_jobs=-1,\n",
              "                                                                                     penalty='l1',\n",
              "                                                                                     random_state=17,\n",
              "                                                                                     solver='saga',\n",
              "                                                                                     verbose=2))),\n",
              "                                       ('classifier',\n",
              "                                        LogisticRegression(C=1, random_state=17,\n",
              "                                                           solver='liblinear'))]),\n",
              "             n_jobs=-1,\n",
              "             param_grid={'classifier__C': array([ 1.  ,  3.25,  5.5 ,  7.75, 10.  ]),\n",
              "                         'feature_selector__estimator__C': array([ 1.  ,  3.25,  5.5 ,  7.75, 10.  ])},\n",
              "             scoring='roc_auc', verbose=1)"
            ]
          },
          "metadata": {
            "tags": []
          },
          "execution_count": 465
        }
      ]
    },
    {
      "cell_type": "code",
      "metadata": {
        "id": "iEfLr2OsBSTd",
        "outputId": "51e9a0b4-d9b1-472e-eb09-c9fdf038ac31"
      },
      "source": [
        "grid_lin.best_params_, grid_lin.best_score_"
      ],
      "execution_count": null,
      "outputs": [
        {
          "output_type": "execute_result",
          "data": {
            "text/plain": [
              "({'classifier__C': 3.25, 'feature_selector__estimator__C': 10.0},\n",
              " 0.9463420580576412)"
            ]
          },
          "metadata": {
            "tags": []
          },
          "execution_count": 469
        }
      ]
    },
    {
      "cell_type": "code",
      "source": [
        "logit_pipe = grid_lin.best_estimator_\n",
        "predicted_labels_logit_pipe = logit_pipe.predict_proba(features_test)[:, 1]\n",
        "write_to_submission_file(predicted_labels_logit_pipe, os.path.join(PATH_TO_DATA, 'subm_logit_pipe.txt')) #0.96447"
      ],
      "metadata": {
        "id": "6QEL1Nn0GarE"
      },
      "execution_count": null,
      "outputs": []
    },
    {
      "cell_type": "markdown",
      "source": [
        "SVM model:"
      ],
      "metadata": {
        "id": "sXP9qa_B6W8b"
      }
    },
    {
      "cell_type": "code",
      "metadata": {
        "id": "U510Q-nsBSTh",
        "outputId": "b08a58ad-b7e8-41c8-abc1-837e82ec1b9e",
        "colab": {
          "base_uri": "https://localhost:8080/"
        }
      },
      "source": [
        "svm = LinearSVC(random_state=17)\n",
        "\n",
        "Cs_lin = np.linspace(0.01, 0.1, 10)\n",
        "svm_cv = GridSearchCV(svm, scoring='roc_auc', n_jobs=-1, param_grid={'C': Cs_lin},\n",
        "                    cv=time_split, verbose=1)\n",
        "svm_cv.fit(features_train, targets)"
      ],
      "execution_count": 65,
      "outputs": [
        {
          "output_type": "stream",
          "name": "stdout",
          "text": [
            "Fitting 10 folds for each of 10 candidates, totalling 100 fits\n"
          ]
        },
        {
          "output_type": "execute_result",
          "data": {
            "text/plain": [
              "GridSearchCV(cv=TimeSeriesSplit(gap=0, max_train_size=None, n_splits=10, test_size=None),\n",
              "             estimator=LinearSVC(random_state=17), n_jobs=-1,\n",
              "             param_grid={'C': array([0.01, 0.02, 0.03, 0.04, 0.05, 0.06, 0.07, 0.08, 0.09, 0.1 ])},\n",
              "             scoring='roc_auc', verbose=1)"
            ]
          },
          "metadata": {},
          "execution_count": 65
        }
      ]
    },
    {
      "cell_type": "code",
      "metadata": {
        "id": "iWu3kKKYBSTi",
        "outputId": "48bfde32-ee41-4cbb-dcae-c7362a8ae9a9",
        "colab": {
          "base_uri": "https://localhost:8080/"
        }
      },
      "source": [
        "svm_cv.best_params_"
      ],
      "execution_count": 66,
      "outputs": [
        {
          "output_type": "execute_result",
          "data": {
            "text/plain": [
              "{'C': 0.06000000000000001}"
            ]
          },
          "metadata": {},
          "execution_count": 66
        }
      ]
    },
    {
      "cell_type": "code",
      "metadata": {
        "colab": {
          "base_uri": "https://localhost:8080/"
        },
        "id": "EwoFhNJGNXDT",
        "outputId": "ca015d1f-23cb-42d2-e5fa-17091533e0e5"
      },
      "source": [
        "svm = LinearSVC(C=0.06, random_state=17)\n",
        "\n",
        "svm, _ = cross_val_scheme(model=svm, add_features=add_features_train.loc[:, selected_features_logit])"
      ],
      "execution_count": 67,
      "outputs": [
        {
          "output_type": "stream",
          "name": "stdout",
          "text": [
            "CV Scores \n",
            " [0.81955289 0.92930802 0.96921382 0.93764568 0.96279579 0.97592352\n",
            " 0.93699492 0.97902548 0.9875318  0.96990758]\n",
            "CV scores mean: 0.9468 \t CV scores std: 0.0464\n",
            "                 feature     coef_\n",
            "2           start_hour_9  0.405384\n",
            "0   num_only_alice_sites  0.060045\n",
            "1       session_timespan -0.009258\n",
            "11               month_3 -0.035817\n",
            "12               month_4 -0.047414\n",
            "10               month_2 -0.049249\n",
            "8          day_of_week_4 -0.150189\n",
            "4          start_hour_15 -0.379319\n",
            "7          day_of_week_2 -0.436887\n",
            "6                evening -0.496458\n",
            "9             is_weekend -0.554617\n",
            "3          start_hour_14 -0.725472\n",
            "5                morning -0.817008\n"
          ]
        }
      ]
    },
    {
      "cell_type": "code",
      "metadata": {
        "id": "8fbLuiDPBSTj"
      },
      "source": [
        "predicted_labels_svm = svm.decision_function(features_test)\n",
        "predicted_labels_svm -= predicted_labels_svm.min()\n",
        "predicted_labels_svm /= predicted_labels_svm.max()\n",
        "write_to_submission_file(predicted_labels_svm, os.path.join(PATH_TO_DATA, 'subm_svm.txt')) #0.96447"
      ],
      "execution_count": 68,
      "outputs": []
    },
    {
      "cell_type": "markdown",
      "metadata": {
        "id": "BPp-HWomBSS8"
      },
      "source": [
        "Random forest model:"
      ]
    },
    {
      "cell_type": "code",
      "metadata": {
        "id": "c-tsZ149BSTH"
      },
      "source": [
        "rf = RandomForestClassifier(n_jobs=-1, max_depth=4, class_weight='balanced', n_estimators=100, random_state=17)\n",
        "\n",
        "seq_selector_rf = SequentialFeatureSelector(rf, k_features='best', forward=False, floating=True, \n",
        "                                     verbose=1, scoring=cv_mean_minus_cv_std, cv=None)\n",
        "seq_selector_rf.fit(\n",
        "    add_features_train,\n",
        "    targets,\n",
        "    custom_feature_names=list(add_features_train.columns)\n",
        ")"
      ],
      "execution_count": null,
      "outputs": []
    },
    {
      "cell_type": "code",
      "metadata": {
        "id": "PPHC_i8TBSTI",
        "outputId": "2435c3a2-ce88-4247-9078-dfb8392f219c"
      },
      "source": [
        "seq_selector_rf.k_feature_names_, seq_selector_rf.k_score_ "
      ],
      "execution_count": null,
      "outputs": [
        {
          "output_type": "execute_result",
          "data": {
            "text/plain": [
              "(('num_only_alice_sites',\n",
              "  'session_timespan',\n",
              "  'start_hour_14',\n",
              "  'start_hour_15',\n",
              "  'day_of_week_2',\n",
              "  'day_of_week_4',\n",
              "  'month_2',\n",
              "  '12-13',\n",
              "  'morning',\n",
              "  'evening',\n",
              "  'is_weekend'),\n",
              " 0.8957908501057369)"
            ]
          },
          "metadata": {
            "tags": []
          },
          "execution_count": 54
        }
      ]
    },
    {
      "cell_type": "code",
      "source": [
        "selected_features_rf = seq_selector_rf.k_feature_names_\n",
        "\n",
        "rf = RandomForestClassifier(n_jobs=-1, max_depth=4, class_weight='balanced', n_estimators=500, random_state=17)\n",
        "\n",
        "cross_val_scheme(model=rf, base_features=None, add_features=add_features_train.loc[:, selected_features_rf], cv=time_split)"
      ],
      "metadata": {
        "id": "ru6w4D4PKGbL",
        "colab": {
          "base_uri": "https://localhost:8080/"
        },
        "outputId": "1986b73e-9266-4066-a787-9b75325854fd"
      },
      "execution_count": 121,
      "outputs": [
        {
          "output_type": "stream",
          "name": "stdout",
          "text": [
            "CV Scores \n",
            " [0.83600835 0.94549329 0.94887142 0.90311636 0.91114458 0.97195316\n",
            " 0.93747667 0.96964923 0.9515061  0.92616554]\n",
            "CV scores mean: 0.9301 \t CV scores std: 0.0379\n",
            "                 feature  feature_importances_\n",
            "3                morning              0.374552\n",
            "4   num_only_alice_sites              0.296664\n",
            "9          day_of_week_2              0.143010\n",
            "0          start_hour_14              0.078955\n",
            "6       session_timespan              0.035388\n",
            "1          start_hour_15              0.025199\n",
            "2             is_weekend              0.017278\n",
            "7                  12-13              0.011756\n",
            "5                evening              0.010272\n",
            "10         day_of_week_4              0.004997\n",
            "8                month_4              0.001929\n"
          ]
        },
        {
          "output_type": "execute_result",
          "data": {
            "text/plain": [
              "(RandomForestClassifier(class_weight='balanced', max_depth=4, n_estimators=500,\n",
              "                        n_jobs=-1, random_state=17),\n",
              " array([0.83600835, 0.94549329, 0.94887142, 0.90311636, 0.91114458,\n",
              "        0.97195316, 0.93747667, 0.96964923, 0.9515061 , 0.92616554]))"
            ]
          },
          "metadata": {},
          "execution_count": 121
        }
      ]
    },
    {
      "cell_type": "code",
      "source": [
        "rf = RandomForestClassifier(n_jobs=-1, max_depth=4, class_weight='balanced', n_estimators=1000, random_state=17)\n",
        "rf.fit(add_features_train.loc[:, selected_features_rf], targets)\n",
        "predicted_labels_rf = rf.predict_proba(add_features_test.loc[:, selected_features_rf])[:, 1]\n",
        "write_to_submission_file(predicted_labels_rf, os.path.join(PATH_TO_DATA, 'subm_rf.txt')) #0.937"
      ],
      "metadata": {
        "id": "x7jR07rmqvue"
      },
      "execution_count": 123,
      "outputs": []
    }
  ]
}